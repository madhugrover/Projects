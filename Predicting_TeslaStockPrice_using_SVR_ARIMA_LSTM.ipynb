{
  "nbformat": 4,
  "nbformat_minor": 0,
  "metadata": {
    "colab": {
      "name": "Predicting_TeslaStockPrice_using_SVR_ARIMA_LSTM.ipynb",
      "provenance": [],
      "collapsed_sections": [],
      "include_colab_link": true
    },
    "kernelspec": {
      "name": "python3",
      "display_name": "Python 3"
    }
  },
  "cells": [
    {
      "cell_type": "markdown",
      "metadata": {
        "id": "view-in-github",
        "colab_type": "text"
      },
      "source": [
        "<a href=\"https://colab.research.google.com/github/madhugrover/Thinkful_projects/blob/master/Predicting_TeslaStockPrice_using_SVR_ARIMA_LSTM.ipynb\" target=\"_parent\"><img src=\"https://colab.research.google.com/assets/colab-badge.svg\" alt=\"Open In Colab\"/></a>"
      ]
    },
    {
      "cell_type": "code",
      "metadata": {
        "id": "_nMm2EW8I6nq",
        "colab_type": "code",
        "colab": {
          "base_uri": "https://localhost:8080/",
          "height": 87
        },
        "outputId": "4c62c348-c56e-4ce6-8398-4e356a380769"
      },
      "source": [
        "# IMPORTS\n",
        "%tensorflow_version 1.x\n",
        "import keras\n",
        "from keras.layers import Dense\n",
        "from keras.layers import LSTM\n",
        "from keras.layers import Dropout\n",
        "from keras.layers import Bidirectional\n",
        "from keras.models import Sequential\n",
        "import pandas as pd \n",
        "import pandas_datareader.data as web\n",
        "import datetime\n",
        "import numpy as np \n",
        "import matplotlib.pyplot as plt\n",
        "from matplotlib import style\n",
        "import seaborn as sns\n",
        "\n",
        "from statsmodels.tsa.stattools import acf, pacf\n",
        "import statsmodels.tsa.stattools as ts\n",
        "from statsmodels.tsa.arima_model import ARIMA\n",
        "from statsmodels.graphics.tsaplots import plot_acf, plot_pacf\n",
        "\n",
        "# ignore warnings \n",
        "import warnings\n",
        "warnings.filterwarnings('ignore')"
      ],
      "execution_count": 1,
      "outputs": [
        {
          "output_type": "stream",
          "text": [
            "TensorFlow 1.x selected.\n"
          ],
          "name": "stdout"
        },
        {
          "output_type": "stream",
          "text": [
            "Using TensorFlow backend.\n",
            "/usr/local/lib/python3.6/dist-packages/pandas_datareader/compat/__init__.py:7: FutureWarning: pandas.util.testing is deprecated. Use the functions in the public API at pandas.testing instead.\n",
            "  from pandas.util.testing import assert_frame_equal\n"
          ],
          "name": "stderr"
        }
      ]
    },
    {
      "cell_type": "markdown",
      "metadata": {
        "id": "PG0DO_h57txH",
        "colab_type": "text"
      },
      "source": [
        "# Getting our stock data for ARIMA Model"
      ]
    },
    {
      "cell_type": "code",
      "metadata": {
        "id": "5hhGzuVjTOrY",
        "colab_type": "code",
        "colab": {}
      },
      "source": [
        "# get 2014-today data for our arima model\n",
        "start = datetime.datetime(2014,1,1)\n",
        "end = datetime.datetime.today()\n",
        "dfa = web.DataReader(\"TSLA\", 'yahoo', start, end) "
      ],
      "execution_count": 0,
      "outputs": []
    },
    {
      "cell_type": "code",
      "metadata": {
        "id": "NUtcPwxagcHv",
        "colab_type": "code",
        "outputId": "29bbb698-11fb-4b71-96ec-94725d8a6ee8",
        "colab": {
          "base_uri": "https://localhost:8080/",
          "height": 202
        }
      },
      "source": [
        "dfa = dfa.reset_index()\n",
        "dfa.head()"
      ],
      "execution_count": 3,
      "outputs": [
        {
          "output_type": "execute_result",
          "data": {
            "text/html": [
              "<div>\n",
              "<style scoped>\n",
              "    .dataframe tbody tr th:only-of-type {\n",
              "        vertical-align: middle;\n",
              "    }\n",
              "\n",
              "    .dataframe tbody tr th {\n",
              "        vertical-align: top;\n",
              "    }\n",
              "\n",
              "    .dataframe thead th {\n",
              "        text-align: right;\n",
              "    }\n",
              "</style>\n",
              "<table border=\"1\" class=\"dataframe\">\n",
              "  <thead>\n",
              "    <tr style=\"text-align: right;\">\n",
              "      <th></th>\n",
              "      <th>Date</th>\n",
              "      <th>High</th>\n",
              "      <th>Low</th>\n",
              "      <th>Open</th>\n",
              "      <th>Close</th>\n",
              "      <th>Volume</th>\n",
              "      <th>Adj Close</th>\n",
              "    </tr>\n",
              "  </thead>\n",
              "  <tbody>\n",
              "    <tr>\n",
              "      <th>0</th>\n",
              "      <td>2014-01-02</td>\n",
              "      <td>152.479996</td>\n",
              "      <td>146.550003</td>\n",
              "      <td>149.800003</td>\n",
              "      <td>150.100006</td>\n",
              "      <td>6188400</td>\n",
              "      <td>150.100006</td>\n",
              "    </tr>\n",
              "    <tr>\n",
              "      <th>1</th>\n",
              "      <td>2014-01-03</td>\n",
              "      <td>152.190002</td>\n",
              "      <td>148.600006</td>\n",
              "      <td>150.000000</td>\n",
              "      <td>149.559998</td>\n",
              "      <td>4695000</td>\n",
              "      <td>149.559998</td>\n",
              "    </tr>\n",
              "    <tr>\n",
              "      <th>2</th>\n",
              "      <td>2014-01-06</td>\n",
              "      <td>150.399994</td>\n",
              "      <td>145.240005</td>\n",
              "      <td>150.000000</td>\n",
              "      <td>147.000000</td>\n",
              "      <td>5361100</td>\n",
              "      <td>147.000000</td>\n",
              "    </tr>\n",
              "    <tr>\n",
              "      <th>3</th>\n",
              "      <td>2014-01-07</td>\n",
              "      <td>150.399994</td>\n",
              "      <td>145.250000</td>\n",
              "      <td>147.619995</td>\n",
              "      <td>149.360001</td>\n",
              "      <td>5034100</td>\n",
              "      <td>149.360001</td>\n",
              "    </tr>\n",
              "    <tr>\n",
              "      <th>4</th>\n",
              "      <td>2014-01-08</td>\n",
              "      <td>153.699997</td>\n",
              "      <td>148.759995</td>\n",
              "      <td>148.850006</td>\n",
              "      <td>151.279999</td>\n",
              "      <td>6163200</td>\n",
              "      <td>151.279999</td>\n",
              "    </tr>\n",
              "  </tbody>\n",
              "</table>\n",
              "</div>"
            ],
            "text/plain": [
              "        Date        High         Low  ...       Close   Volume   Adj Close\n",
              "0 2014-01-02  152.479996  146.550003  ...  150.100006  6188400  150.100006\n",
              "1 2014-01-03  152.190002  148.600006  ...  149.559998  4695000  149.559998\n",
              "2 2014-01-06  150.399994  145.240005  ...  147.000000  5361100  147.000000\n",
              "3 2014-01-07  150.399994  145.250000  ...  149.360001  5034100  149.360001\n",
              "4 2014-01-08  153.699997  148.759995  ...  151.279999  6163200  151.279999\n",
              "\n",
              "[5 rows x 7 columns]"
            ]
          },
          "metadata": {
            "tags": []
          },
          "execution_count": 3
        }
      ]
    },
    {
      "cell_type": "code",
      "metadata": {
        "id": "cET7vyNLf_24",
        "colab_type": "code",
        "outputId": "2d5d0eb4-450e-4656-b554-c1a0c92cc468",
        "colab": {
          "base_uri": "https://localhost:8080/",
          "height": 35
        }
      },
      "source": [
        "dfa.shape"
      ],
      "execution_count": 4,
      "outputs": [
        {
          "output_type": "execute_result",
          "data": {
            "text/plain": [
              "(1599, 7)"
            ]
          },
          "metadata": {
            "tags": []
          },
          "execution_count": 4
        }
      ]
    },
    {
      "cell_type": "markdown",
      "metadata": {
        "id": "z_DIkD488FpM",
        "colab_type": "text"
      },
      "source": [
        "# Creating ARIMA Model"
      ]
    },
    {
      "cell_type": "code",
      "metadata": {
        "id": "lthndPBHTiDE",
        "colab_type": "code",
        "outputId": "eff8b45d-29ee-4ce9-888f-f70a51f1f34f",
        "colab": {
          "base_uri": "https://localhost:8080/",
          "height": 265
        }
      },
      "source": [
        "dfa['adj_close_log'] = np.log(dfa['Adj Close'])\n",
        "plt.plot(dfa.index, dfa['adj_close_log'])\n",
        "plt.show()"
      ],
      "execution_count": 5,
      "outputs": [
        {
          "output_type": "display_data",
          "data": {
            "image/png": "[encoded data removed]",
            "text/plain": [
              "<Figure size 432x288 with 1 Axes>"
            ]
          },
          "metadata": {
            "tags": [],
            "needs_background": "light"
          }
        }
      ]
    },
    {
      "cell_type": "code",
      "metadata": {
        "id": "x-9jMs3WTr2t",
        "colab_type": "code",
        "outputId": "cc9788b0-525c-45bd-9616-b43d3b90df73",
        "colab": {
          "base_uri": "https://localhost:8080/",
          "height": 545
        }
      },
      "source": [
        "#ACF Plot\n",
        "plot_acf(dfa['adj_close_log'])"
      ],
      "execution_count": 6,
      "outputs": [
        {
          "output_type": "execute_result",
          "data": {
            "image/png": "[encoded data removed]",
            "text/plain": [
              "<Figure size 432x288 with 1 Axes>"
            ]
          },
          "metadata": {
            "tags": []
          },
          "execution_count": 6
        },
        {
          "output_type": "display_data",
          "data": {
            "image/png": "[encoded data removed]",
            "text/plain": [
              "<Figure size 432x288 with 1 Axes>"
            ]
          },
          "metadata": {
            "tags": [],
            "needs_background": "light"
          }
        }
      ]
    },
    {
      "cell_type": "code",
      "metadata": {
        "id": "FwHzks9iTsxW",
        "colab_type": "code",
        "outputId": "1c8c0f14-89e3-4608-a7d4-905641ac52b2",
        "colab": {
          "base_uri": "https://localhost:8080/",
          "height": 545
        }
      },
      "source": [
        "#PACF Plot\n",
        "plot_pacf(dfa['adj_close_log'], lags=50)"
      ],
      "execution_count": 7,
      "outputs": [
        {
          "output_type": "execute_result",
          "data": {
            "image/png": "[encoded data removed]",
            "text/plain": [
              "<Figure size 432x288 with 1 Axes>"
            ]
          },
          "metadata": {
            "tags": []
          },
          "execution_count": 7
        },
        {
          "output_type": "display_data",
          "data": {
            "image/png": "[encoded data removed]",
            "text/plain": [
              "<Figure size 432x288 with 1 Axes>"
            ]
          },
          "metadata": {
            "tags": [],
            "needs_background": "light"
          }
        }
      ]
    },
    {
      "cell_type": "code",
      "metadata": {
        "id": "4yzsy7yUTw22",
        "colab_type": "code",
        "outputId": "589399e8-8066-4bb5-f061-1a9468da2985",
        "colab": {
          "base_uri": "https://localhost:8080/",
          "height": 503
        }
      },
      "source": [
        "model = ARIMA(dfa['adj_close_log'], order=(5,1,0))\n",
        "model_fit = model.fit(disp=0)\n",
        "print(model_fit.summary())\n",
        "predictions = model_fit.predict(1599, 1619, typ='levels')\n",
        "predictions_adj = np.exp(predictions)"
      ],
      "execution_count": 8,
      "outputs": [
        {
          "output_type": "stream",
          "text": [
            "                             ARIMA Model Results                              \n",
            "==============================================================================\n",
            "Dep. Variable:        D.adj_close_log   No. Observations:                 1598\n",
            "Model:                 ARIMA(5, 1, 0)   Log Likelihood                3217.759\n",
            "Method:                       css-mle   S.D. of innovations              0.032\n",
            "Date:                Sun, 10 May 2020   AIC                          -6421.518\n",
            "Time:                        03:13:03   BIC                          -6383.883\n",
            "Sample:                             1   HQIC                         -6407.542\n",
            "                                                                              \n",
            "=========================================================================================\n",
            "                            coef    std err          z      P>|z|      [0.025      0.975]\n",
            "-----------------------------------------------------------------------------------------\n",
            "const                     0.0011      0.001      1.282      0.200      -0.001       0.003\n",
            "ar.L1.D.adj_close_log     0.0161      0.025      0.642      0.521      -0.033       0.065\n",
            "ar.L2.D.adj_close_log     0.0429      0.025      1.716      0.086      -0.006       0.092\n",
            "ar.L3.D.adj_close_log     0.0133      0.025      0.530      0.596      -0.036       0.062\n",
            "ar.L4.D.adj_close_log    -0.0378      0.025     -1.513      0.130      -0.087       0.011\n",
            "ar.L5.D.adj_close_log    -0.0113      0.025     -0.449      0.653      -0.060       0.038\n",
            "                                    Roots                                    \n",
            "=============================================================================\n",
            "                  Real          Imaginary           Modulus         Frequency\n",
            "-----------------------------------------------------------------------------\n",
            "AR.1            1.6285           -1.2376j            2.0454           -0.1034\n",
            "AR.2            1.6285           +1.2376j            2.0454            0.1034\n",
            "AR.3           -1.3877           -1.8979j            2.3511           -0.3505\n",
            "AR.4           -1.3877           +1.8979j            2.3511            0.3505\n",
            "AR.5           -3.8414           -0.0000j            3.8414           -0.5000\n",
            "-----------------------------------------------------------------------------\n"
          ],
          "name": "stdout"
        }
      ]
    },
    {
      "cell_type": "markdown",
      "metadata": {
        "id": "l1SqcQhC8Mss",
        "colab_type": "text"
      },
      "source": [
        "# 20 day stock price prediction of ARIMA Model"
      ]
    },
    {
      "cell_type": "code",
      "metadata": {
        "id": "GrKGZU9vT0K-",
        "colab_type": "code",
        "outputId": "9c52d135-9b98-49ee-a71b-4b9dd0f2861f",
        "colab": {
          "base_uri": "https://localhost:8080/",
          "height": 265
        }
      },
      "source": [
        "plt.plot(predictions_adj)\n",
        "plt.show()"
      ],
      "execution_count": 9,
      "outputs": [
        {
          "output_type": "display_data",
          "data": {
            "image/png": "[encoded data removed]",
            "text/plain": [
              "<Figure size 432x288 with 1 Axes>"
            ]
          },
          "metadata": {
            "tags": [],
            "needs_background": "light"
          }
        }
      ]
    },
    {
      "cell_type": "code",
      "metadata": {
        "id": "eDx4O_HL6_6W",
        "colab_type": "code",
        "colab": {
          "base_uri": "https://localhost:8080/",
          "height": 399
        },
        "outputId": "733b6bf6-b12f-4529-d937-77d7409a425e"
      },
      "source": [
        "predictions_adj"
      ],
      "execution_count": 10,
      "outputs": [
        {
          "output_type": "execute_result",
          "data": {
            "text/plain": [
              "1599    819.964543\n",
              "1600    821.862947\n",
              "1601    823.236141\n",
              "1602    822.697167\n",
              "1603    823.148625\n",
              "1604    823.926269\n",
              "1605    824.731809\n",
              "1606    825.644315\n",
              "1607    826.549046\n",
              "1608    827.435962\n",
              "1609    828.319841\n",
              "1610    829.199335\n",
              "1611    830.078386\n",
              "1612    830.958879\n",
              "1613    831.840549\n",
              "1614    832.723409\n",
              "1615    833.607339\n",
              "1616    834.492221\n",
              "1617    835.378036\n",
              "1618    836.264782\n",
              "1619    837.152460\n",
              "dtype: float64"
            ]
          },
          "metadata": {
            "tags": []
          },
          "execution_count": 10
        }
      ]
    },
    {
      "cell_type": "markdown",
      "metadata": {
        "id": "OrVQZarv8cX0",
        "colab_type": "text"
      },
      "source": [
        "# Getting our Stock data for LSTM model"
      ]
    },
    {
      "cell_type": "code",
      "metadata": {
        "id": "Wjz_bn2fJKI4",
        "colab_type": "code",
        "colab": {}
      },
      "source": [
        "# Get the stock data using yahoo API:\n",
        "style.use('ggplot')\n",
        "\n",
        "# get 2014-2019 data to train our model\n",
        "start = datetime.datetime(2010,6,28)\n",
        "end = datetime.datetime(2020,3,8)\n",
        "df = web.DataReader(\"TSLA\", 'yahoo', start, end) \n",
        "\n",
        "# get 2019 data to test our model on \n",
        "start = datetime.datetime(2020,1,13)\n",
        "end = datetime.date.today()\n",
        "test_df = web.DataReader(\"TSLA\",  'yahoo', start, end) "
      ],
      "execution_count": 0,
      "outputs": []
    },
    {
      "cell_type": "code",
      "metadata": {
        "id": "FHli0IEnKktH",
        "colab_type": "code",
        "colab": {}
      },
      "source": [
        "# sort by date\n",
        "df = df.sort_values('Date')\n",
        "test_df = test_df.sort_values('Date')"
      ],
      "execution_count": 0,
      "outputs": []
    },
    {
      "cell_type": "code",
      "metadata": {
        "id": "ireHjT9JKxyX",
        "colab_type": "code",
        "colab": {}
      },
      "source": [
        "# fix the date \n",
        "df.reset_index(inplace=True)\n",
        "df.set_index(\"Date\", inplace=True)\n",
        "test_df.reset_index(inplace=True)\n",
        "test_df.set_index(\"Date\", inplace=True)"
      ],
      "execution_count": 0,
      "outputs": []
    },
    {
      "cell_type": "markdown",
      "metadata": {
        "id": "deJbnnX78vet",
        "colab_type": "text"
      },
      "source": [
        "# Visualize the training stock data"
      ]
    },
    {
      "cell_type": "code",
      "metadata": {
        "id": "shfqkPmpLDqA",
        "colab_type": "code",
        "outputId": "5ba4aa07-f355-4830-988e-01140c375128",
        "colab": {
          "base_uri": "https://localhost:8080/",
          "height": 748
        }
      },
      "source": [
        "import matplotlib.pyplot as plt\n",
        "%matplotlib inline\n",
        "\n",
        "plt.figure(figsize = (12,6))\n",
        "plt.plot(df[\"Adj Close\"])\n",
        "plt.xlabel('Date',fontsize=15)\n",
        "plt.ylabel('Adjusted Close Price',fontsize=15)\n",
        "plt.show()\n",
        "\n",
        "\n",
        "# Rolling mean\n",
        "close_px = df['Adj Close']\n",
        "mavg = close_px.rolling(window=100).mean()\n",
        "mavg2 = close_px.rolling(window=200).mean()\n",
        "\n",
        "plt.figure(figsize = (12,6))\n",
        "close_px.plot(label='TSLA')\n",
        "mavg.plot(label='mavg100')\n",
        "mavg2.plot(label='mavg200')\n",
        "plt.xlabel('Date',fontsize=15)\n",
        "plt.ylabel('Price',fontsize=15)\n",
        "plt.legend();"
      ],
      "execution_count": 14,
      "outputs": [
        {
          "output_type": "display_data",
          "data": {
            "image/png": "[encoded data removed]",
            "text/plain": [
              "<Figure size 864x432 with 1 Axes>"
            ]
          },
          "metadata": {
            "tags": [],
            "needs_background": "light"
          }
        },
        {
          "output_type": "display_data",
          "data": {
            "image/png": "[encoded data removed]",
            "text/plain": [
              "<Figure size 864x432 with 1 Axes>"
            ]
          },
          "metadata": {
            "tags": [],
            "needs_background": "light"
          }
        }
      ]
    },
    {
      "cell_type": "code",
      "metadata": {
        "id": "Pol6r81akT61",
        "colab_type": "code",
        "outputId": "d2ad7dde-b934-4be4-b8d4-bc8a021d22bc",
        "colab": {
          "base_uri": "https://localhost:8080/",
          "height": 374
        }
      },
      "source": [
        "from matplotlib import pyplot\n",
        "values = df.values\n",
        "# specify columns to plot\n",
        "groups = [5, 4]\n",
        "i = 1\n",
        "# plot each column\n",
        "pyplot.figure(figsize = (12,6))\n",
        "for group in groups:\n",
        "\tpyplot.subplot(len(groups), 1, i)\n",
        "\tpyplot.plot(values[:, group])\n",
        "\tpyplot.title(df.columns[group], y=0.5, loc='right')\n",
        "\ti += 1\n",
        "pyplot.show()"
      ],
      "execution_count": 15,
      "outputs": [
        {
          "output_type": "display_data",
          "data": {
            "image/png": "[encoded data removed]",
            "text/plain": [
              "<Figure size 864x432 with 2 Axes>"
            ]
          },
          "metadata": {
            "tags": [],
            "needs_background": "light"
          }
        }
      ]
    },
    {
      "cell_type": "markdown",
      "metadata": {
        "id": "QbNS2tNZ8-vM",
        "colab_type": "text"
      },
      "source": [
        "# Converting Dates"
      ]
    },
    {
      "cell_type": "code",
      "metadata": {
        "id": "2dNUFQ5SLoqY",
        "colab_type": "code",
        "outputId": "a3f1598e-b736-4616-c2d8-b8fea61931a7",
        "colab": {
          "base_uri": "https://localhost:8080/",
          "height": 202
        }
      },
      "source": [
        "import matplotlib.dates as mdates\n",
        "\n",
        "# change the dates into ints for training \n",
        "dates_df = df.copy()\n",
        "dates_df = dates_df.reset_index()\n",
        "\n",
        "# Store the original dates for plotting the predicitons\n",
        "org_dates = dates_df['Date']\n",
        "\n",
        "# convert to ints\n",
        "dates_df['Date'] = dates_df['Date'].map(mdates.date2num)\n",
        "\n",
        "dates_df.tail()"
      ],
      "execution_count": 16,
      "outputs": [
        {
          "output_type": "execute_result",
          "data": {
            "text/html": [
              "<div>\n",
              "<style scoped>\n",
              "    .dataframe tbody tr th:only-of-type {\n",
              "        vertical-align: middle;\n",
              "    }\n",
              "\n",
              "    .dataframe tbody tr th {\n",
              "        vertical-align: top;\n",
              "    }\n",
              "\n",
              "    .dataframe thead th {\n",
              "        text-align: right;\n",
              "    }\n",
              "</style>\n",
              "<table border=\"1\" class=\"dataframe\">\n",
              "  <thead>\n",
              "    <tr style=\"text-align: right;\">\n",
              "      <th></th>\n",
              "      <th>Date</th>\n",
              "      <th>High</th>\n",
              "      <th>Low</th>\n",
              "      <th>Open</th>\n",
              "      <th>Close</th>\n",
              "      <th>Volume</th>\n",
              "      <th>Adj Close</th>\n",
              "    </tr>\n",
              "  </thead>\n",
              "  <tbody>\n",
              "    <tr>\n",
              "      <th>2434</th>\n",
              "      <td>737486.0</td>\n",
              "      <td>743.690002</td>\n",
              "      <td>686.669983</td>\n",
              "      <td>711.260010</td>\n",
              "      <td>743.619995</td>\n",
              "      <td>20195000</td>\n",
              "      <td>743.619995</td>\n",
              "    </tr>\n",
              "    <tr>\n",
              "      <th>2435</th>\n",
              "      <td>737487.0</td>\n",
              "      <td>806.979980</td>\n",
              "      <td>716.109985</td>\n",
              "      <td>805.000000</td>\n",
              "      <td>745.510010</td>\n",
              "      <td>25784000</td>\n",
              "      <td>745.510010</td>\n",
              "    </tr>\n",
              "    <tr>\n",
              "      <th>2436</th>\n",
              "      <td>737488.0</td>\n",
              "      <td>766.520020</td>\n",
              "      <td>724.729980</td>\n",
              "      <td>763.960022</td>\n",
              "      <td>749.500000</td>\n",
              "      <td>15049000</td>\n",
              "      <td>749.500000</td>\n",
              "    </tr>\n",
              "    <tr>\n",
              "      <th>2437</th>\n",
              "      <td>737489.0</td>\n",
              "      <td>745.750000</td>\n",
              "      <td>718.070007</td>\n",
              "      <td>723.770020</td>\n",
              "      <td>724.539978</td>\n",
              "      <td>10852700</td>\n",
              "      <td>724.539978</td>\n",
              "    </tr>\n",
              "    <tr>\n",
              "      <th>2438</th>\n",
              "      <td>737490.0</td>\n",
              "      <td>707.000000</td>\n",
              "      <td>684.270020</td>\n",
              "      <td>690.000000</td>\n",
              "      <td>703.479980</td>\n",
              "      <td>12662900</td>\n",
              "      <td>703.479980</td>\n",
              "    </tr>\n",
              "  </tbody>\n",
              "</table>\n",
              "</div>"
            ],
            "text/plain": [
              "          Date        High         Low  ...       Close    Volume   Adj Close\n",
              "2434  737486.0  743.690002  686.669983  ...  743.619995  20195000  743.619995\n",
              "2435  737487.0  806.979980  716.109985  ...  745.510010  25784000  745.510010\n",
              "2436  737488.0  766.520020  724.729980  ...  749.500000  15049000  749.500000\n",
              "2437  737489.0  745.750000  718.070007  ...  724.539978  10852700  724.539978\n",
              "2438  737490.0  707.000000  684.270020  ...  703.479980  12662900  703.479980\n",
              "\n",
              "[5 rows x 7 columns]"
            ]
          },
          "metadata": {
            "tags": []
          },
          "execution_count": 16
        }
      ]
    },
    {
      "cell_type": "code",
      "metadata": {
        "id": "W6X8bW1hNNHP",
        "colab_type": "code",
        "outputId": "e5879a03-cdb1-4485-c932-860f64cb8c99",
        "colab": {
          "base_uri": "https://localhost:8080/",
          "height": 35
        }
      },
      "source": [
        "# Create train set of adj close prices data:\n",
        "train_data = df.loc[:,'Adj Close'].to_numpy()\n",
        "print(train_data.shape) "
      ],
      "execution_count": 17,
      "outputs": [
        {
          "output_type": "stream",
          "text": [
            "(2439,)\n"
          ],
          "name": "stdout"
        }
      ]
    },
    {
      "cell_type": "code",
      "metadata": {
        "id": "Bo2u0VN727lj",
        "colab_type": "code",
        "outputId": "66da646d-7107-475d-a1a3-4f81bd787572",
        "colab": {
          "base_uri": "https://localhost:8080/",
          "height": 87
        }
      },
      "source": [
        "print(train_data.max())\n",
        "print(train_data.min())\n",
        "print(train_data.mean())\n",
        "print(train_data.std())"
      ],
      "execution_count": 18,
      "outputs": [
        {
          "output_type": "stream",
          "text": [
            "917.4199829101562\n",
            "15.800000190734863\n",
            "192.04155811084593\n",
            "132.0499644825633\n"
          ],
          "name": "stdout"
        }
      ]
    },
    {
      "cell_type": "markdown",
      "metadata": {
        "id": "I_8CvsmXeyXw",
        "colab_type": "text"
      },
      "source": [
        "# SVR code using sklearn and viusalizing kernels"
      ]
    },
    {
      "cell_type": "code",
      "metadata": {
        "id": "SZUtW1gPe5-2",
        "colab_type": "code",
        "colab": {
          "base_uri": "https://localhost:8080/",
          "height": 391
        },
        "outputId": "11bf6ab9-d6ee-488c-f2b7-cf5c18fe9837"
      },
      "source": [
        "# Use sklearn support vector regression to predicit our data:\n",
        "from sklearn.svm import SVR\n",
        "\n",
        "dates = dates_df['Date'].to_numpy()\n",
        "prices = df['Adj Close'].to_numpy()\n",
        "\n",
        "#Convert to 1d Vector\n",
        "dates = np.reshape(dates, (len(dates), 1))\n",
        "prices = np.reshape(prices, (len(prices), 1))\n",
        "\n",
        "svr_rbf = SVR(kernel= 'rbf', C= 1e3, gamma= 0.1)\n",
        "svr_rbf.fit(dates, prices)\n",
        "\n",
        "plt.figure(figsize = (12,6))\n",
        "plt.plot(dates, prices, color= 'black', label= 'Data')\n",
        "plt.plot(org_dates, svr_rbf.predict(dates), color= 'red', label= 'RBF model') \n",
        "plt.xlabel('Date')\n",
        "plt.ylabel('Price')\n",
        "plt.legend()\n",
        "plt.show()"
      ],
      "execution_count": 19,
      "outputs": [
        {
          "output_type": "display_data",
          "data": {
            "image/png": "[encoded data removed]",
            "text/plain": [
              "<Figure size 864x432 with 1 Axes>"
            ]
          },
          "metadata": {
            "tags": [],
            "needs_background": "light"
          }
        }
      ]
    },
    {
      "cell_type": "markdown",
      "metadata": {
        "id": "7xrPt8DAf75e",
        "colab_type": "text"
      },
      "source": [
        "In this code we use Sklearn and Support Vector Regression (SVR) to predict the prices on our data.\n",
        "As you can see in fits the data extremely well, but it is most likely overfit. This model would have a hard time generalizing on a year of unseen Tesla stock data. That is where our LSTM neural network comes in handy."
      ]
    },
    {
      "cell_type": "markdown",
      "metadata": {
        "id": "LfaE4fuV9G2d",
        "colab_type": "text"
      },
      "source": [
        "# Apply normalization before feeding to LSTM using sklearn"
      ]
    },
    {
      "cell_type": "code",
      "metadata": {
        "id": "z38qui5uOWAf",
        "colab_type": "code",
        "outputId": "477ae93a-f282-406e-9a62-27710460cff0",
        "colab": {
          "base_uri": "https://localhost:8080/",
          "height": 35
        }
      },
      "source": [
        "from sklearn.preprocessing import MinMaxScaler\n",
        "\n",
        "scaler = MinMaxScaler()\n",
        "train_data = train_data.reshape(-1,1)\n",
        "\n",
        "scaler.fit(train_data)\n",
        "train_data = scaler.transform(train_data)\n",
        "print(train_data.shape)"
      ],
      "execution_count": 20,
      "outputs": [
        {
          "output_type": "stream",
          "text": [
            "(2439, 1)\n"
          ],
          "name": "stdout"
        }
      ]
    },
    {
      "cell_type": "code",
      "metadata": {
        "id": "Ta5cVtaJ1HMG",
        "colab_type": "code",
        "outputId": "1f5da5e2-0686-4c7b-817d-8e3b43285816",
        "colab": {
          "base_uri": "https://localhost:8080/",
          "height": 87
        }
      },
      "source": [
        "print(train_data.max())\n",
        "print(train_data.min())\n",
        "print(train_data.mean())\n",
        "print(train_data.std())"
      ],
      "execution_count": 21,
      "outputs": [
        {
          "output_type": "stream",
          "text": [
            "1.0\n",
            "0.0\n",
            "0.19547210720478936\n",
            "0.1464585601622102\n"
          ],
          "name": "stdout"
        }
      ]
    },
    {
      "cell_type": "code",
      "metadata": {
        "id": "Ay3X5ygF3MSW",
        "colab_type": "code",
        "outputId": "ffab4535-1597-4b43-9b32-b7e693b9b71e",
        "colab": {
          "base_uri": "https://localhost:8080/",
          "height": 35
        }
      },
      "source": [
        "train_data.shape"
      ],
      "execution_count": 22,
      "outputs": [
        {
          "output_type": "execute_result",
          "data": {
            "text/plain": [
              "(2439, 1)"
            ]
          },
          "metadata": {
            "tags": []
          },
          "execution_count": 22
        }
      ]
    },
    {
      "cell_type": "markdown",
      "metadata": {
        "id": "Z9tgjwt39Sb8",
        "colab_type": "text"
      },
      "source": [
        "# Preparing our data for the neural network"
      ]
    },
    {
      "cell_type": "code",
      "metadata": {
        "id": "h_pThvE3OhzH",
        "colab_type": "code",
        "colab": {}
      },
      "source": [
        "# Function to create a dataset to feed into an LSTM\n",
        "def create_dataset(dataset, look_back):\n",
        "    dataX, dataY = [], []\n",
        "    for i in range(len(dataset)-look_back):\n",
        "        a = dataset[i:(i + look_back)]\n",
        "        dataX.append(a)\n",
        "        dataY.append(dataset[i + look_back])\n",
        "    return np.array(dataX), np.array(dataY)"
      ],
      "execution_count": 0,
      "outputs": []
    },
    {
      "cell_type": "code",
      "metadata": {
        "id": "sMx9u5LwO7z4",
        "colab_type": "code",
        "outputId": "190803c9-4bdc-4f86-8a7f-ff42e7ca9d6b",
        "colab": {
          "base_uri": "https://localhost:8080/",
          "height": 35
        }
      },
      "source": [
        "# Create the data to train our model on:\n",
        "look_back = 36\n",
        "X_train, y_train = create_dataset(train_data, look_back)\n",
        "\n",
        "# reshape it [samples, time steps, features]\n",
        "X_train = np.reshape(X_train, (X_train.shape[0], 36, 1))\n",
        "\n",
        "print(X_train.shape)"
      ],
      "execution_count": 24,
      "outputs": [
        {
          "output_type": "stream",
          "text": [
            "(2403, 36, 1)\n"
          ],
          "name": "stdout"
        }
      ]
    },
    {
      "cell_type": "code",
      "metadata": {
        "id": "eCbVNBct1anm",
        "colab_type": "code",
        "outputId": "fe170a6c-785f-4dbe-9037-48d6207f2458",
        "colab": {
          "base_uri": "https://localhost:8080/",
          "height": 35
        }
      },
      "source": [
        "X_train.mean()"
      ],
      "execution_count": 25,
      "outputs": [
        {
          "output_type": "execute_result",
          "data": {
            "text/plain": [
              "0.19205020405159756"
            ]
          },
          "metadata": {
            "tags": []
          },
          "execution_count": 25
        }
      ]
    },
    {
      "cell_type": "markdown",
      "metadata": {
        "id": "-d3Xs-9E9djE",
        "colab_type": "text"
      },
      "source": [
        "# Creating the LSTM model using KERAS"
      ]
    },
    {
      "cell_type": "code",
      "metadata": {
        "id": "U5mi_1hfOXmT",
        "colab_type": "code",
        "outputId": "ee029d2b-68e2-4cd4-c8a8-216e50416fe1",
        "colab": {
          "base_uri": "https://localhost:8080/",
          "height": 1000
        }
      },
      "source": [
        "model = keras.Sequential()\n",
        "model.add(LSTM(units=50,return_sequences=True,input_shape=(X_train.shape[1], 1)))\n",
        "model.add(Dropout(0.2))\n",
        "model.add(LSTM(units=50,return_sequences=True))\n",
        "model.add(Dropout(0.2))\n",
        "model.add(LSTM(units=50,return_sequences=True))\n",
        "model.add(Dropout(0.2))\n",
        "model.add(LSTM(units=50))\n",
        "model.add(Dropout(0.2))\n",
        "model.add(Dense(units=1))\n",
        "model.compile(optimizer='adam',loss='mean_squared_error')\n",
        "history = model.fit(X_train,y_train,epochs=100,batch_size=32)"
      ],
      "execution_count": 26,
      "outputs": [
        {
          "output_type": "stream",
          "text": [
            "WARNING:tensorflow:From /tensorflow-1.15.2/python3.6/tensorflow_core/python/ops/resource_variable_ops.py:1630: calling BaseResourceVariable.__init__ (from tensorflow.python.ops.resource_variable_ops) with constraint is deprecated and will be removed in a future version.\n",
            "Instructions for updating:\n",
            "If using Keras pass *_constraint arguments to layers.\n",
            "WARNING:tensorflow:From /usr/local/lib/python3.6/dist-packages/keras/backend/tensorflow_backend.py:422: The name tf.global_variables is deprecated. Please use tf.compat.v1.global_variables instead.\n",
            "\n",
            "Epoch 1/100\n",
            "2403/2403 [==============================] - 7s 3ms/step - loss: 0.0055\n",
            "Epoch 2/100\n",
            "2403/2403 [==============================] - 6s 3ms/step - loss: 0.0019\n",
            "Epoch 3/100\n",
            "2403/2403 [==============================] - 6s 3ms/step - loss: 0.0017\n",
            "Epoch 4/100\n",
            "2403/2403 [==============================] - 6s 3ms/step - loss: 0.0017\n",
            "Epoch 5/100\n",
            "2403/2403 [==============================] - 6s 3ms/step - loss: 0.0015\n",
            "Epoch 6/100\n",
            "2403/2403 [==============================] - 6s 3ms/step - loss: 0.0012\n",
            "Epoch 7/100\n",
            "2403/2403 [==============================] - 6s 3ms/step - loss: 0.0011\n",
            "Epoch 8/100\n",
            "2403/2403 [==============================] - 6s 3ms/step - loss: 0.0013\n",
            "Epoch 9/100\n",
            "2403/2403 [==============================] - 6s 3ms/step - loss: 0.0011\n",
            "Epoch 10/100\n",
            "2403/2403 [==============================] - 6s 3ms/step - loss: 9.2592e-04\n",
            "Epoch 11/100\n",
            "2403/2403 [==============================] - 6s 3ms/step - loss: 0.0010\n",
            "Epoch 12/100\n",
            "2403/2403 [==============================] - 6s 3ms/step - loss: 8.8428e-04\n",
            "Epoch 13/100\n",
            "2403/2403 [==============================] - 6s 3ms/step - loss: 7.9034e-04\n",
            "Epoch 14/100\n",
            "2403/2403 [==============================] - 6s 3ms/step - loss: 8.8080e-04\n",
            "Epoch 15/100\n",
            "2403/2403 [==============================] - 6s 3ms/step - loss: 7.3450e-04\n",
            "Epoch 16/100\n",
            "2403/2403 [==============================] - 6s 3ms/step - loss: 9.9334e-04\n",
            "Epoch 17/100\n",
            "2403/2403 [==============================] - 6s 3ms/step - loss: 8.5113e-04\n",
            "Epoch 18/100\n",
            "2403/2403 [==============================] - 6s 3ms/step - loss: 6.7124e-04\n",
            "Epoch 19/100\n",
            "2403/2403 [==============================] - 6s 3ms/step - loss: 0.0012\n",
            "Epoch 20/100\n",
            "2403/2403 [==============================] - 6s 3ms/step - loss: 7.1247e-04\n",
            "Epoch 21/100\n",
            "2403/2403 [==============================] - 6s 3ms/step - loss: 6.7505e-04\n",
            "Epoch 22/100\n",
            "2403/2403 [==============================] - 6s 3ms/step - loss: 6.8109e-04\n",
            "Epoch 23/100\n",
            "2403/2403 [==============================] - 6s 3ms/step - loss: 6.7036e-04\n",
            "Epoch 24/100\n",
            "2403/2403 [==============================] - 6s 3ms/step - loss: 6.6076e-04\n",
            "Epoch 25/100\n",
            "2403/2403 [==============================] - 6s 3ms/step - loss: 8.3007e-04\n",
            "Epoch 26/100\n",
            "2403/2403 [==============================] - 6s 3ms/step - loss: 7.5374e-04\n",
            "Epoch 27/100\n",
            "2403/2403 [==============================] - 6s 3ms/step - loss: 6.4398e-04\n",
            "Epoch 28/100\n",
            "2403/2403 [==============================] - 6s 3ms/step - loss: 7.4305e-04\n",
            "Epoch 29/100\n",
            "2403/2403 [==============================] - 6s 3ms/step - loss: 6.9545e-04\n",
            "Epoch 30/100\n",
            "2403/2403 [==============================] - 6s 3ms/step - loss: 6.3870e-04\n",
            "Epoch 31/100\n",
            "2403/2403 [==============================] - 6s 3ms/step - loss: 5.8627e-04\n",
            "Epoch 32/100\n",
            "2403/2403 [==============================] - 6s 3ms/step - loss: 7.0494e-04\n",
            "Epoch 33/100\n",
            "2403/2403 [==============================] - 6s 3ms/step - loss: 7.0915e-04\n",
            "Epoch 34/100\n",
            "2403/2403 [==============================] - 6s 3ms/step - loss: 7.6931e-04\n",
            "Epoch 35/100\n",
            "2403/2403 [==============================] - 6s 3ms/step - loss: 6.9559e-04\n",
            "Epoch 36/100\n",
            "2403/2403 [==============================] - 6s 3ms/step - loss: 6.0271e-04\n",
            "Epoch 37/100\n",
            "2403/2403 [==============================] - 6s 3ms/step - loss: 5.6284e-04\n",
            "Epoch 38/100\n",
            "2403/2403 [==============================] - 6s 3ms/step - loss: 5.2267e-04\n",
            "Epoch 39/100\n",
            "2403/2403 [==============================] - 6s 3ms/step - loss: 5.1244e-04\n",
            "Epoch 40/100\n",
            "2403/2403 [==============================] - 6s 3ms/step - loss: 5.3744e-04\n",
            "Epoch 41/100\n",
            "2403/2403 [==============================] - 6s 3ms/step - loss: 8.9740e-04\n",
            "Epoch 42/100\n",
            "2403/2403 [==============================] - 6s 3ms/step - loss: 5.7183e-04\n",
            "Epoch 43/100\n",
            "2403/2403 [==============================] - 6s 3ms/step - loss: 6.3430e-04\n",
            "Epoch 44/100\n",
            "2403/2403 [==============================] - 6s 3ms/step - loss: 5.1823e-04\n",
            "Epoch 45/100\n",
            "2403/2403 [==============================] - 6s 3ms/step - loss: 6.1840e-04\n",
            "Epoch 46/100\n",
            "2403/2403 [==============================] - 6s 3ms/step - loss: 5.3220e-04\n",
            "Epoch 47/100\n",
            "2403/2403 [==============================] - 6s 3ms/step - loss: 5.5362e-04\n",
            "Epoch 48/100\n",
            "2403/2403 [==============================] - 6s 3ms/step - loss: 5.6508e-04\n",
            "Epoch 49/100\n",
            "2403/2403 [==============================] - 6s 3ms/step - loss: 6.1401e-04\n",
            "Epoch 50/100\n",
            "2403/2403 [==============================] - 6s 3ms/step - loss: 6.3138e-04\n",
            "Epoch 51/100\n",
            "2403/2403 [==============================] - 6s 3ms/step - loss: 5.8647e-04\n",
            "Epoch 52/100\n",
            "2403/2403 [==============================] - 6s 3ms/step - loss: 5.2345e-04\n",
            "Epoch 53/100\n",
            "2403/2403 [==============================] - 6s 3ms/step - loss: 5.8285e-04\n",
            "Epoch 54/100\n",
            "2403/2403 [==============================] - 6s 3ms/step - loss: 6.3056e-04\n",
            "Epoch 55/100\n",
            "2403/2403 [==============================] - 6s 3ms/step - loss: 4.5032e-04\n",
            "Epoch 56/100\n",
            "2403/2403 [==============================] - 6s 3ms/step - loss: 5.1261e-04\n",
            "Epoch 57/100\n",
            "2403/2403 [==============================] - 6s 3ms/step - loss: 5.5696e-04\n",
            "Epoch 58/100\n",
            "2403/2403 [==============================] - 6s 3ms/step - loss: 4.6665e-04\n",
            "Epoch 59/100\n",
            "2403/2403 [==============================] - 6s 3ms/step - loss: 4.7159e-04\n",
            "Epoch 60/100\n",
            "2403/2403 [==============================] - 6s 3ms/step - loss: 4.9215e-04\n",
            "Epoch 61/100\n",
            "2403/2403 [==============================] - 6s 3ms/step - loss: 5.1311e-04\n",
            "Epoch 62/100\n",
            "2403/2403 [==============================] - 6s 3ms/step - loss: 4.4054e-04\n",
            "Epoch 63/100\n",
            "2403/2403 [==============================] - 6s 3ms/step - loss: 4.4049e-04\n",
            "Epoch 64/100\n",
            "2403/2403 [==============================] - 6s 3ms/step - loss: 4.9804e-04\n",
            "Epoch 65/100\n",
            "2403/2403 [==============================] - 6s 3ms/step - loss: 4.7596e-04\n",
            "Epoch 66/100\n",
            "2403/2403 [==============================] - 6s 3ms/step - loss: 4.1309e-04\n",
            "Epoch 67/100\n",
            "2403/2403 [==============================] - 6s 3ms/step - loss: 6.0517e-04\n",
            "Epoch 68/100\n",
            "2403/2403 [==============================] - 6s 3ms/step - loss: 4.3711e-04\n",
            "Epoch 69/100\n",
            "2403/2403 [==============================] - 6s 3ms/step - loss: 4.0817e-04\n",
            "Epoch 70/100\n",
            "2403/2403 [==============================] - 6s 3ms/step - loss: 3.8814e-04\n",
            "Epoch 71/100\n",
            "2403/2403 [==============================] - 6s 3ms/step - loss: 4.5016e-04\n",
            "Epoch 72/100\n",
            "2403/2403 [==============================] - 6s 3ms/step - loss: 4.9331e-04\n",
            "Epoch 73/100\n",
            "2403/2403 [==============================] - 6s 3ms/step - loss: 5.4814e-04\n",
            "Epoch 74/100\n",
            "2403/2403 [==============================] - 6s 3ms/step - loss: 4.9168e-04\n",
            "Epoch 75/100\n",
            "2403/2403 [==============================] - 6s 3ms/step - loss: 4.6524e-04\n",
            "Epoch 76/100\n",
            "2403/2403 [==============================] - 6s 3ms/step - loss: 3.8159e-04\n",
            "Epoch 77/100\n",
            "2403/2403 [==============================] - 6s 3ms/step - loss: 4.7007e-04\n",
            "Epoch 78/100\n",
            "2403/2403 [==============================] - 6s 3ms/step - loss: 4.8267e-04\n",
            "Epoch 79/100\n",
            "2403/2403 [==============================] - 6s 3ms/step - loss: 5.1614e-04\n",
            "Epoch 80/100\n",
            "2403/2403 [==============================] - 6s 3ms/step - loss: 3.7443e-04\n",
            "Epoch 81/100\n",
            "2403/2403 [==============================] - 6s 3ms/step - loss: 4.5680e-04\n",
            "Epoch 82/100\n",
            "2403/2403 [==============================] - 6s 3ms/step - loss: 4.4284e-04\n",
            "Epoch 83/100\n",
            "2403/2403 [==============================] - 6s 3ms/step - loss: 4.5629e-04\n",
            "Epoch 84/100\n",
            "2403/2403 [==============================] - 6s 3ms/step - loss: 4.0248e-04\n",
            "Epoch 85/100\n",
            "2403/2403 [==============================] - 6s 3ms/step - loss: 3.7959e-04\n",
            "Epoch 86/100\n",
            "2403/2403 [==============================] - 6s 3ms/step - loss: 3.8758e-04\n",
            "Epoch 87/100\n",
            "2403/2403 [==============================] - 6s 3ms/step - loss: 3.9393e-04\n",
            "Epoch 88/100\n",
            "2403/2403 [==============================] - 6s 3ms/step - loss: 3.6908e-04\n",
            "Epoch 89/100\n",
            "2403/2403 [==============================] - 6s 3ms/step - loss: 3.8397e-04\n",
            "Epoch 90/100\n",
            "2403/2403 [==============================] - 6s 3ms/step - loss: 4.3332e-04\n",
            "Epoch 91/100\n",
            "2403/2403 [==============================] - 6s 3ms/step - loss: 4.0961e-04\n",
            "Epoch 92/100\n",
            "2403/2403 [==============================] - 6s 3ms/step - loss: 5.4060e-04\n",
            "Epoch 93/100\n",
            "2403/2403 [==============================] - 6s 3ms/step - loss: 4.7038e-04\n",
            "Epoch 94/100\n",
            "2403/2403 [==============================] - 6s 3ms/step - loss: 4.3846e-04\n",
            "Epoch 95/100\n",
            "2403/2403 [==============================] - 6s 3ms/step - loss: 3.6909e-04\n",
            "Epoch 96/100\n",
            "2403/2403 [==============================] - 6s 3ms/step - loss: 4.8874e-04\n",
            "Epoch 97/100\n",
            "2403/2403 [==============================] - 6s 3ms/step - loss: 3.9266e-04\n",
            "Epoch 98/100\n",
            "2403/2403 [==============================] - 6s 3ms/step - loss: 4.7886e-04\n",
            "Epoch 99/100\n",
            "2403/2403 [==============================] - 6s 3ms/step - loss: 4.0988e-04\n",
            "Epoch 100/100\n",
            "2403/2403 [==============================] - 6s 3ms/step - loss: 4.5114e-04\n"
          ],
          "name": "stdout"
        }
      ]
    },
    {
      "cell_type": "markdown",
      "metadata": {
        "id": "B-kQGeTy9lsH",
        "colab_type": "text"
      },
      "source": [
        "# Plot training & validation loss values"
      ]
    },
    {
      "cell_type": "code",
      "metadata": {
        "id": "OUPzhBwSQgm5",
        "colab_type": "code",
        "outputId": "a23da330-7e1a-42a9-a601-b39c74fee515",
        "colab": {
          "base_uri": "https://localhost:8080/",
          "height": 299
        }
      },
      "source": [
        "# Plot training & validation loss values\n",
        "plt.plot(history.history['loss'])\n",
        "#plt.plot(history.history['val_loss'])\n",
        "plt.title('Model loss')\n",
        "plt.ylabel('Loss')\n",
        "plt.xlabel('Epoch')\n",
        "plt.legend(['Train', 'Test'], loc='upper left')\n",
        "plt.show()"
      ],
      "execution_count": 27,
      "outputs": [
        {
          "output_type": "display_data",
          "data": {
            "image/png": "[encoded data removed]",
            "text/plain": [
              "<Figure size 432x288 with 1 Axes>"
            ]
          },
          "metadata": {
            "tags": [],
            "needs_background": "light"
          }
        }
      ]
    },
    {
      "cell_type": "markdown",
      "metadata": {
        "id": "50vT7GLa9uHf",
        "colab_type": "text"
      },
      "source": [
        "# Get the test data to have our model make the predictions"
      ]
    },
    {
      "cell_type": "code",
      "metadata": {
        "id": "n5OOhl3Q35BU",
        "colab_type": "code",
        "colab": {}
      },
      "source": [
        "test_data = test_df['Adj Close'].values\n",
        "test_data = test_data.reshape(-1,1)\n",
        "test_data = scaler.transform(test_data)"
      ],
      "execution_count": 0,
      "outputs": []
    },
    {
      "cell_type": "code",
      "metadata": {
        "id": "e2Y398ZRRKaY",
        "colab_type": "code",
        "outputId": "f3931559-f64c-436c-f7eb-e19589b42126",
        "colab": {
          "base_uri": "https://localhost:8080/",
          "height": 299
        }
      },
      "source": [
        "# Create the data to test our model on:\n",
        "time_steps = 36\n",
        "X_test, y_test = create_dataset(test_data, time_steps)\n",
        "\n",
        "# store the original vals for plotting the predictions \n",
        "y_test = y_test.reshape(-1,1)\n",
        "org_y = scaler.inverse_transform(y_test)\n",
        "\n",
        "# reshape it [samples, time steps, features]\n",
        "X_test = np.reshape(X_test, (X_test.shape[0], 36, 1))\n",
        "\n",
        "# Predict the prices with the model\n",
        "predicted_y = model.predict(X_test)\n",
        "predicted_y = scaler.inverse_transform(predicted_y)\n",
        "\n",
        "\n",
        "# plot the results \n",
        "plt.plot(org_y, color = 'red', label = 'Real Tesla Stock Price')\n",
        "plt.plot(predicted_y, color = 'blue', label = 'Predicted Tesla Stock Price')\n",
        "plt.title('Tesla Stock Price Prediction')\n",
        "plt.xlabel('Time')\n",
        "plt.ylabel('Tesla Stock Price')\n",
        "plt.legend()\n",
        "plt.show()"
      ],
      "execution_count": 29,
      "outputs": [
        {
          "output_type": "display_data",
          "data": {
            "image/png": "[encoded data removed]",
            "text/plain": [
              "<Figure size 432x288 with 1 Axes>"
            ]
          },
          "metadata": {
            "tags": [],
            "needs_background": "light"
          }
        }
      ]
    },
    {
      "cell_type": "code",
      "metadata": {
        "id": "Z8hrKRZOEtaN",
        "colab_type": "code",
        "colab": {}
      },
      "source": [
        "org_y = list(org_y)\n",
        "data = pd.DataFrame(org_y,columns =['data'])\n",
        "data.reset_index(inplace=True)\n",
        "predicted_y = list(predicted_y)\n",
        "prediction = pd.DataFrame(predicted_y,columns=['prediction'])\n",
        "prediction.reset_index(inplace=True)"
      ],
      "execution_count": 0,
      "outputs": []
    },
    {
      "cell_type": "code",
      "metadata": {
        "id": "6Xkcr9sSE_ha",
        "colab_type": "code",
        "outputId": "3c2fdda8-b9a7-4c65-ab78-b5c74e513690",
        "colab": {
          "base_uri": "https://localhost:8080/",
          "height": 1000
        }
      },
      "source": [
        "result = pd.merge(data, prediction, on='index')\n",
        "error = result['prediction'] - result['data']\n",
        "result['error'] =error\n",
        "result"
      ],
      "execution_count": 31,
      "outputs": [
        {
          "output_type": "execute_result",
          "data": {
            "text/html": [
              "<div>\n",
              "<style scoped>\n",
              "    .dataframe tbody tr th:only-of-type {\n",
              "        vertical-align: middle;\n",
              "    }\n",
              "\n",
              "    .dataframe tbody tr th {\n",
              "        vertical-align: top;\n",
              "    }\n",
              "\n",
              "    .dataframe thead th {\n",
              "        text-align: right;\n",
              "    }\n",
              "</style>\n",
              "<table border=\"1\" class=\"dataframe\">\n",
              "  <thead>\n",
              "    <tr style=\"text-align: right;\">\n",
              "      <th></th>\n",
              "      <th>index</th>\n",
              "      <th>data</th>\n",
              "      <th>prediction</th>\n",
              "      <th>error</th>\n",
              "    </tr>\n",
              "  </thead>\n",
              "  <tbody>\n",
              "    <tr>\n",
              "      <th>0</th>\n",
              "      <td>0</td>\n",
              "      <td>724.539978</td>\n",
              "      <td>722.026306</td>\n",
              "      <td>-2.513672</td>\n",
              "    </tr>\n",
              "    <tr>\n",
              "      <th>1</th>\n",
              "      <td>1</td>\n",
              "      <td>703.479980</td>\n",
              "      <td>703.669739</td>\n",
              "      <td>0.189758</td>\n",
              "    </tr>\n",
              "    <tr>\n",
              "      <th>2</th>\n",
              "      <td>2</td>\n",
              "      <td>608.000000</td>\n",
              "      <td>685.557068</td>\n",
              "      <td>77.557068</td>\n",
              "    </tr>\n",
              "    <tr>\n",
              "      <th>3</th>\n",
              "      <td>3</td>\n",
              "      <td>645.330017</td>\n",
              "      <td>627.617798</td>\n",
              "      <td>-17.712219</td>\n",
              "    </tr>\n",
              "    <tr>\n",
              "      <th>4</th>\n",
              "      <td>4</td>\n",
              "      <td>634.229980</td>\n",
              "      <td>627.768250</td>\n",
              "      <td>-6.461731</td>\n",
              "    </tr>\n",
              "    <tr>\n",
              "      <th>5</th>\n",
              "      <td>5</td>\n",
              "      <td>560.549988</td>\n",
              "      <td>625.942566</td>\n",
              "      <td>65.392578</td>\n",
              "    </tr>\n",
              "    <tr>\n",
              "      <th>6</th>\n",
              "      <td>6</td>\n",
              "      <td>546.619995</td>\n",
              "      <td>584.438782</td>\n",
              "      <td>37.818787</td>\n",
              "    </tr>\n",
              "    <tr>\n",
              "      <th>7</th>\n",
              "      <td>7</td>\n",
              "      <td>445.070007</td>\n",
              "      <td>558.484253</td>\n",
              "      <td>113.414246</td>\n",
              "    </tr>\n",
              "    <tr>\n",
              "      <th>8</th>\n",
              "      <td>8</td>\n",
              "      <td>430.200012</td>\n",
              "      <td>500.661041</td>\n",
              "      <td>70.461029</td>\n",
              "    </tr>\n",
              "    <tr>\n",
              "      <th>9</th>\n",
              "      <td>9</td>\n",
              "      <td>361.220001</td>\n",
              "      <td>463.217987</td>\n",
              "      <td>101.997986</td>\n",
              "    </tr>\n",
              "    <tr>\n",
              "      <th>10</th>\n",
              "      <td>10</td>\n",
              "      <td>427.640015</td>\n",
              "      <td>417.696075</td>\n",
              "      <td>-9.943939</td>\n",
              "    </tr>\n",
              "    <tr>\n",
              "      <th>11</th>\n",
              "      <td>11</td>\n",
              "      <td>427.529999</td>\n",
              "      <td>417.983978</td>\n",
              "      <td>-9.546021</td>\n",
              "    </tr>\n",
              "    <tr>\n",
              "      <th>12</th>\n",
              "      <td>12</td>\n",
              "      <td>434.290009</td>\n",
              "      <td>424.892120</td>\n",
              "      <td>-9.397888</td>\n",
              "    </tr>\n",
              "    <tr>\n",
              "      <th>13</th>\n",
              "      <td>13</td>\n",
              "      <td>505.000000</td>\n",
              "      <td>429.349701</td>\n",
              "      <td>-75.650299</td>\n",
              "    </tr>\n",
              "    <tr>\n",
              "      <th>14</th>\n",
              "      <td>14</td>\n",
              "      <td>539.250000</td>\n",
              "      <td>462.495636</td>\n",
              "      <td>-76.754364</td>\n",
              "    </tr>\n",
              "    <tr>\n",
              "      <th>15</th>\n",
              "      <td>15</td>\n",
              "      <td>528.159973</td>\n",
              "      <td>497.590973</td>\n",
              "      <td>-30.569000</td>\n",
              "    </tr>\n",
              "    <tr>\n",
              "      <th>16</th>\n",
              "      <td>16</td>\n",
              "      <td>514.359985</td>\n",
              "      <td>505.309235</td>\n",
              "      <td>-9.050751</td>\n",
              "    </tr>\n",
              "    <tr>\n",
              "      <th>17</th>\n",
              "      <td>17</td>\n",
              "      <td>502.130005</td>\n",
              "      <td>499.184723</td>\n",
              "      <td>-2.945282</td>\n",
              "    </tr>\n",
              "    <tr>\n",
              "      <th>18</th>\n",
              "      <td>18</td>\n",
              "      <td>524.000000</td>\n",
              "      <td>490.353302</td>\n",
              "      <td>-33.646698</td>\n",
              "    </tr>\n",
              "    <tr>\n",
              "      <th>19</th>\n",
              "      <td>19</td>\n",
              "      <td>481.559998</td>\n",
              "      <td>498.094330</td>\n",
              "      <td>16.534332</td>\n",
              "    </tr>\n",
              "    <tr>\n",
              "      <th>20</th>\n",
              "      <td>20</td>\n",
              "      <td>454.470001</td>\n",
              "      <td>483.820953</td>\n",
              "      <td>29.350952</td>\n",
              "    </tr>\n",
              "    <tr>\n",
              "      <th>21</th>\n",
              "      <td>21</td>\n",
              "      <td>480.010010</td>\n",
              "      <td>463.126190</td>\n",
              "      <td>-16.883820</td>\n",
              "    </tr>\n",
              "    <tr>\n",
              "      <th>22</th>\n",
              "      <td>22</td>\n",
              "      <td>516.239990</td>\n",
              "      <td>464.733673</td>\n",
              "      <td>-51.506317</td>\n",
              "    </tr>\n",
              "    <tr>\n",
              "      <th>23</th>\n",
              "      <td>23</td>\n",
              "      <td>545.450012</td>\n",
              "      <td>486.278137</td>\n",
              "      <td>-59.171875</td>\n",
              "    </tr>\n",
              "    <tr>\n",
              "      <th>24</th>\n",
              "      <td>24</td>\n",
              "      <td>548.840027</td>\n",
              "      <td>512.451355</td>\n",
              "      <td>-36.388672</td>\n",
              "    </tr>\n",
              "    <tr>\n",
              "      <th>25</th>\n",
              "      <td>25</td>\n",
              "      <td>573.000000</td>\n",
              "      <td>524.526733</td>\n",
              "      <td>-48.473267</td>\n",
              "    </tr>\n",
              "    <tr>\n",
              "      <th>26</th>\n",
              "      <td>26</td>\n",
              "      <td>650.950012</td>\n",
              "      <td>540.389160</td>\n",
              "      <td>-110.560852</td>\n",
              "    </tr>\n",
              "    <tr>\n",
              "      <th>27</th>\n",
              "      <td>27</td>\n",
              "      <td>709.890015</td>\n",
              "      <td>590.768372</td>\n",
              "      <td>-119.121643</td>\n",
              "    </tr>\n",
              "    <tr>\n",
              "      <th>28</th>\n",
              "      <td>28</td>\n",
              "      <td>729.830017</td>\n",
              "      <td>646.518188</td>\n",
              "      <td>-83.311829</td>\n",
              "    </tr>\n",
              "    <tr>\n",
              "      <th>29</th>\n",
              "      <td>29</td>\n",
              "      <td>745.210022</td>\n",
              "      <td>674.036316</td>\n",
              "      <td>-71.173706</td>\n",
              "    </tr>\n",
              "    <tr>\n",
              "      <th>30</th>\n",
              "      <td>30</td>\n",
              "      <td>753.890015</td>\n",
              "      <td>690.401978</td>\n",
              "      <td>-63.488037</td>\n",
              "    </tr>\n",
              "    <tr>\n",
              "      <th>31</th>\n",
              "      <td>31</td>\n",
              "      <td>746.359985</td>\n",
              "      <td>701.805603</td>\n",
              "      <td>-44.554382</td>\n",
              "    </tr>\n",
              "    <tr>\n",
              "      <th>32</th>\n",
              "      <td>32</td>\n",
              "      <td>686.719971</td>\n",
              "      <td>702.533569</td>\n",
              "      <td>15.813599</td>\n",
              "    </tr>\n",
              "    <tr>\n",
              "      <th>33</th>\n",
              "      <td>33</td>\n",
              "      <td>732.109985</td>\n",
              "      <td>669.428467</td>\n",
              "      <td>-62.681519</td>\n",
              "    </tr>\n",
              "    <tr>\n",
              "      <th>34</th>\n",
              "      <td>34</td>\n",
              "      <td>705.630005</td>\n",
              "      <td>690.013428</td>\n",
              "      <td>-15.616577</td>\n",
              "    </tr>\n",
              "    <tr>\n",
              "      <th>35</th>\n",
              "      <td>35</td>\n",
              "      <td>725.150024</td>\n",
              "      <td>683.459290</td>\n",
              "      <td>-41.690735</td>\n",
              "    </tr>\n",
              "    <tr>\n",
              "      <th>36</th>\n",
              "      <td>36</td>\n",
              "      <td>798.750000</td>\n",
              "      <td>693.337402</td>\n",
              "      <td>-105.412598</td>\n",
              "    </tr>\n",
              "    <tr>\n",
              "      <th>37</th>\n",
              "      <td>37</td>\n",
              "      <td>769.119995</td>\n",
              "      <td>744.479065</td>\n",
              "      <td>-24.640930</td>\n",
              "    </tr>\n",
              "    <tr>\n",
              "      <th>38</th>\n",
              "      <td>38</td>\n",
              "      <td>800.510010</td>\n",
              "      <td>734.193726</td>\n",
              "      <td>-66.316284</td>\n",
              "    </tr>\n",
              "    <tr>\n",
              "      <th>39</th>\n",
              "      <td>39</td>\n",
              "      <td>781.880005</td>\n",
              "      <td>751.252197</td>\n",
              "      <td>-30.627808</td>\n",
              "    </tr>\n",
              "    <tr>\n",
              "      <th>40</th>\n",
              "      <td>40</td>\n",
              "      <td>701.320007</td>\n",
              "      <td>743.062012</td>\n",
              "      <td>41.742004</td>\n",
              "    </tr>\n",
              "    <tr>\n",
              "      <th>41</th>\n",
              "      <td>41</td>\n",
              "      <td>761.190002</td>\n",
              "      <td>692.644531</td>\n",
              "      <td>-68.545471</td>\n",
              "    </tr>\n",
              "    <tr>\n",
              "      <th>42</th>\n",
              "      <td>42</td>\n",
              "      <td>768.210022</td>\n",
              "      <td>718.174622</td>\n",
              "      <td>-50.035400</td>\n",
              "    </tr>\n",
              "    <tr>\n",
              "      <th>43</th>\n",
              "      <td>43</td>\n",
              "      <td>782.580017</td>\n",
              "      <td>733.423706</td>\n",
              "      <td>-49.156311</td>\n",
              "    </tr>\n",
              "    <tr>\n",
              "      <th>44</th>\n",
              "      <td>44</td>\n",
              "      <td>780.039978</td>\n",
              "      <td>744.646118</td>\n",
              "      <td>-35.393860</td>\n",
              "    </tr>\n",
              "    <tr>\n",
              "      <th>45</th>\n",
              "      <td>45</td>\n",
              "      <td>819.419983</td>\n",
              "      <td>743.903992</td>\n",
              "      <td>-75.515991</td>\n",
              "    </tr>\n",
              "  </tbody>\n",
              "</table>\n",
              "</div>"
            ],
            "text/plain": [
              "    index        data  prediction       error\n",
              "0       0  724.539978  722.026306   -2.513672\n",
              "1       1  703.479980  703.669739    0.189758\n",
              "2       2  608.000000  685.557068   77.557068\n",
              "3       3  645.330017  627.617798  -17.712219\n",
              "4       4  634.229980  627.768250   -6.461731\n",
              "5       5  560.549988  625.942566   65.392578\n",
              "6       6  546.619995  584.438782   37.818787\n",
              "7       7  445.070007  558.484253  113.414246\n",
              "8       8  430.200012  500.661041   70.461029\n",
              "9       9  361.220001  463.217987  101.997986\n",
              "10     10  427.640015  417.696075   -9.943939\n",
              "11     11  427.529999  417.983978   -9.546021\n",
              "12     12  434.290009  424.892120   -9.397888\n",
              "13     13  505.000000  429.349701  -75.650299\n",
              "14     14  539.250000  462.495636  -76.754364\n",
              "15     15  528.159973  497.590973  -30.569000\n",
              "16     16  514.359985  505.309235   -9.050751\n",
              "17     17  502.130005  499.184723   -2.945282\n",
              "18     18  524.000000  490.353302  -33.646698\n",
              "19     19  481.559998  498.094330   16.534332\n",
              "20     20  454.470001  483.820953   29.350952\n",
              "21     21  480.010010  463.126190  -16.883820\n",
              "22     22  516.239990  464.733673  -51.506317\n",
              "23     23  545.450012  486.278137  -59.171875\n",
              "24     24  548.840027  512.451355  -36.388672\n",
              "25     25  573.000000  524.526733  -48.473267\n",
              "26     26  650.950012  540.389160 -110.560852\n",
              "27     27  709.890015  590.768372 -119.121643\n",
              "28     28  729.830017  646.518188  -83.311829\n",
              "29     29  745.210022  674.036316  -71.173706\n",
              "30     30  753.890015  690.401978  -63.488037\n",
              "31     31  746.359985  701.805603  -44.554382\n",
              "32     32  686.719971  702.533569   15.813599\n",
              "33     33  732.109985  669.428467  -62.681519\n",
              "34     34  705.630005  690.013428  -15.616577\n",
              "35     35  725.150024  683.459290  -41.690735\n",
              "36     36  798.750000  693.337402 -105.412598\n",
              "37     37  769.119995  744.479065  -24.640930\n",
              "38     38  800.510010  734.193726  -66.316284\n",
              "39     39  781.880005  751.252197  -30.627808\n",
              "40     40  701.320007  743.062012   41.742004\n",
              "41     41  761.190002  692.644531  -68.545471\n",
              "42     42  768.210022  718.174622  -50.035400\n",
              "43     43  782.580017  733.423706  -49.156311\n",
              "44     44  780.039978  744.646118  -35.393860\n",
              "45     45  819.419983  743.903992  -75.515991"
            ]
          },
          "metadata": {
            "tags": []
          },
          "execution_count": 31
        }
      ]
    },
    {
      "cell_type": "markdown",
      "metadata": {
        "id": "eNSaNQZc-ShR",
        "colab_type": "text"
      },
      "source": [
        "# Getting data for forecasting, 20 days, with LSTM"
      ]
    },
    {
      "cell_type": "code",
      "metadata": {
        "id": "QCzT5Zx6yMyi",
        "colab_type": "code",
        "colab": {}
      },
      "source": [
        "start = datetime.datetime(2010,6,28)\n",
        "end = datetime.date.today()\n",
        "df_full = web.DataReader(\"TSLA\", 'yahoo', start, end) "
      ],
      "execution_count": 0,
      "outputs": []
    },
    {
      "cell_type": "code",
      "metadata": {
        "id": "wQZQ5Pe5zBIB",
        "colab_type": "code",
        "colab": {}
      },
      "source": [
        "df_full.drop(columns=['Open', 'High', 'Low', 'Volume','Close'], inplace=True)"
      ],
      "execution_count": 0,
      "outputs": []
    },
    {
      "cell_type": "code",
      "metadata": {
        "id": "mlYgr2981FHy",
        "colab_type": "code",
        "colab": {}
      },
      "source": [
        "## change the dates into ints for training \n",
        "df = df_full.copy()\n",
        "df = df.reset_index()"
      ],
      "execution_count": 0,
      "outputs": []
    },
    {
      "cell_type": "code",
      "metadata": {
        "id": "LM2t254f5JBq",
        "colab_type": "code",
        "colab": {}
      },
      "source": [
        "df['Date'] = pd.to_datetime(df['Date'])\n",
        "df.set_axis(df['Date'], inplace=True)"
      ],
      "execution_count": 0,
      "outputs": []
    },
    {
      "cell_type": "code",
      "metadata": {
        "id": "bB3HI6F2z0ob",
        "colab_type": "code",
        "colab": {}
      },
      "source": [
        "close_data = df['Adj Close'].values\n",
        "close_data = close_data.reshape((-1,1))\n",
        "scaler.fit(close_data)\n",
        "close_data = scaler.transform(close_data)"
      ],
      "execution_count": 0,
      "outputs": []
    },
    {
      "cell_type": "code",
      "metadata": {
        "id": "fpD2Gjal0Cqp",
        "colab_type": "code",
        "colab": {}
      },
      "source": [
        "close_data = close_data.reshape((-1))\n",
        "\n",
        "def predict(num_prediction, model):\n",
        "    prediction_list = close_data[-look_back:]\n",
        "    \n",
        "    for _ in range(num_prediction):\n",
        "        x = prediction_list[-look_back:]\n",
        "        x = x.reshape((1, look_back, 1))\n",
        "        out = model.predict(x)[0][0]\n",
        "        prediction_list = np.append(prediction_list, out)\n",
        "    prediction_list = prediction_list[look_back-1:]\n",
        "        \n",
        "    return prediction_list\n",
        "    \n",
        "def predict_dates(num_prediction):\n",
        "    last_date = df['Date'].values[-1]\n",
        "    prediction_dates = pd.date_range(last_date, periods=num_prediction+1).tolist()\n",
        "    return prediction_dates\n",
        "\n",
        "num_prediction = 20\n",
        "forecast = predict(num_prediction, model)\n",
        "forecast_dates = predict_dates(num_prediction)\n",
        "forecast = forecast.reshape((-1,1))\n",
        "forecast = scaler.inverse_transform(forecast)"
      ],
      "execution_count": 0,
      "outputs": []
    },
    {
      "cell_type": "code",
      "metadata": {
        "id": "hv9QCNEw5WSW",
        "colab_type": "code",
        "outputId": "9061862a-d573-4457-a59e-32d11f918e97",
        "colab": {
          "base_uri": "https://localhost:8080/",
          "height": 35
        }
      },
      "source": [
        "forecast.mean()"
      ],
      "execution_count": 38,
      "outputs": [
        {
          "output_type": "execute_result",
          "data": {
            "text/plain": [
              "647.148720174499"
            ]
          },
          "metadata": {
            "tags": []
          },
          "execution_count": 38
        }
      ]
    },
    {
      "cell_type": "code",
      "metadata": {
        "id": "a5mTv2_c5fyX",
        "colab_type": "code",
        "outputId": "64585c79-ea6b-4f09-ac3f-926bcaed5ebf",
        "colab": {
          "base_uri": "https://localhost:8080/",
          "height": 35
        }
      },
      "source": [
        "close_data.mean()"
      ],
      "execution_count": 39,
      "outputs": [
        {
          "output_type": "execute_result",
          "data": {
            "text/plain": [
              "0.20383941589626484"
            ]
          },
          "metadata": {
            "tags": []
          },
          "execution_count": 39
        }
      ]
    },
    {
      "cell_type": "code",
      "metadata": {
        "id": "AWHV-qsHFJVf",
        "colab_type": "code",
        "colab": {}
      },
      "source": [
        "dates = list(forecast_dates)\n",
        "dates = pd.DataFrame(forecast_dates,columns =['dates'])\n",
        "dates.reset_index(inplace=True)\n",
        "forecast = list(forecast)\n",
        "forecast = pd.DataFrame(forecast,columns=['forecast_lstm'])\n",
        "forecast.reset_index(inplace=True)"
      ],
      "execution_count": 0,
      "outputs": []
    },
    {
      "cell_type": "code",
      "metadata": {
        "id": "wyj0YxWYFz40",
        "colab_type": "code",
        "outputId": "ffd02465-2c42-406e-a3a7-0a87b28bf8b1",
        "colab": {
          "base_uri": "https://localhost:8080/",
          "height": 693
        }
      },
      "source": [
        "forecast_result = pd.merge(dates, forecast, on='index')\n",
        "forecast_result"
      ],
      "execution_count": 46,
      "outputs": [
        {
          "output_type": "execute_result",
          "data": {
            "text/html": [
              "<div>\n",
              "<style scoped>\n",
              "    .dataframe tbody tr th:only-of-type {\n",
              "        vertical-align: middle;\n",
              "    }\n",
              "\n",
              "    .dataframe tbody tr th {\n",
              "        vertical-align: top;\n",
              "    }\n",
              "\n",
              "    .dataframe thead th {\n",
              "        text-align: right;\n",
              "    }\n",
              "</style>\n",
              "<table border=\"1\" class=\"dataframe\">\n",
              "  <thead>\n",
              "    <tr style=\"text-align: right;\">\n",
              "      <th></th>\n",
              "      <th>index</th>\n",
              "      <th>dates</th>\n",
              "      <th>forecast_lstm</th>\n",
              "    </tr>\n",
              "  </thead>\n",
              "  <tbody>\n",
              "    <tr>\n",
              "      <th>0</th>\n",
              "      <td>0</td>\n",
              "      <td>2020-05-08</td>\n",
              "      <td>819.419983</td>\n",
              "    </tr>\n",
              "    <tr>\n",
              "      <th>1</th>\n",
              "      <td>1</td>\n",
              "      <td>2020-05-09</td>\n",
              "      <td>769.511873</td>\n",
              "    </tr>\n",
              "    <tr>\n",
              "      <th>2</th>\n",
              "      <td>2</td>\n",
              "      <td>2020-05-10</td>\n",
              "      <td>740.793629</td>\n",
              "    </tr>\n",
              "    <tr>\n",
              "      <th>3</th>\n",
              "      <td>3</td>\n",
              "      <td>2020-05-11</td>\n",
              "      <td>717.566989</td>\n",
              "    </tr>\n",
              "    <tr>\n",
              "      <th>4</th>\n",
              "      <td>4</td>\n",
              "      <td>2020-05-12</td>\n",
              "      <td>699.801644</td>\n",
              "    </tr>\n",
              "    <tr>\n",
              "      <th>5</th>\n",
              "      <td>5</td>\n",
              "      <td>2020-05-13</td>\n",
              "      <td>686.113663</td>\n",
              "    </tr>\n",
              "    <tr>\n",
              "      <th>6</th>\n",
              "      <td>6</td>\n",
              "      <td>2020-05-14</td>\n",
              "      <td>674.785169</td>\n",
              "    </tr>\n",
              "    <tr>\n",
              "      <th>7</th>\n",
              "      <td>7</td>\n",
              "      <td>2020-05-15</td>\n",
              "      <td>664.537347</td>\n",
              "    </tr>\n",
              "    <tr>\n",
              "      <th>8</th>\n",
              "      <td>8</td>\n",
              "      <td>2020-05-16</td>\n",
              "      <td>654.678663</td>\n",
              "    </tr>\n",
              "    <tr>\n",
              "      <th>9</th>\n",
              "      <td>9</td>\n",
              "      <td>2020-05-17</td>\n",
              "      <td>644.951858</td>\n",
              "    </tr>\n",
              "    <tr>\n",
              "      <th>10</th>\n",
              "      <td>10</td>\n",
              "      <td>2020-05-18</td>\n",
              "      <td>635.336618</td>\n",
              "    </tr>\n",
              "    <tr>\n",
              "      <th>11</th>\n",
              "      <td>11</td>\n",
              "      <td>2020-05-19</td>\n",
              "      <td>625.903560</td>\n",
              "    </tr>\n",
              "    <tr>\n",
              "      <th>12</th>\n",
              "      <td>12</td>\n",
              "      <td>2020-05-20</td>\n",
              "      <td>616.730446</td>\n",
              "    </tr>\n",
              "    <tr>\n",
              "      <th>13</th>\n",
              "      <td>13</td>\n",
              "      <td>2020-05-21</td>\n",
              "      <td>607.866556</td>\n",
              "    </tr>\n",
              "    <tr>\n",
              "      <th>14</th>\n",
              "      <td>14</td>\n",
              "      <td>2020-05-22</td>\n",
              "      <td>599.328604</td>\n",
              "    </tr>\n",
              "    <tr>\n",
              "      <th>15</th>\n",
              "      <td>15</td>\n",
              "      <td>2020-05-23</td>\n",
              "      <td>591.108474</td>\n",
              "    </tr>\n",
              "    <tr>\n",
              "      <th>16</th>\n",
              "      <td>16</td>\n",
              "      <td>2020-05-24</td>\n",
              "      <td>583.184348</td>\n",
              "    </tr>\n",
              "    <tr>\n",
              "      <th>17</th>\n",
              "      <td>17</td>\n",
              "      <td>2020-05-25</td>\n",
              "      <td>575.529571</td>\n",
              "    </tr>\n",
              "    <tr>\n",
              "      <th>18</th>\n",
              "      <td>18</td>\n",
              "      <td>2020-05-26</td>\n",
              "      <td>568.117487</td>\n",
              "    </tr>\n",
              "    <tr>\n",
              "      <th>19</th>\n",
              "      <td>19</td>\n",
              "      <td>2020-05-27</td>\n",
              "      <td>560.924719</td>\n",
              "    </tr>\n",
              "    <tr>\n",
              "      <th>20</th>\n",
              "      <td>20</td>\n",
              "      <td>2020-05-28</td>\n",
              "      <td>553.931921</td>\n",
              "    </tr>\n",
              "  </tbody>\n",
              "</table>\n",
              "</div>"
            ],
            "text/plain": [
              "    index      dates  forecast_lstm\n",
              "0       0 2020-05-08     819.419983\n",
              "1       1 2020-05-09     769.511873\n",
              "2       2 2020-05-10     740.793629\n",
              "3       3 2020-05-11     717.566989\n",
              "4       4 2020-05-12     699.801644\n",
              "5       5 2020-05-13     686.113663\n",
              "6       6 2020-05-14     674.785169\n",
              "7       7 2020-05-15     664.537347\n",
              "8       8 2020-05-16     654.678663\n",
              "9       9 2020-05-17     644.951858\n",
              "10     10 2020-05-18     635.336618\n",
              "11     11 2020-05-19     625.903560\n",
              "12     12 2020-05-20     616.730446\n",
              "13     13 2020-05-21     607.866556\n",
              "14     14 2020-05-22     599.328604\n",
              "15     15 2020-05-23     591.108474\n",
              "16     16 2020-05-24     583.184348\n",
              "17     17 2020-05-25     575.529571\n",
              "18     18 2020-05-26     568.117487\n",
              "19     19 2020-05-27     560.924719\n",
              "20     20 2020-05-28     553.931921"
            ]
          },
          "metadata": {
            "tags": []
          },
          "execution_count": 46
        }
      ]
    },
    {
      "cell_type": "code",
      "metadata": {
        "id": "Du5oIgRKodxP",
        "colab_type": "code",
        "colab": {
          "base_uri": "https://localhost:8080/",
          "height": 693
        },
        "outputId": "68741993-b36b-4a3a-a69d-ab0f52d5671f"
      },
      "source": [
        "forecast_arima = list(predictions_adj)\n",
        "forecast_arima = pd.DataFrame(forecast_arima,columns=['forecast_arima'])\n",
        "forecast_compare = pd.concat([forecast_arima, forecast], axis=1, sort=False)\n",
        "forecast_compare"
      ],
      "execution_count": 59,
      "outputs": [
        {
          "output_type": "execute_result",
          "data": {
            "text/html": [
              "<div>\n",
              "<style scoped>\n",
              "    .dataframe tbody tr th:only-of-type {\n",
              "        vertical-align: middle;\n",
              "    }\n",
              "\n",
              "    .dataframe tbody tr th {\n",
              "        vertical-align: top;\n",
              "    }\n",
              "\n",
              "    .dataframe thead th {\n",
              "        text-align: right;\n",
              "    }\n",
              "</style>\n",
              "<table border=\"1\" class=\"dataframe\">\n",
              "  <thead>\n",
              "    <tr style=\"text-align: right;\">\n",
              "      <th></th>\n",
              "      <th>forecast_arima</th>\n",
              "      <th>forecast_lstm</th>\n",
              "    </tr>\n",
              "  </thead>\n",
              "  <tbody>\n",
              "    <tr>\n",
              "      <th>0</th>\n",
              "      <td>819.964543</td>\n",
              "      <td>819.419983</td>\n",
              "    </tr>\n",
              "    <tr>\n",
              "      <th>1</th>\n",
              "      <td>821.862947</td>\n",
              "      <td>769.511873</td>\n",
              "    </tr>\n",
              "    <tr>\n",
              "      <th>2</th>\n",
              "      <td>823.236141</td>\n",
              "      <td>740.793629</td>\n",
              "    </tr>\n",
              "    <tr>\n",
              "      <th>3</th>\n",
              "      <td>822.697167</td>\n",
              "      <td>717.566989</td>\n",
              "    </tr>\n",
              "    <tr>\n",
              "      <th>4</th>\n",
              "      <td>823.148625</td>\n",
              "      <td>699.801644</td>\n",
              "    </tr>\n",
              "    <tr>\n",
              "      <th>5</th>\n",
              "      <td>823.926269</td>\n",
              "      <td>686.113663</td>\n",
              "    </tr>\n",
              "    <tr>\n",
              "      <th>6</th>\n",
              "      <td>824.731809</td>\n",
              "      <td>674.785169</td>\n",
              "    </tr>\n",
              "    <tr>\n",
              "      <th>7</th>\n",
              "      <td>825.644315</td>\n",
              "      <td>664.537347</td>\n",
              "    </tr>\n",
              "    <tr>\n",
              "      <th>8</th>\n",
              "      <td>826.549046</td>\n",
              "      <td>654.678663</td>\n",
              "    </tr>\n",
              "    <tr>\n",
              "      <th>9</th>\n",
              "      <td>827.435962</td>\n",
              "      <td>644.951858</td>\n",
              "    </tr>\n",
              "    <tr>\n",
              "      <th>10</th>\n",
              "      <td>828.319841</td>\n",
              "      <td>635.336618</td>\n",
              "    </tr>\n",
              "    <tr>\n",
              "      <th>11</th>\n",
              "      <td>829.199335</td>\n",
              "      <td>625.903560</td>\n",
              "    </tr>\n",
              "    <tr>\n",
              "      <th>12</th>\n",
              "      <td>830.078386</td>\n",
              "      <td>616.730446</td>\n",
              "    </tr>\n",
              "    <tr>\n",
              "      <th>13</th>\n",
              "      <td>830.958879</td>\n",
              "      <td>607.866556</td>\n",
              "    </tr>\n",
              "    <tr>\n",
              "      <th>14</th>\n",
              "      <td>831.840549</td>\n",
              "      <td>599.328604</td>\n",
              "    </tr>\n",
              "    <tr>\n",
              "      <th>15</th>\n",
              "      <td>832.723409</td>\n",
              "      <td>591.108474</td>\n",
              "    </tr>\n",
              "    <tr>\n",
              "      <th>16</th>\n",
              "      <td>833.607339</td>\n",
              "      <td>583.184348</td>\n",
              "    </tr>\n",
              "    <tr>\n",
              "      <th>17</th>\n",
              "      <td>834.492221</td>\n",
              "      <td>575.529571</td>\n",
              "    </tr>\n",
              "    <tr>\n",
              "      <th>18</th>\n",
              "      <td>835.378036</td>\n",
              "      <td>568.117487</td>\n",
              "    </tr>\n",
              "    <tr>\n",
              "      <th>19</th>\n",
              "      <td>836.264782</td>\n",
              "      <td>560.924719</td>\n",
              "    </tr>\n",
              "    <tr>\n",
              "      <th>20</th>\n",
              "      <td>837.152460</td>\n",
              "      <td>553.931921</td>\n",
              "    </tr>\n",
              "  </tbody>\n",
              "</table>\n",
              "</div>"
            ],
            "text/plain": [
              "    forecast_arima  forecast_lstm\n",
              "0       819.964543     819.419983\n",
              "1       821.862947     769.511873\n",
              "2       823.236141     740.793629\n",
              "3       822.697167     717.566989\n",
              "4       823.148625     699.801644\n",
              "5       823.926269     686.113663\n",
              "6       824.731809     674.785169\n",
              "7       825.644315     664.537347\n",
              "8       826.549046     654.678663\n",
              "9       827.435962     644.951858\n",
              "10      828.319841     635.336618\n",
              "11      829.199335     625.903560\n",
              "12      830.078386     616.730446\n",
              "13      830.958879     607.866556\n",
              "14      831.840549     599.328604\n",
              "15      832.723409     591.108474\n",
              "16      833.607339     583.184348\n",
              "17      834.492221     575.529571\n",
              "18      835.378036     568.117487\n",
              "19      836.264782     560.924719\n",
              "20      837.152460     553.931921"
            ]
          },
          "metadata": {
            "tags": []
          },
          "execution_count": 59
        }
      ]
    },
    {
      "cell_type": "markdown",
      "metadata": {
        "id": "0eji_rSakxXa",
        "colab_type": "text"
      },
      "source": [
        "# Conclusion"
      ]
    },
    {
      "cell_type": "markdown",
      "metadata": {
        "id": "Gp7O2GiDk4h5",
        "colab_type": "text"
      },
      "source": [
        "ARIMA model seems to give us one directional data predictions of higher stock prices.\n",
        "SVR seems to be overfitting our data\n",
        "LSTM model gave us a more neutral to downward prediction of the stock price.LSTMs are very fascinating and they have so many useful applications. They allow for accurate predictions on long series of sequential data.\n",
        "We can further compare the prediction with real data next week and see whcih model performed better."
      ]
    },
    {
      "cell_type": "code",
      "metadata": {
        "id": "MmdvUlEflveG",
        "colab_type": "code",
        "colab": {}
      },
      "source": [
        ""
      ],
      "execution_count": 0,
      "outputs": []
    }
  ]
}