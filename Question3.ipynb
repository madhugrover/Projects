{
 "cells": [
  {
   "cell_type": "code",
   "execution_count": 1,
   "metadata": {},
   "outputs": [],
   "source": [
    "# importing libraraies\n",
    "import numpy as np\n",
    "import pandas as pd\n",
    "df = pd.read_csv(\"regression.csv\")"
   ]
  },
  {
   "cell_type": "markdown",
   "metadata": {},
   "source": [
    "### Explortary Data Analysis"
   ]
  },
  {
   "cell_type": "code",
   "execution_count": 2,
   "metadata": {},
   "outputs": [
    {
     "data": {
      "text/html": [
       "<div>\n",
       "<style scoped>\n",
       "    .dataframe tbody tr th:only-of-type {\n",
       "        vertical-align: middle;\n",
       "    }\n",
       "\n",
       "    .dataframe tbody tr th {\n",
       "        vertical-align: top;\n",
       "    }\n",
       "\n",
       "    .dataframe thead th {\n",
       "        text-align: right;\n",
       "    }\n",
       "</style>\n",
       "<table border=\"1\" class=\"dataframe\">\n",
       "  <thead>\n",
       "    <tr style=\"text-align: right;\">\n",
       "      <th></th>\n",
       "      <th>0</th>\n",
       "      <th>1</th>\n",
       "      <th>2</th>\n",
       "      <th>3</th>\n",
       "      <th>4</th>\n",
       "      <th>5</th>\n",
       "      <th>6</th>\n",
       "      <th>7</th>\n",
       "      <th>8</th>\n",
       "      <th>9</th>\n",
       "      <th>y</th>\n",
       "    </tr>\n",
       "  </thead>\n",
       "  <tbody>\n",
       "    <tr>\n",
       "      <th>0</th>\n",
       "      <td>-0.121374</td>\n",
       "      <td>43.065241</td>\n",
       "      <td>-0.149358</td>\n",
       "      <td>-0.121374</td>\n",
       "      <td>0.083498</td>\n",
       "      <td>-0.04946</td>\n",
       "      <td>0.006892</td>\n",
       "      <td>-0.006486</td>\n",
       "      <td>-0.077627</td>\n",
       "      <td>0.034378</td>\n",
       "      <td>-6.562411</td>\n",
       "    </tr>\n",
       "  </tbody>\n",
       "</table>\n",
       "</div>"
      ],
      "text/plain": [
       "          0          1         2         3         4        5         6  \\\n",
       "0 -0.121374  43.065241 -0.149358 -0.121374  0.083498 -0.04946  0.006892   \n",
       "\n",
       "          7         8         9         y  \n",
       "0 -0.006486 -0.077627  0.034378 -6.562411  "
      ]
     },
     "execution_count": 2,
     "metadata": {},
     "output_type": "execute_result"
    }
   ],
   "source": [
    "df.head(1)"
   ]
  },
  {
   "cell_type": "code",
   "execution_count": 3,
   "metadata": {},
   "outputs": [],
   "source": [
    "df = df.rename(columns={\"0\": \"var1\", \"1\": \"var2\",\"2\": \"var3\", \"3\": \"var4\",\"4\": \"var5\", \"5\": \"var6\",\"6\": \"var7\",\n",
    "                   \"7\": \"var8\",\"8\": \"var9\", \"9\": \"var10\",\"y\":\"y\"})"
   ]
  },
  {
   "cell_type": "code",
   "execution_count": 4,
   "metadata": {},
   "outputs": [
    {
     "data": {
      "text/html": [
       "<div>\n",
       "<style scoped>\n",
       "    .dataframe tbody tr th:only-of-type {\n",
       "        vertical-align: middle;\n",
       "    }\n",
       "\n",
       "    .dataframe tbody tr th {\n",
       "        vertical-align: top;\n",
       "    }\n",
       "\n",
       "    .dataframe thead th {\n",
       "        text-align: right;\n",
       "    }\n",
       "</style>\n",
       "<table border=\"1\" class=\"dataframe\">\n",
       "  <thead>\n",
       "    <tr style=\"text-align: right;\">\n",
       "      <th></th>\n",
       "      <th>var1</th>\n",
       "      <th>var2</th>\n",
       "      <th>var3</th>\n",
       "      <th>var4</th>\n",
       "      <th>var5</th>\n",
       "      <th>var6</th>\n",
       "      <th>var7</th>\n",
       "      <th>var8</th>\n",
       "      <th>var9</th>\n",
       "      <th>var10</th>\n",
       "      <th>y</th>\n",
       "    </tr>\n",
       "  </thead>\n",
       "  <tbody>\n",
       "    <tr>\n",
       "      <th>0</th>\n",
       "      <td>-0.121374</td>\n",
       "      <td>43.065241</td>\n",
       "      <td>-0.149358</td>\n",
       "      <td>-0.121374</td>\n",
       "      <td>0.083498</td>\n",
       "      <td>-0.04946</td>\n",
       "      <td>0.006892</td>\n",
       "      <td>-0.006486</td>\n",
       "      <td>-0.077627</td>\n",
       "      <td>0.034378</td>\n",
       "      <td>-6.562411</td>\n",
       "    </tr>\n",
       "  </tbody>\n",
       "</table>\n",
       "</div>"
      ],
      "text/plain": [
       "       var1       var2      var3      var4      var5     var6      var7  \\\n",
       "0 -0.121374  43.065241 -0.149358 -0.121374  0.083498 -0.04946  0.006892   \n",
       "\n",
       "       var8      var9     var10         y  \n",
       "0 -0.006486 -0.077627  0.034378 -6.562411  "
      ]
     },
     "execution_count": 4,
     "metadata": {},
     "output_type": "execute_result"
    }
   ],
   "source": [
    "df.head(1)"
   ]
  },
  {
   "cell_type": "code",
   "execution_count": 5,
   "metadata": {},
   "outputs": [
    {
     "data": {
      "text/plain": [
       "var1     0\n",
       "var2     0\n",
       "var3     0\n",
       "var4     0\n",
       "var5     0\n",
       "var6     0\n",
       "var7     0\n",
       "var8     0\n",
       "var9     0\n",
       "var10    0\n",
       "y        0\n",
       "dtype: int64"
      ]
     },
     "execution_count": 5,
     "metadata": {},
     "output_type": "execute_result"
    }
   ],
   "source": [
    "df.isnull().sum()"
   ]
  },
  {
   "cell_type": "markdown",
   "metadata": {},
   "source": [
    "### Creating a simple regression, OLS model"
   ]
  },
  {
   "cell_type": "code",
   "execution_count": 6,
   "metadata": {},
   "outputs": [
    {
     "name": "stderr",
     "output_type": "stream",
     "text": [
      "C:\\Users\\Madhu\\Anaconda3\\lib\\site-packages\\numpy\\core\\fromnumeric.py:2389: FutureWarning: Method .ptp is deprecated and will be removed in a future version. Use numpy.ptp instead.\n",
      "  return ptp(axis=axis, out=out, **kwargs)\n"
     ]
    },
    {
     "data": {
      "text/html": [
       "<table class=\"simpletable\">\n",
       "<caption>OLS Regression Results</caption>\n",
       "<tr>\n",
       "  <th>Dep. Variable:</th>            <td>y</td>        <th>  R-squared:         </th> <td>   0.875</td>\n",
       "</tr>\n",
       "<tr>\n",
       "  <th>Model:</th>                   <td>OLS</td>       <th>  Adj. R-squared:    </th> <td>   0.863</td>\n",
       "</tr>\n",
       "<tr>\n",
       "  <th>Method:</th>             <td>Least Squares</td>  <th>  F-statistic:       </th> <td>   70.21</td>\n",
       "</tr>\n",
       "<tr>\n",
       "  <th>Date:</th>             <td>Sat, 02 Nov 2019</td> <th>  Prob (F-statistic):</th> <td>8.06e-37</td>\n",
       "</tr>\n",
       "<tr>\n",
       "  <th>Time:</th>                 <td>18:12:07</td>     <th>  Log-Likelihood:    </th> <td> -216.18</td>\n",
       "</tr>\n",
       "<tr>\n",
       "  <th>No. Observations:</th>      <td>   100</td>      <th>  AIC:               </th> <td>   452.4</td>\n",
       "</tr>\n",
       "<tr>\n",
       "  <th>Df Residuals:</th>          <td>    90</td>      <th>  BIC:               </th> <td>   478.4</td>\n",
       "</tr>\n",
       "<tr>\n",
       "  <th>Df Model:</th>              <td>     9</td>      <th>                     </th>     <td> </td>   \n",
       "</tr>\n",
       "<tr>\n",
       "  <th>Covariance Type:</th>      <td>nonrobust</td>    <th>                     </th>     <td> </td>   \n",
       "</tr>\n",
       "</table>\n",
       "<table class=\"simpletable\">\n",
       "<tr>\n",
       "    <td></td>       <th>coef</th>     <th>std err</th>      <th>t</th>      <th>P>|t|</th>  <th>[0.025</th>    <th>0.975]</th>  \n",
       "</tr>\n",
       "<tr>\n",
       "  <th>const</th> <td>    1.2125</td> <td>    0.318</td> <td>    3.809</td> <td> 0.000</td> <td>    0.580</td> <td>    1.845</td>\n",
       "</tr>\n",
       "<tr>\n",
       "  <th>var1</th>  <td>   35.5106</td> <td>    2.592</td> <td>   13.701</td> <td> 0.000</td> <td>   30.361</td> <td>   40.660</td>\n",
       "</tr>\n",
       "<tr>\n",
       "  <th>var2</th>  <td>    0.0053</td> <td>    0.006</td> <td>    0.896</td> <td> 0.373</td> <td>   -0.006</td> <td>    0.017</td>\n",
       "</tr>\n",
       "<tr>\n",
       "  <th>var3</th>  <td>   24.8819</td> <td>    3.850</td> <td>    6.463</td> <td> 0.000</td> <td>   17.234</td> <td>   32.530</td>\n",
       "</tr>\n",
       "<tr>\n",
       "  <th>var4</th>  <td>   35.5106</td> <td>    2.592</td> <td>   13.701</td> <td> 0.000</td> <td>   30.361</td> <td>   40.660</td>\n",
       "</tr>\n",
       "<tr>\n",
       "  <th>var5</th>  <td>   27.8854</td> <td>    4.077</td> <td>    6.840</td> <td> 0.000</td> <td>   19.786</td> <td>   35.985</td>\n",
       "</tr>\n",
       "<tr>\n",
       "  <th>var6</th>  <td>  -11.0978</td> <td>    4.616</td> <td>   -2.404</td> <td> 0.018</td> <td>  -20.269</td> <td>   -1.926</td>\n",
       "</tr>\n",
       "<tr>\n",
       "  <th>var7</th>  <td>   50.6107</td> <td>    5.227</td> <td>    9.683</td> <td> 0.000</td> <td>   40.226</td> <td>   60.995</td>\n",
       "</tr>\n",
       "<tr>\n",
       "  <th>var8</th>  <td>   -5.4490</td> <td>    4.731</td> <td>   -1.152</td> <td> 0.252</td> <td>  -14.847</td> <td>    3.949</td>\n",
       "</tr>\n",
       "<tr>\n",
       "  <th>var9</th>  <td>    1.0332</td> <td>    4.469</td> <td>    0.231</td> <td> 0.818</td> <td>   -7.846</td> <td>    9.912</td>\n",
       "</tr>\n",
       "<tr>\n",
       "  <th>var10</th> <td>    4.5263</td> <td>    3.978</td> <td>    1.138</td> <td> 0.258</td> <td>   -3.376</td> <td>   12.428</td>\n",
       "</tr>\n",
       "</table>\n",
       "<table class=\"simpletable\">\n",
       "<tr>\n",
       "  <th>Omnibus:</th>       <td> 3.532</td> <th>  Durbin-Watson:     </th> <td>   2.046</td>\n",
       "</tr>\n",
       "<tr>\n",
       "  <th>Prob(Omnibus):</th> <td> 0.171</td> <th>  Jarque-Bera (JB):  </th> <td>   2.693</td>\n",
       "</tr>\n",
       "<tr>\n",
       "  <th>Skew:</th>          <td>-0.263</td> <th>  Prob(JB):          </th> <td>   0.260</td>\n",
       "</tr>\n",
       "<tr>\n",
       "  <th>Kurtosis:</th>      <td> 2.391</td> <th>  Cond. No.          </th> <td>8.24e+18</td>\n",
       "</tr>\n",
       "</table><br/><br/>Warnings:<br/>[1] Standard Errors assume that the covariance matrix of the errors is correctly specified.<br/>[2] The smallest eigenvalue is 4.6e-33. This might indicate that there are<br/>strong multicollinearity problems or that the design matrix is singular."
      ],
      "text/plain": [
       "<class 'statsmodels.iolib.summary.Summary'>\n",
       "\"\"\"\n",
       "                            OLS Regression Results                            \n",
       "==============================================================================\n",
       "Dep. Variable:                      y   R-squared:                       0.875\n",
       "Model:                            OLS   Adj. R-squared:                  0.863\n",
       "Method:                 Least Squares   F-statistic:                     70.21\n",
       "Date:                Sat, 02 Nov 2019   Prob (F-statistic):           8.06e-37\n",
       "Time:                        18:12:07   Log-Likelihood:                -216.18\n",
       "No. Observations:                 100   AIC:                             452.4\n",
       "Df Residuals:                      90   BIC:                             478.4\n",
       "Df Model:                           9                                         \n",
       "Covariance Type:            nonrobust                                         \n",
       "==============================================================================\n",
       "                 coef    std err          t      P>|t|      [0.025      0.975]\n",
       "------------------------------------------------------------------------------\n",
       "const          1.2125      0.318      3.809      0.000       0.580       1.845\n",
       "var1          35.5106      2.592     13.701      0.000      30.361      40.660\n",
       "var2           0.0053      0.006      0.896      0.373      -0.006       0.017\n",
       "var3          24.8819      3.850      6.463      0.000      17.234      32.530\n",
       "var4          35.5106      2.592     13.701      0.000      30.361      40.660\n",
       "var5          27.8854      4.077      6.840      0.000      19.786      35.985\n",
       "var6         -11.0978      4.616     -2.404      0.018     -20.269      -1.926\n",
       "var7          50.6107      5.227      9.683      0.000      40.226      60.995\n",
       "var8          -5.4490      4.731     -1.152      0.252     -14.847       3.949\n",
       "var9           1.0332      4.469      0.231      0.818      -7.846       9.912\n",
       "var10          4.5263      3.978      1.138      0.258      -3.376      12.428\n",
       "==============================================================================\n",
       "Omnibus:                        3.532   Durbin-Watson:                   2.046\n",
       "Prob(Omnibus):                  0.171   Jarque-Bera (JB):                2.693\n",
       "Skew:                          -0.263   Prob(JB):                        0.260\n",
       "Kurtosis:                       2.391   Cond. No.                     8.24e+18\n",
       "==============================================================================\n",
       "\n",
       "Warnings:\n",
       "[1] Standard Errors assume that the covariance matrix of the errors is correctly specified.\n",
       "[2] The smallest eigenvalue is 4.6e-33. This might indicate that there are\n",
       "strong multicollinearity problems or that the design matrix is singular.\n",
       "\"\"\""
      ]
     },
     "execution_count": 6,
     "metadata": {},
     "output_type": "execute_result"
    }
   ],
   "source": [
    "from sklearn.linear_model import LinearRegression\n",
    "import statsmodels.api as sm\n",
    "X = df.drop('y',1)\n",
    "Y = df.y\n",
    "X = sm.add_constant(X)\n",
    "\n",
    "results = sm.OLS(Y, X).fit()\n",
    "\n",
    "results.summary()"
   ]
  },
  {
   "cell_type": "raw",
   "metadata": {},
   "source": [
    "Y = 1.21 + 35.51var1 + .01var2 + 24.89var3 + 35.51var4 + 27.89var5 - 11.10var6 + 50.61var7 - 5.44var8+ 1.03var9 + 4.52var10\n",
    "\n",
    "The statistically significant variables are variable or var 1,3,4,5,6 and 7 . All the other variables are statistically insignificant and hence their coefficients are statistically zero. According to the estimation results:\n",
    "\n",
    "1 point increase in var1 results in 35.51 increase of y.\n",
    "1 point increase in var3 results in 24.89 increase of y\n",
    "1 point increase in var4 results in 35.51 increase of y.\n",
    "1 point increase in var5 results in 27.89 increase of y.\n",
    "1 point increase in var6 results in 11.10 decrease of y.\n",
    "1 point increase in var7 results in 50.61 increase of y.\n",
    "\n",
    "variable 1 and 3 have the same relationship with y\n",
    "variable 7 increases y the most\n",
    "varibale 6 has a negative effect on y\n",
    "1.21 is the constant"
   ]
  },
  {
   "cell_type": "markdown",
   "metadata": {},
   "source": [
    "#### Exploring the results\n",
    "#### var2, var8, var9 and var 10 are statistically insignificant, let's exclude statistically insignificant variables from the model and re-estimate it:"
   ]
  },
  {
   "cell_type": "markdown",
   "metadata": {},
   "source": [
    "### Re-running the model with relevant features"
   ]
  },
  {
   "cell_type": "code",
   "execution_count": 9,
   "metadata": {},
   "outputs": [
    {
     "data": {
      "text/html": [
       "<table class=\"simpletable\">\n",
       "<caption>OLS Regression Results</caption>\n",
       "<tr>\n",
       "  <th>Dep. Variable:</th>            <td>y</td>        <th>  R-squared:         </th> <td>   0.871</td>\n",
       "</tr>\n",
       "<tr>\n",
       "  <th>Model:</th>                   <td>OLS</td>       <th>  Adj. R-squared:    </th> <td>   0.864</td>\n",
       "</tr>\n",
       "<tr>\n",
       "  <th>Method:</th>             <td>Least Squares</td>  <th>  F-statistic:       </th> <td>   126.9</td>\n",
       "</tr>\n",
       "<tr>\n",
       "  <th>Date:</th>             <td>Sat, 02 Nov 2019</td> <th>  Prob (F-statistic):</th> <td>3.28e-40</td>\n",
       "</tr>\n",
       "<tr>\n",
       "  <th>Time:</th>                 <td>18:24:20</td>     <th>  Log-Likelihood:    </th> <td> -217.89</td>\n",
       "</tr>\n",
       "<tr>\n",
       "  <th>No. Observations:</th>      <td>   100</td>      <th>  AIC:               </th> <td>   447.8</td>\n",
       "</tr>\n",
       "<tr>\n",
       "  <th>Df Residuals:</th>          <td>    94</td>      <th>  BIC:               </th> <td>   463.4</td>\n",
       "</tr>\n",
       "<tr>\n",
       "  <th>Df Model:</th>              <td>     5</td>      <th>                     </th>     <td> </td>   \n",
       "</tr>\n",
       "<tr>\n",
       "  <th>Covariance Type:</th>      <td>nonrobust</td>    <th>                     </th>     <td> </td>   \n",
       "</tr>\n",
       "</table>\n",
       "<table class=\"simpletable\">\n",
       "<tr>\n",
       "    <td></td>       <th>coef</th>     <th>std err</th>      <th>t</th>      <th>P>|t|</th>  <th>[0.025</th>    <th>0.975]</th>  \n",
       "</tr>\n",
       "<tr>\n",
       "  <th>const</th> <td>    1.3733</td> <td>    0.232</td> <td>    5.923</td> <td> 0.000</td> <td>    0.913</td> <td>    1.834</td>\n",
       "</tr>\n",
       "<tr>\n",
       "  <th>var1</th>  <td>   37.2387</td> <td>    2.248</td> <td>   16.567</td> <td> 0.000</td> <td>   32.776</td> <td>   41.702</td>\n",
       "</tr>\n",
       "<tr>\n",
       "  <th>var3</th>  <td>   23.5786</td> <td>    3.686</td> <td>    6.397</td> <td> 0.000</td> <td>   16.260</td> <td>   30.897</td>\n",
       "</tr>\n",
       "<tr>\n",
       "  <th>var4</th>  <td>   37.2387</td> <td>    2.248</td> <td>   16.567</td> <td> 0.000</td> <td>   32.776</td> <td>   41.702</td>\n",
       "</tr>\n",
       "<tr>\n",
       "  <th>var5</th>  <td>   27.3860</td> <td>    3.959</td> <td>    6.917</td> <td> 0.000</td> <td>   19.525</td> <td>   35.247</td>\n",
       "</tr>\n",
       "<tr>\n",
       "  <th>var6</th>  <td>  -12.5760</td> <td>    4.131</td> <td>   -3.044</td> <td> 0.003</td> <td>  -20.778</td> <td>   -4.374</td>\n",
       "</tr>\n",
       "<tr>\n",
       "  <th>var7</th>  <td>   50.9483</td> <td>    4.849</td> <td>   10.507</td> <td> 0.000</td> <td>   41.320</td> <td>   60.576</td>\n",
       "</tr>\n",
       "</table>\n",
       "<table class=\"simpletable\">\n",
       "<tr>\n",
       "  <th>Omnibus:</th>       <td> 3.939</td> <th>  Durbin-Watson:     </th> <td>   2.060</td>\n",
       "</tr>\n",
       "<tr>\n",
       "  <th>Prob(Omnibus):</th> <td> 0.140</td> <th>  Jarque-Bera (JB):  </th> <td>   2.550</td>\n",
       "</tr>\n",
       "<tr>\n",
       "  <th>Skew:</th>          <td>-0.198</td> <th>  Prob(JB):          </th> <td>   0.279</td>\n",
       "</tr>\n",
       "<tr>\n",
       "  <th>Kurtosis:</th>      <td> 2.325</td> <th>  Cond. No.          </th> <td>1.14e+18</td>\n",
       "</tr>\n",
       "</table><br/><br/>Warnings:<br/>[1] Standard Errors assume that the covariance matrix of the errors is correctly specified.<br/>[2] The smallest eigenvalue is 7.74e-35. This might indicate that there are<br/>strong multicollinearity problems or that the design matrix is singular."
      ],
      "text/plain": [
       "<class 'statsmodels.iolib.summary.Summary'>\n",
       "\"\"\"\n",
       "                            OLS Regression Results                            \n",
       "==============================================================================\n",
       "Dep. Variable:                      y   R-squared:                       0.871\n",
       "Model:                            OLS   Adj. R-squared:                  0.864\n",
       "Method:                 Least Squares   F-statistic:                     126.9\n",
       "Date:                Sat, 02 Nov 2019   Prob (F-statistic):           3.28e-40\n",
       "Time:                        18:24:20   Log-Likelihood:                -217.89\n",
       "No. Observations:                 100   AIC:                             447.8\n",
       "Df Residuals:                      94   BIC:                             463.4\n",
       "Df Model:                           5                                         \n",
       "Covariance Type:            nonrobust                                         \n",
       "==============================================================================\n",
       "                 coef    std err          t      P>|t|      [0.025      0.975]\n",
       "------------------------------------------------------------------------------\n",
       "const          1.3733      0.232      5.923      0.000       0.913       1.834\n",
       "var1          37.2387      2.248     16.567      0.000      32.776      41.702\n",
       "var3          23.5786      3.686      6.397      0.000      16.260      30.897\n",
       "var4          37.2387      2.248     16.567      0.000      32.776      41.702\n",
       "var5          27.3860      3.959      6.917      0.000      19.525      35.247\n",
       "var6         -12.5760      4.131     -3.044      0.003     -20.778      -4.374\n",
       "var7          50.9483      4.849     10.507      0.000      41.320      60.576\n",
       "==============================================================================\n",
       "Omnibus:                        3.939   Durbin-Watson:                   2.060\n",
       "Prob(Omnibus):                  0.140   Jarque-Bera (JB):                2.550\n",
       "Skew:                          -0.198   Prob(JB):                        0.279\n",
       "Kurtosis:                       2.325   Cond. No.                     1.14e+18\n",
       "==============================================================================\n",
       "\n",
       "Warnings:\n",
       "[1] Standard Errors assume that the covariance matrix of the errors is correctly specified.\n",
       "[2] The smallest eigenvalue is 7.74e-35. This might indicate that there are\n",
       "strong multicollinearity problems or that the design matrix is singular.\n",
       "\"\"\""
      ]
     },
     "execution_count": 9,
     "metadata": {},
     "output_type": "execute_result"
    }
   ],
   "source": [
    "from sklearn.linear_model import LinearRegression\n",
    "import statsmodels.api as sm\n",
    "X2 = df[['var1','var3','var4','var5','var6','var7']]\n",
    "Y2 = df.y\n",
    "X2 = sm.add_constant(X2)\n",
    "\n",
    "results = sm.OLS(Y2, X2).fit()\n",
    "\n",
    "results.summary()"
   ]
  },
  {
   "cell_type": "markdown",
   "metadata": {},
   "source": [
    "### Result Analysis"
   ]
  },
  {
   "cell_type": "raw",
   "metadata": {},
   "source": [
    "R-squared and adjusted R-squared of the model are 0.871 and 0.864 respectively. F statistic and its associated p-value are 126.9 and 0.00 respectively. According to the R-squared almost 87% of the variance in the target variable is explained by the model. Hence 13% of the variance in the target is not explained. \n",
    "The modelis stable with room for improvement."
   ]
  }
 ],
 "metadata": {
  "kernelspec": {
   "display_name": "Python 3",
   "language": "python",
   "name": "python3"
  },
  "language_info": {
   "codemirror_mode": {
    "name": "ipython",
    "version": 3
   },
   "file_extension": ".py",
   "mimetype": "text/x-python",
   "name": "python",
   "nbconvert_exporter": "python",
   "pygments_lexer": "ipython3",
   "version": "3.7.4"
  }
 },
 "nbformat": 4,
 "nbformat_minor": 2
}
