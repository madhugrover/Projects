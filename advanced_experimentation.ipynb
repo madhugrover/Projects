{
 "cells": [
  {
   "cell_type": "code",
   "execution_count": 2,
   "metadata": {},
   "outputs": [],
   "source": [
    "import pandas as pd\n",
    "import numpy as np\n",
    "import matplotlib.pyplot as plt\n",
    "import scipy.stats as stats\n",
    "from scipy.stats import wilcoxon"
   ]
  },
  {
   "cell_type": "code",
   "execution_count": 3,
   "metadata": {},
   "outputs": [],
   "source": [
    "df = pd.read_csv('https://raw.githubusercontent.com/Thinkful-Ed/data-201-resources/master/ESS_practice_data/ESSdata_Thinkful.csv')"
   ]
  },
  {
   "cell_type": "code",
   "execution_count": 4,
   "metadata": {},
   "outputs": [
    {
     "data": {
      "text/html": [
       "<div>\n",
       "<style scoped>\n",
       "    .dataframe tbody tr th:only-of-type {\n",
       "        vertical-align: middle;\n",
       "    }\n",
       "\n",
       "    .dataframe tbody tr th {\n",
       "        vertical-align: top;\n",
       "    }\n",
       "\n",
       "    .dataframe thead th {\n",
       "        text-align: right;\n",
       "    }\n",
       "</style>\n",
       "<table border=\"1\" class=\"dataframe\">\n",
       "  <thead>\n",
       "    <tr style=\"text-align: right;\">\n",
       "      <th></th>\n",
       "      <th>cntry</th>\n",
       "      <th>idno</th>\n",
       "      <th>year</th>\n",
       "      <th>tvtot</th>\n",
       "      <th>ppltrst</th>\n",
       "      <th>pplfair</th>\n",
       "      <th>pplhlp</th>\n",
       "      <th>happy</th>\n",
       "      <th>sclmeet</th>\n",
       "      <th>sclact</th>\n",
       "      <th>gndr</th>\n",
       "      <th>agea</th>\n",
       "      <th>partner</th>\n",
       "    </tr>\n",
       "  </thead>\n",
       "  <tbody>\n",
       "    <tr>\n",
       "      <th>0</th>\n",
       "      <td>CH</td>\n",
       "      <td>5.0</td>\n",
       "      <td>6</td>\n",
       "      <td>3.0</td>\n",
       "      <td>3.0</td>\n",
       "      <td>10.0</td>\n",
       "      <td>5.0</td>\n",
       "      <td>8.0</td>\n",
       "      <td>5.0</td>\n",
       "      <td>4.0</td>\n",
       "      <td>2.0</td>\n",
       "      <td>60.0</td>\n",
       "      <td>1.0</td>\n",
       "    </tr>\n",
       "    <tr>\n",
       "      <th>1</th>\n",
       "      <td>CH</td>\n",
       "      <td>25.0</td>\n",
       "      <td>6</td>\n",
       "      <td>6.0</td>\n",
       "      <td>5.0</td>\n",
       "      <td>7.0</td>\n",
       "      <td>5.0</td>\n",
       "      <td>9.0</td>\n",
       "      <td>3.0</td>\n",
       "      <td>2.0</td>\n",
       "      <td>2.0</td>\n",
       "      <td>59.0</td>\n",
       "      <td>1.0</td>\n",
       "    </tr>\n",
       "    <tr>\n",
       "      <th>2</th>\n",
       "      <td>CH</td>\n",
       "      <td>26.0</td>\n",
       "      <td>6</td>\n",
       "      <td>1.0</td>\n",
       "      <td>8.0</td>\n",
       "      <td>8.0</td>\n",
       "      <td>8.0</td>\n",
       "      <td>7.0</td>\n",
       "      <td>6.0</td>\n",
       "      <td>3.0</td>\n",
       "      <td>1.0</td>\n",
       "      <td>24.0</td>\n",
       "      <td>2.0</td>\n",
       "    </tr>\n",
       "    <tr>\n",
       "      <th>3</th>\n",
       "      <td>CH</td>\n",
       "      <td>28.0</td>\n",
       "      <td>6</td>\n",
       "      <td>4.0</td>\n",
       "      <td>6.0</td>\n",
       "      <td>6.0</td>\n",
       "      <td>7.0</td>\n",
       "      <td>10.0</td>\n",
       "      <td>6.0</td>\n",
       "      <td>2.0</td>\n",
       "      <td>2.0</td>\n",
       "      <td>64.0</td>\n",
       "      <td>1.0</td>\n",
       "    </tr>\n",
       "    <tr>\n",
       "      <th>4</th>\n",
       "      <td>CH</td>\n",
       "      <td>29.0</td>\n",
       "      <td>6</td>\n",
       "      <td>5.0</td>\n",
       "      <td>6.0</td>\n",
       "      <td>7.0</td>\n",
       "      <td>5.0</td>\n",
       "      <td>8.0</td>\n",
       "      <td>7.0</td>\n",
       "      <td>2.0</td>\n",
       "      <td>2.0</td>\n",
       "      <td>55.0</td>\n",
       "      <td>1.0</td>\n",
       "    </tr>\n",
       "  </tbody>\n",
       "</table>\n",
       "</div>"
      ],
      "text/plain": [
       "  cntry  idno  year  tvtot  ppltrst  pplfair  pplhlp  happy  sclmeet  sclact  \\\n",
       "0    CH   5.0     6    3.0      3.0     10.0     5.0    8.0      5.0     4.0   \n",
       "1    CH  25.0     6    6.0      5.0      7.0     5.0    9.0      3.0     2.0   \n",
       "2    CH  26.0     6    1.0      8.0      8.0     8.0    7.0      6.0     3.0   \n",
       "3    CH  28.0     6    4.0      6.0      6.0     7.0   10.0      6.0     2.0   \n",
       "4    CH  29.0     6    5.0      6.0      7.0     5.0    8.0      7.0     2.0   \n",
       "\n",
       "   gndr  agea  partner  \n",
       "0   2.0  60.0      1.0  \n",
       "1   2.0  59.0      1.0  \n",
       "2   1.0  24.0      2.0  \n",
       "3   2.0  64.0      1.0  \n",
       "4   2.0  55.0      1.0  "
      ]
     },
     "execution_count": 4,
     "metadata": {},
     "output_type": "execute_result"
    }
   ],
   "source": [
    "df.head()"
   ]
  },
  {
   "cell_type": "raw",
   "metadata": {},
   "source": [
    "cntry - Country\n",
    "year - ESS round (6 - 2012; 7 - 2014)\n",
    "idno - Respondent's identification number\n",
    "tvtot - TV watching, total time on average weekday\n",
    "ppltrst - Most people can be trusted or you can't be too careful\n",
    "pplfair - Most people try to take advantage of you, or try to be fair\n",
    "pplhlp - Most of the time people helpful or mostly looking out for themselves\n",
    "happy - How happy are you\n",
    "sclmeet - How often socially meet with friends, relatives or colleagues\n",
    "sclact - Take part in social activities compared to others of same age\n",
    "gndr - Gender\n",
    "agea - Age of respondent, calculated\n",
    "partner - Lives with husband/wife/partner at household grid"
   ]
  },
  {
   "cell_type": "code",
   "execution_count": 5,
   "metadata": {},
   "outputs": [
    {
     "name": "stdout",
     "output_type": "stream",
     "text": [
      "<class 'pandas.core.frame.DataFrame'>\n",
      "RangeIndex: 8594 entries, 0 to 8593\n",
      "Data columns (total 13 columns):\n",
      "cntry      8594 non-null object\n",
      "idno       8594 non-null float64\n",
      "year       8594 non-null int64\n",
      "tvtot      8586 non-null float64\n",
      "ppltrst    8580 non-null float64\n",
      "pplfair    8555 non-null float64\n",
      "pplhlp     8569 non-null float64\n",
      "happy      8563 non-null float64\n",
      "sclmeet    8579 non-null float64\n",
      "sclact     8500 non-null float64\n",
      "gndr       8584 non-null float64\n",
      "agea       8355 non-null float64\n",
      "partner    8577 non-null float64\n",
      "dtypes: float64(11), int64(1), object(1)\n",
      "memory usage: 872.9+ KB\n"
     ]
    }
   ],
   "source": [
    "df.info()"
   ]
  },
  {
   "cell_type": "code",
   "execution_count": 6,
   "metadata": {},
   "outputs": [],
   "source": [
    "df.dropna(inplace=True)"
   ]
  },
  {
   "cell_type": "raw",
   "metadata": {},
   "source": [
    "QUESTIONS\n",
    "1) Did people become less trusting from 2012 to 2014? Compute results for each country in the sample.\n",
    "\n",
    "2) Did people become happier from 2012 to 2014? Compute results for each country in the sample.\n",
    "\n",
    "3) Who reported watching more TV in 2012, men or women?\n",
    "\n",
    "4) Who was more likely to believe people were fair in 2012, people living with a partner or people living alone?\n",
    "\n",
    "5) Pick three or four of the countries in the sample and compare how often people met socially in 2014. Are there differences, and if so, which countries stand out?\n",
    "\n",
    "6) Pick three or four of the countries in the sample and compare how often people took part in social activities, relative to others their age, in 2014. Are there differences, and if so, which countries stand out?"
   ]
  },
  {
   "cell_type": "markdown",
   "metadata": {},
   "source": [
    "### 1) Did people become less trusting from 2012 to 2014? Compute results for each country in the sample."
   ]
  },
  {
   "cell_type": "code",
   "execution_count": 8,
   "metadata": {},
   "outputs": [],
   "source": [
    "#changing values of 6 and 7 into 2012 and 2014\n",
    "df['year'] = np.where(df['year'] == 6, 2012, 2014)"
   ]
  },
  {
   "cell_type": "code",
   "execution_count": 9,
   "metadata": {},
   "outputs": [],
   "source": [
    "year_2012 = df[df['year'] == 2012][['ppltrst', 'cntry']]"
   ]
  },
  {
   "cell_type": "code",
   "execution_count": 10,
   "metadata": {},
   "outputs": [],
   "source": [
    "year_2014 = df[df['year'] == 2014][['ppltrst', 'cntry']]"
   ]
  },
  {
   "cell_type": "code",
   "execution_count": 11,
   "metadata": {},
   "outputs": [],
   "source": [
    "country = df.cntry.unique()"
   ]
  },
  {
   "cell_type": "code",
   "execution_count": 14,
   "metadata": {},
   "outputs": [
    {
     "data": {
      "image/png": "[encoded data removed]",
      "text/plain": [
       "<Figure size 1080x576 with 6 Axes>"
      ]
     },
     "metadata": {
      "needs_background": "light"
     },
     "output_type": "display_data"
    }
   ],
   "source": [
    "plt.figure(figsize=(15,8))\n",
    "plt.subtitle('2012', size=13)\n",
    "idx = 1\n",
    "for i in country:\n",
    "    to_plot = year_2012['ppltrst'][year_2012['cntry'] == i]\n",
    "    plt.subplot(2,3,idx)\n",
    "    plt.title(i, size=10)\n",
    "    plt.hist(to_plot)\n",
    "    \n",
    "    idx += 1\n",
    "\n",
    "plt.show()"
   ]
  },
  {
   "cell_type": "code",
   "execution_count": 15,
   "metadata": {},
   "outputs": [
    {
     "data": {
      "image/png": "[encoded data removed]",
      "text/plain": [
       "<Figure size 1080x576 with 6 Axes>"
      ]
     },
     "metadata": {
      "needs_background": "light"
     },
     "output_type": "display_data"
    }
   ],
   "source": [
    "plt.figure(figsize=(15,8))\n",
    "plt.suptitle('2014', size=13)\n",
    "idx = 1\n",
    "for i in country:\n",
    "    \n",
    "    to_plot = year_2014['ppltrst'][year_2014['cntry'] == i]\n",
    "    plt.subplot(2,3,idx)\n",
    "    plt.title(i, size=10)\n",
    "    plt.hist(to_plot)\n",
    "    \n",
    "    \n",
    "    idx += 1\n",
    "\n",
    "plt.show()"
   ]
  },
  {
   "cell_type": "code",
   "execution_count": 16,
   "metadata": {},
   "outputs": [
    {
     "data": {
      "text/html": [
       "<div>\n",
       "<style scoped>\n",
       "    .dataframe tbody tr th:only-of-type {\n",
       "        vertical-align: middle;\n",
       "    }\n",
       "\n",
       "    .dataframe tbody tr th {\n",
       "        vertical-align: top;\n",
       "    }\n",
       "\n",
       "    .dataframe thead th {\n",
       "        text-align: right;\n",
       "    }\n",
       "</style>\n",
       "<table border=\"1\" class=\"dataframe\">\n",
       "  <thead>\n",
       "    <tr style=\"text-align: right;\">\n",
       "      <th></th>\n",
       "      <th>ppltrst</th>\n",
       "      <th>ppltrst</th>\n",
       "    </tr>\n",
       "    <tr>\n",
       "      <th>cntry</th>\n",
       "      <th></th>\n",
       "      <th></th>\n",
       "    </tr>\n",
       "  </thead>\n",
       "  <tbody>\n",
       "    <tr>\n",
       "      <th>CH</th>\n",
       "      <td>5.685792</td>\n",
       "      <td>5.764468</td>\n",
       "    </tr>\n",
       "    <tr>\n",
       "      <th>CZ</th>\n",
       "      <td>4.402662</td>\n",
       "      <td>4.356436</td>\n",
       "    </tr>\n",
       "    <tr>\n",
       "      <th>DE</th>\n",
       "      <td>5.076923</td>\n",
       "      <td>5.357143</td>\n",
       "    </tr>\n",
       "    <tr>\n",
       "      <th>ES</th>\n",
       "      <td>5.127807</td>\n",
       "      <td>4.940035</td>\n",
       "    </tr>\n",
       "    <tr>\n",
       "      <th>NO</th>\n",
       "      <td>6.648305</td>\n",
       "      <td>6.599719</td>\n",
       "    </tr>\n",
       "    <tr>\n",
       "      <th>SE</th>\n",
       "      <td>6.043073</td>\n",
       "      <td>6.239908</td>\n",
       "    </tr>\n",
       "  </tbody>\n",
       "</table>\n",
       "</div>"
      ],
      "text/plain": [
       "        ppltrst   ppltrst\n",
       "cntry                    \n",
       "CH     5.685792  5.764468\n",
       "CZ     4.402662  4.356436\n",
       "DE     5.076923  5.357143\n",
       "ES     5.127807  4.940035\n",
       "NO     6.648305  6.599719\n",
       "SE     6.043073  6.239908"
      ]
     },
     "execution_count": 16,
     "metadata": {},
     "output_type": "execute_result"
    }
   ],
   "source": [
    "year_2012_cntry = df[df['year'] == 2012][['ppltrst', 'cntry']].groupby(by = 'cntry')\n",
    "year_2014_cntry = df[df['year'] == 2014][['ppltrst', 'cntry']].groupby(by = 'cntry')\n",
    "pd.concat([year_2012_cntry.mean(), year_2014_cntry.mean()], axis=1)"
   ]
  },
  {
   "cell_type": "code",
   "execution_count": 17,
   "metadata": {},
   "outputs": [
    {
     "data": {
      "text/plain": [
       "ppltrst    5.578482\n",
       "dtype: float64"
      ]
     },
     "execution_count": 17,
     "metadata": {},
     "output_type": "execute_result"
    }
   ],
   "source": [
    "df[df['year'] == 2012][['ppltrst', 'cntry']].mean()"
   ]
  },
  {
   "cell_type": "code",
   "execution_count": 18,
   "metadata": {},
   "outputs": [
    {
     "data": {
      "text/plain": [
       "ppltrst    5.571394\n",
       "dtype: float64"
      ]
     },
     "execution_count": 18,
     "metadata": {},
     "output_type": "execute_result"
    }
   ],
   "source": [
    "df[df['year'] == 2014][['ppltrst', 'cntry']].mean()"
   ]
  },
  {
   "cell_type": "markdown",
   "metadata": {},
   "source": [
    "### On average peoples trust in 2012 was higher then 2014"
   ]
  },
  {
   "cell_type": "code",
   "execution_count": 20,
   "metadata": {},
   "outputs": [
    {
     "data": {
      "text/plain": [
       "KruskalResult(statistic=0.11927994139654356, pvalue=0.7298167669759283)"
      ]
     },
     "execution_count": 20,
     "metadata": {},
     "output_type": "execute_result"
    }
   ],
   "source": [
    "stats.kruskal(df[df['year'] == 2012][['ppltrst']], \n",
    "              df[df['year'] == 2014][['ppltrst']])"
   ]
  },
  {
   "cell_type": "markdown",
   "metadata": {},
   "source": [
    "### It appears that the groups do not differ significantly"
   ]
  },
  {
   "cell_type": "code",
   "execution_count": 21,
   "metadata": {},
   "outputs": [
    {
     "name": "stdout",
     "output_type": "stream",
     "text": [
      "CH KruskalResult(statistic=0.3211329972268854, pvalue=0.5709275494134165)\n",
      "CZ KruskalResult(statistic=3.397334444818437e-05, pvalue=0.9953494239190417)\n",
      "DE KruskalResult(statistic=0.11943127962085082, pvalue=0.7296521329635768)\n",
      "ES KruskalResult(statistic=6.254399514712144, pvalue=0.012388523566141176)\n",
      "NO KruskalResult(statistic=0.20681671394808315, pvalue=0.649273954856751)\n",
      "SE KruskalResult(statistic=4.486790845114948, pvalue=0.03415774143761488)\n"
     ]
    }
   ],
   "source": [
    "for i in country:\n",
    "    \n",
    "    print(i, stats.kruskal(df[df['year'] == 2012]['ppltrst'][year_2012['cntry'] == i], \n",
    "                 df[df['year'] == 2014]['ppltrst'][year_2014['cntry'] == i]))"
   ]
  },
  {
   "cell_type": "markdown",
   "metadata": {},
   "source": [
    "### 2) Did people become happier from 2012 to 2014? Compute results for each country in the sample"
   ]
  },
  {
   "cell_type": "code",
   "execution_count": 31,
   "metadata": {},
   "outputs": [],
   "source": [
    "def did_people_become(parameter):\n",
    "    year_2012 = df[df['year'] == 2012][[parameter, 'cntry']]\n",
    "    year_2014 = df[df['year'] == 2014][[parameter, 'cntry']]\n",
    "    country = df.cntry.unique()\n",
    "    plt.figure(figsize=(15,8))\n",
    "    plt.suptitle('2012', size=13)\n",
    "    idx = 1\n",
    "    for i in country:\n",
    "    \n",
    "        to_plot = year_2012[parameter][year_2012['cntry'] == i]\n",
    "        plt.subplot(2,3,idx)\n",
    "        plt.title(i, size=10)\n",
    "        plt.hist(to_plot)\n",
    "    \n",
    "    \n",
    "        idx += 1\n",
    "\n",
    "    plt.show()\n",
    "    plt.figure(figsize=(15,8))\n",
    "    plt.suptitle('2014', size=13)\n",
    "    idx = 1\n",
    "    for i in country:\n",
    "    \n",
    "        to_plot = year_2014[parameter][year_2014['cntry'] == i]\n",
    "        plt.subplot(2,3,idx)\n",
    "        plt.title(i, size=10)\n",
    "        plt.hist(to_plot)\n",
    "    \n",
    "    \n",
    "        idx += 1\n",
    "\n",
    "    plt.show()\n",
    "    \n",
    "    year_2012_cntry = df[df['year'] == 2012][[parameter, 'cntry']].groupby(by = 'cntry')\n",
    "    year_2014_cntry = df[df['year'] == 2014][[parameter, 'cntry']].groupby(by = 'cntry')\n",
    "    print(pd.concat([year_2012_cntry.mean(), year_2014_cntry.mean()], axis=1))\n",
    "    \n",
    "    print(df[df['year'] == 2012][[parameter, 'cntry']].mean())\n",
    "    (df[df['year'] == 2014][[parameter, 'cntry']].mean())\n",
    "    \n",
    "    print('stats.kruskal: ', stats.kruskal(df[df['year'] == 2012][['ppltrst']], \n",
    "              df[df['year'] == 2014][['ppltrst']]))\n",
    "    \n",
    "    \n",
    "    for i in country:\n",
    "    \n",
    "        print('stats.kruskal: ', i, stats.kruskal(df[df['year'] == 2012]['ppltrst'][year_2012['cntry'] == i], \n",
    "                 df[df['year'] == 2014]['ppltrst'][year_2014['cntry'] == i]))"
   ]
  },
  {
   "cell_type": "code",
   "execution_count": 32,
   "metadata": {},
   "outputs": [
    {
     "data": {
      "image/png": "[encoded data removed]",
      "text/plain": [
       "<Figure size 1080x576 with 6 Axes>"
      ]
     },
     "metadata": {
      "needs_background": "light"
     },
     "output_type": "display_data"
    },
    {
     "data": {
      "image/png": "[encoded data removed]",
      "text/plain": [
       "<Figure size 1080x576 with 6 Axes>"
      ]
     },
     "metadata": {
      "needs_background": "light"
     },
     "output_type": "display_data"
    },
    {
     "name": "stdout",
     "output_type": "stream",
     "text": [
      "          happy     happy\n",
      "cntry                    \n",
      "CH     8.083333  8.142665\n",
      "CZ     6.790349  6.922442\n",
      "DE     7.307692  7.857143\n",
      "ES     7.557858  7.450617\n",
      "NO     8.252825  7.919944\n",
      "SE     7.901048  7.938870\n",
      "happy    7.731516\n",
      "dtype: float64\n",
      "stats.kruskal:  KruskalResult(statistic=0.11927994139654356, pvalue=0.7298167669759283)\n",
      "stats.kruskal:  CH KruskalResult(statistic=0.3211329972268854, pvalue=0.5709275494134165)\n",
      "stats.kruskal:  CZ KruskalResult(statistic=3.397334444818437e-05, pvalue=0.9953494239190417)\n",
      "stats.kruskal:  DE KruskalResult(statistic=0.11943127962085082, pvalue=0.7296521329635768)\n",
      "stats.kruskal:  ES KruskalResult(statistic=6.254399514712144, pvalue=0.012388523566141176)\n",
      "stats.kruskal:  NO KruskalResult(statistic=0.20681671394808315, pvalue=0.649273954856751)\n",
      "stats.kruskal:  SE KruskalResult(statistic=4.486790845114948, pvalue=0.03415774143761488)\n"
     ]
    }
   ],
   "source": [
    "did_people_become('happy')"
   ]
  },
  {
   "cell_type": "code",
   "execution_count": 33,
   "metadata": {},
   "outputs": [],
   "source": [
    "df['gndr'] = ['Male' if v == 1.0 else 'Female' for v in df.gndr.values]"
   ]
  },
  {
   "cell_type": "code",
   "execution_count": 34,
   "metadata": {},
   "outputs": [],
   "source": [
    "import seaborn as sns"
   ]
  },
  {
   "cell_type": "code",
   "execution_count": 35,
   "metadata": {},
   "outputs": [
    {
     "data": {
      "text/plain": [
       "<matplotlib.axes._subplots.AxesSubplot at 0x909deb00b8>"
      ]
     },
     "execution_count": 35,
     "metadata": {},
     "output_type": "execute_result"
    },
    {
     "data": {
      "image/png": "[encoded data removed]",
      "text/plain": [
       "<Figure size 432x288 with 1 Axes>"
      ]
     },
     "metadata": {
      "needs_background": "light"
     },
     "output_type": "display_data"
    }
   ],
   "source": [
    "sns.countplot(x=df[df['year']== 2012]['tvtot'], hue = df['gndr'], palette=\"pastel\")"
   ]
  },
  {
   "cell_type": "markdown",
   "metadata": {},
   "source": [
    "### 4) Who was more likely to believe people were fair in 2012, people living with a partner or people living alone?"
   ]
  },
  {
   "cell_type": "code",
   "execution_count": 37,
   "metadata": {},
   "outputs": [
    {
     "data": {
      "text/plain": [
       "<matplotlib.axes._subplots.AxesSubplot at 0x909df5c390>"
      ]
     },
     "execution_count": 37,
     "metadata": {},
     "output_type": "execute_result"
    },
    {
     "data": {
      "image/png": "[encoded data removed]",
      "text/plain": [
       "<Figure size 432x288 with 1 Axes>"
      ]
     },
     "metadata": {
      "needs_background": "light"
     },
     "output_type": "display_data"
    }
   ],
   "source": [
    "df[['pplfair', 'partner']]\n",
    "df['partner'] = ['Partner' if i == 1.0 else 'Single' for i in df.partner.values]\n",
    "sns.countplot(x=df[df['year']== 2012]['pplfair'], hue = df['partner'], palette=\"pastel\")"
   ]
  },
  {
   "cell_type": "code",
   "execution_count": 38,
   "metadata": {},
   "outputs": [],
   "source": [
    "partner = df['pplfair'][(df['year']== 2012) & (df.partner == 'Partner')]\n",
    "single = df['pplfair'][(df['year']== 2012) & (df.partner == 'Single')]"
   ]
  },
  {
   "cell_type": "code",
   "execution_count": 39,
   "metadata": {},
   "outputs": [
    {
     "data": {
      "text/plain": [
       "6.0743509047993705"
      ]
     },
     "execution_count": 39,
     "metadata": {},
     "output_type": "execute_result"
    }
   ],
   "source": [
    "partner.mean()"
   ]
  },
  {
   "cell_type": "code",
   "execution_count": 40,
   "metadata": {},
   "outputs": [
    {
     "data": {
      "text/plain": [
       "5.86592544146501"
      ]
     },
     "execution_count": 40,
     "metadata": {},
     "output_type": "execute_result"
    }
   ],
   "source": [
    "single.mean()"
   ]
  },
  {
   "cell_type": "code",
   "execution_count": null,
   "metadata": {},
   "outputs": [],
   "source": []
  }
 ],
 "metadata": {
  "kernelspec": {
   "display_name": "Python 3",
   "language": "python",
   "name": "python3"
  },
  "language_info": {
   "codemirror_mode": {
    "name": "ipython",
    "version": 3
   },
   "file_extension": ".py",
   "mimetype": "text/x-python",
   "name": "python",
   "nbconvert_exporter": "python",
   "pygments_lexer": "ipython3",
   "version": "3.7.3"
  }
 },
 "nbformat": 4,
 "nbformat_minor": 2
}
