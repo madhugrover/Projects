{
 "cells": [
  {
   "cell_type": "code",
   "execution_count": 1,
   "metadata": {},
   "outputs": [],
   "source": [
    "# importing libraries,reading csv into a dataframe\n",
    "import numpy as np\n",
    "import pandas as pd\n",
    "data = pd.read_csv(\"python munging.csv\")"
   ]
  },
  {
   "cell_type": "markdown",
   "metadata": {},
   "source": [
    "### Explotary data Analysis"
   ]
  },
  {
   "cell_type": "code",
   "execution_count": 2,
   "metadata": {},
   "outputs": [
    {
     "data": {
      "text/plain": [
       "(154, 39)"
      ]
     },
     "execution_count": 2,
     "metadata": {},
     "output_type": "execute_result"
    }
   ],
   "source": [
    "data.shape"
   ]
  },
  {
   "cell_type": "code",
   "execution_count": 3,
   "metadata": {},
   "outputs": [
    {
     "data": {
      "text/plain": [
       "array([ 0.5,  1. ,  2. ,  3. ,  4. ,  5. ,  6. ,  7. ,  8. ,  9. , 10. ])"
      ]
     },
     "execution_count": 3,
     "metadata": {},
     "output_type": "execute_result"
    }
   ],
   "source": [
    "data.Tenor.unique()"
   ]
  },
  {
   "cell_type": "code",
   "execution_count": 4,
   "metadata": {},
   "outputs": [
    {
     "data": {
      "text/plain": [
       "array(['III', 'CDXHY10', 'CDXHY10-10-15', 'CDXHY10-15-25',\n",
       "       'CDXHY10-25-35', 'CDXHY10-35-100', 'CDXHY11', 'CDXHY11-10-15',\n",
       "       'CDXHY11-15-25', 'CDXHY11-25-35', 'CDXHY11-35-100', 'CDXHY12',\n",
       "       'CDXHY13', 'CDXHY14', 'CDXHY15', 'CDXHY15-0-15', 'CDXHY15-15-25',\n",
       "       'CDXHY15-25-35', 'CDXHY15-35-100', 'CDXHY16', 'CDXHY17',\n",
       "       'CDXHY17-0-15', 'CDXHY17-15-25', 'CDXHY17-25-35', 'CDXHY17-35-100',\n",
       "       'CDXHY18', 'CDXHY19', 'CDXHY19-0-15', 'CDXHY19-15-25',\n",
       "       'CDXHY19-25-35', 'CDXHY19-35-100', 'CDXHY20', 'CDXHY21',\n",
       "       'CDXHY21-0-15', 'CDXHY21-15-25', 'CDXHY21-25-35', 'CDXHY21-35-100',\n",
       "       'CDXHY22', 'CDXHY8', 'CDXHY9', 'CDXHY9-10-15', 'CDXHY9-15-25',\n",
       "       'CDXHY9-25-35', 'CDXHY9-35-100'], dtype=object)"
      ]
     },
     "execution_count": 4,
     "metadata": {},
     "output_type": "execute_result"
    }
   ],
   "source": [
    "data.CMATicker.unique()"
   ]
  },
  {
   "cell_type": "markdown",
   "metadata": {},
   "source": [
    "### Creating Primary Indicator 'PInd'"
   ]
  },
  {
   "cell_type": "code",
   "execution_count": 5,
   "metadata": {},
   "outputs": [],
   "source": [
    "data['PInd'] = data['CMATicker']+'-'+ data['Tenor'].map(str)[:-2]"
   ]
  },
  {
   "cell_type": "code",
   "execution_count": 6,
   "metadata": {},
   "outputs": [
    {
     "data": {
      "text/html": [
       "<div>\n",
       "<style scoped>\n",
       "    .dataframe tbody tr th:only-of-type {\n",
       "        vertical-align: middle;\n",
       "    }\n",
       "\n",
       "    .dataframe tbody tr th {\n",
       "        vertical-align: top;\n",
       "    }\n",
       "\n",
       "    .dataframe thead th {\n",
       "        text-align: right;\n",
       "    }\n",
       "</style>\n",
       "<table border=\"1\" class=\"dataframe\">\n",
       "  <thead>\n",
       "    <tr style=\"text-align: right;\">\n",
       "      <th></th>\n",
       "      <th>CMATicker</th>\n",
       "      <th>Tenor</th>\n",
       "      <th>PInd</th>\n",
       "    </tr>\n",
       "  </thead>\n",
       "  <tbody>\n",
       "    <tr>\n",
       "      <td>0</td>\n",
       "      <td>III</td>\n",
       "      <td>0.5</td>\n",
       "      <td>III-0.5</td>\n",
       "    </tr>\n",
       "    <tr>\n",
       "      <td>1</td>\n",
       "      <td>III</td>\n",
       "      <td>1.0</td>\n",
       "      <td>III-1.0</td>\n",
       "    </tr>\n",
       "    <tr>\n",
       "      <td>2</td>\n",
       "      <td>III</td>\n",
       "      <td>2.0</td>\n",
       "      <td>III-2.0</td>\n",
       "    </tr>\n",
       "    <tr>\n",
       "      <td>3</td>\n",
       "      <td>III</td>\n",
       "      <td>3.0</td>\n",
       "      <td>III-3.0</td>\n",
       "    </tr>\n",
       "    <tr>\n",
       "      <td>4</td>\n",
       "      <td>III</td>\n",
       "      <td>4.0</td>\n",
       "      <td>III-4.0</td>\n",
       "    </tr>\n",
       "    <tr>\n",
       "      <td>...</td>\n",
       "      <td>...</td>\n",
       "      <td>...</td>\n",
       "      <td>...</td>\n",
       "    </tr>\n",
       "    <tr>\n",
       "      <td>149</td>\n",
       "      <td>CDXHY9</td>\n",
       "      <td>10.0</td>\n",
       "      <td>CDXHY9-10.0</td>\n",
       "    </tr>\n",
       "    <tr>\n",
       "      <td>150</td>\n",
       "      <td>CDXHY9-10-15</td>\n",
       "      <td>7.0</td>\n",
       "      <td>CDXHY9-10-15-7.0</td>\n",
       "    </tr>\n",
       "    <tr>\n",
       "      <td>151</td>\n",
       "      <td>CDXHY9-15-25</td>\n",
       "      <td>7.0</td>\n",
       "      <td>CDXHY9-15-25-7.0</td>\n",
       "    </tr>\n",
       "    <tr>\n",
       "      <td>152</td>\n",
       "      <td>CDXHY9-25-35</td>\n",
       "      <td>7.0</td>\n",
       "      <td>NaN</td>\n",
       "    </tr>\n",
       "    <tr>\n",
       "      <td>153</td>\n",
       "      <td>CDXHY9-35-100</td>\n",
       "      <td>7.0</td>\n",
       "      <td>NaN</td>\n",
       "    </tr>\n",
       "  </tbody>\n",
       "</table>\n",
       "<p>154 rows × 3 columns</p>\n",
       "</div>"
      ],
      "text/plain": [
       "         CMATicker  Tenor              PInd\n",
       "0              III    0.5           III-0.5\n",
       "1              III    1.0           III-1.0\n",
       "2              III    2.0           III-2.0\n",
       "3              III    3.0           III-3.0\n",
       "4              III    4.0           III-4.0\n",
       "..             ...    ...               ...\n",
       "149         CDXHY9   10.0       CDXHY9-10.0\n",
       "150   CDXHY9-10-15    7.0  CDXHY9-10-15-7.0\n",
       "151   CDXHY9-15-25    7.0  CDXHY9-15-25-7.0\n",
       "152   CDXHY9-25-35    7.0               NaN\n",
       "153  CDXHY9-35-100    7.0               NaN\n",
       "\n",
       "[154 rows x 3 columns]"
      ]
     },
     "execution_count": 6,
     "metadata": {},
     "output_type": "execute_result"
    }
   ],
   "source": [
    "data[['CMATicker', 'Tenor', 'PInd']]"
   ]
  },
  {
   "cell_type": "markdown",
   "metadata": {},
   "source": [
    "### Filtering coupons which are not 100 or 500"
   ]
  },
  {
   "cell_type": "code",
   "execution_count": 7,
   "metadata": {},
   "outputs": [
    {
     "data": {
      "text/plain": [
       "Index(['BusinessDate', 'ClientEntityId', 'CMAEntityId', 'CMATicker',\n",
       "       'EntityName', 'Standard', 'Sector', 'Seniority', 'Currency',\n",
       "       'RestructuringType', 'InstrumentType', 'DefaultDate', 'AuctionDate',\n",
       "       'Tenor', 'MarketQuotingConvention', 'ObservedDerivedIndicator',\n",
       "       'Coupon', 'Delta', 'Reference', 'RecoveryRate', 'MidDailyHigh',\n",
       "       'MidDailyLow', 'AggregationQuoteTimeStamp', 'AggregationWindow',\n",
       "       'AggregationContributors', 'AggregationContributedQuotes',\n",
       "       'AggregationMaximumSources', 'AggregationMaximumQuotes',\n",
       "       'DailyContributors', 'DailyContributedQuotes',\n",
       "       'DailyContributedSpreadQuotes', 'DailyContributedUpfrontQuotes',\n",
       "       'DailyMaximumSources', 'DailyMaximumQuotes', 'PV01', 'HazardRate',\n",
       "       'CumProbabilityofDefault', 'CMAShortTermImpliedRating',\n",
       "       'CMALongTermImpliedRating', 'PInd'],\n",
       "      dtype='object')"
      ]
     },
     "execution_count": 7,
     "metadata": {},
     "output_type": "execute_result"
    }
   ],
   "source": [
    "data.columns"
   ]
  },
  {
   "cell_type": "code",
   "execution_count": 11,
   "metadata": {},
   "outputs": [
    {
     "data": {
      "text/plain": [
       "(144, 40)"
      ]
     },
     "execution_count": 11,
     "metadata": {},
     "output_type": "execute_result"
    }
   ],
   "source": [
    "Coupons =[100,500]\n",
    "data2 = data[data.Coupon.isin(Coupons)]\n",
    "data2.shape"
   ]
  },
  {
   "cell_type": "code",
   "execution_count": null,
   "metadata": {},
   "outputs": [],
   "source": []
  }
 ],
 "metadata": {
  "kernelspec": {
   "display_name": "Python 3",
   "language": "python",
   "name": "python3"
  },
  "language_info": {
   "codemirror_mode": {
    "name": "ipython",
    "version": 3
   },
   "file_extension": ".py",
   "mimetype": "text/x-python",
   "name": "python",
   "nbconvert_exporter": "python",
   "pygments_lexer": "ipython3",
   "version": "3.7.4"
  }
 },
 "nbformat": 4,
 "nbformat_minor": 2
}
