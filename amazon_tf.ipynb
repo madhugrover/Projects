{
  "nbformat": 4,
  "nbformat_minor": 0,
  "metadata": {
    "colab": {
      "name": "amazon_tf.ipynb",
      "provenance": [],
      "collapsed_sections": [],
      "include_colab_link": true
    },
    "kernelspec": {
      "name": "python3",
      "display_name": "Python 3"
    }
  },
  "cells": [
    {
      "cell_type": "markdown",
      "metadata": {
        "id": "view-in-github",
        "colab_type": "text"
      },
      "source": [
        "<a href=\"https://colab.research.google.com/github/madhugrover/Thinkful_projects/blob/master/amazon_tf.ipynb\" target=\"_parent\"><img src=\"https://colab.research.google.com/assets/colab-badge.svg\" alt=\"Open In Colab\"/></a>"
      ]
    },
    {
      "cell_type": "code",
      "metadata": {
        "id": "rs3bEe013tQ5",
        "colab_type": "code",
        "colab": {}
      },
      "source": [
        "import pandas as pd\n",
        "import numpy as np\n",
        "# matplotlib pyplot for plotting\n",
        "import matplotlib.pyplot as plt\n",
        "from matplotlib.pyplot import figure"
      ],
      "execution_count": 0,
      "outputs": []
    },
    {
      "cell_type": "code",
      "metadata": {
        "id": "njbuIGdF4FNQ",
        "colab_type": "code",
        "colab": {}
      },
      "source": [
        "\n",
        "from alpha_vantage.timeseries import TimeSeries\n",
        "from alpha_vantage.techindicators import TechIndicators\n",
        "key = 'GKY9V5THAXIUXZ1N'\n",
        "ts = TimeSeries(key,output_format='pandas')\n",
        "ti = TechIndicators(key,output_format='pandas' )\n",
        "# amzn_data is a pandas dataframe, amzn_meta_data is a dict\n",
        "amzn, amzn_meta_data = ts.get_daily(symbol='AMZN',outputsize='full' )\n",
        "amzn_rsi, amzn_rsi_meta_data = ti.get_rsi(symbol='AMZN' )\n",
        "amzn_macd, amzn_macd_meta_data = ti.get_macd(symbol='AMZN' )\n",
        "amzn_bbands, amzn_bbands_meta_data = ti.get_bbands(symbol='AMZN' )\n",
        "# Get the data, returns a tuple\n",
        "# amzn_sma is a dict, aapl_meta_sma also a dict\n",
        "amzn_sma = ti.get_sma(symbol='AMZN')"
      ],
      "execution_count": 0,
      "outputs": []
    },
    {
      "cell_type": "code",
      "metadata": {
        "id": "A6EKuYz_lhJR",
        "colab_type": "code",
        "colab": {}
      },
      "source": [
        "amzn_data = pd.merge(amzn,amzn_rsi, how = 'outer', on = 'date')"
      ],
      "execution_count": 0,
      "outputs": []
    },
    {
      "cell_type": "code",
      "metadata": {
        "id": "Qj_V3SzjnJE2",
        "colab_type": "code",
        "colab": {}
      },
      "source": [
        "amzn_data = pd.merge(amzn_data,amzn_macd, how = 'outer', on = 'date')\n"
      ],
      "execution_count": 0,
      "outputs": []
    },
    {
      "cell_type": "code",
      "metadata": {
        "id": "fmFlOlQVnROw",
        "colab_type": "code",
        "colab": {}
      },
      "source": [
        "amzn_data = pd.merge(amzn_data,amzn_bbands, how = 'outer', on = 'date')\n"
      ],
      "execution_count": 0,
      "outputs": []
    },
    {
      "cell_type": "code",
      "metadata": {
        "id": "Xex8p5Pb5e4J",
        "colab_type": "code",
        "outputId": "eb3c96af-d644-47c0-ecf1-73aada6b1ce8",
        "colab": {
          "base_uri": "https://localhost:8080/",
          "height": 431
        }
      },
      "source": [
        "amzn_data.rename(columns = {'1. open':'open','2. high':'high','3. low':'low','4. close':'close','5. volume':'volume','Real Upper Band':'bb_upper','Real Lower Band':'bb_lower','Real Middle Band': 'bb_middle'},inplace = True)\n",
        "df = amzn_data.sort_values('date')\n",
        "df"
      ],
      "execution_count": 0,
      "outputs": [
        {
          "output_type": "execute_result",
          "data": {
            "text/html": [
              "<div>\n",
              "<style scoped>\n",
              "    .dataframe tbody tr th:only-of-type {\n",
              "        vertical-align: middle;\n",
              "    }\n",
              "\n",
              "    .dataframe tbody tr th {\n",
              "        vertical-align: top;\n",
              "    }\n",
              "\n",
              "    .dataframe thead th {\n",
              "        text-align: right;\n",
              "    }\n",
              "</style>\n",
              "<table border=\"1\" class=\"dataframe\">\n",
              "  <thead>\n",
              "    <tr style=\"text-align: right;\">\n",
              "      <th></th>\n",
              "      <th>open</th>\n",
              "      <th>high</th>\n",
              "      <th>low</th>\n",
              "      <th>close</th>\n",
              "      <th>volume</th>\n",
              "      <th>RSI</th>\n",
              "      <th>MACD</th>\n",
              "      <th>MACD_Hist</th>\n",
              "      <th>MACD_Signal</th>\n",
              "      <th>bb_middle</th>\n",
              "      <th>bb_upper</th>\n",
              "      <th>bb_lower</th>\n",
              "    </tr>\n",
              "    <tr>\n",
              "      <th>date</th>\n",
              "      <th></th>\n",
              "      <th></th>\n",
              "      <th></th>\n",
              "      <th></th>\n",
              "      <th></th>\n",
              "      <th></th>\n",
              "      <th></th>\n",
              "      <th></th>\n",
              "      <th></th>\n",
              "      <th></th>\n",
              "      <th></th>\n",
              "      <th></th>\n",
              "    </tr>\n",
              "  </thead>\n",
              "  <tbody>\n",
              "    <tr>\n",
              "      <th>2000-03-03</th>\n",
              "      <td>63.25</td>\n",
              "      <td>64.75</td>\n",
              "      <td>62.06</td>\n",
              "      <td>62.50</td>\n",
              "      <td>6059500.0</td>\n",
              "      <td>NaN</td>\n",
              "      <td>NaN</td>\n",
              "      <td>NaN</td>\n",
              "      <td>NaN</td>\n",
              "      <td>NaN</td>\n",
              "      <td>NaN</td>\n",
              "      <td>NaN</td>\n",
              "    </tr>\n",
              "    <tr>\n",
              "      <th>2000-03-06</th>\n",
              "      <td>62.88</td>\n",
              "      <td>67.25</td>\n",
              "      <td>62.81</td>\n",
              "      <td>63.94</td>\n",
              "      <td>7665800.0</td>\n",
              "      <td>NaN</td>\n",
              "      <td>NaN</td>\n",
              "      <td>NaN</td>\n",
              "      <td>NaN</td>\n",
              "      <td>NaN</td>\n",
              "      <td>NaN</td>\n",
              "      <td>NaN</td>\n",
              "    </tr>\n",
              "    <tr>\n",
              "      <th>2000-03-07</th>\n",
              "      <td>64.88</td>\n",
              "      <td>65.81</td>\n",
              "      <td>62.13</td>\n",
              "      <td>63.50</td>\n",
              "      <td>4178800.0</td>\n",
              "      <td>NaN</td>\n",
              "      <td>NaN</td>\n",
              "      <td>NaN</td>\n",
              "      <td>NaN</td>\n",
              "      <td>NaN</td>\n",
              "      <td>NaN</td>\n",
              "      <td>NaN</td>\n",
              "    </tr>\n",
              "    <tr>\n",
              "      <th>2000-03-08</th>\n",
              "      <td>63.25</td>\n",
              "      <td>64.75</td>\n",
              "      <td>60.56</td>\n",
              "      <td>63.63</td>\n",
              "      <td>5940700.0</td>\n",
              "      <td>NaN</td>\n",
              "      <td>NaN</td>\n",
              "      <td>NaN</td>\n",
              "      <td>NaN</td>\n",
              "      <td>NaN</td>\n",
              "      <td>NaN</td>\n",
              "      <td>NaN</td>\n",
              "    </tr>\n",
              "    <tr>\n",
              "      <th>2000-03-09</th>\n",
              "      <td>63.00</td>\n",
              "      <td>69.00</td>\n",
              "      <td>62.19</td>\n",
              "      <td>68.81</td>\n",
              "      <td>8312500.0</td>\n",
              "      <td>NaN</td>\n",
              "      <td>NaN</td>\n",
              "      <td>NaN</td>\n",
              "      <td>NaN</td>\n",
              "      <td>NaN</td>\n",
              "      <td>NaN</td>\n",
              "      <td>NaN</td>\n",
              "    </tr>\n",
              "    <tr>\n",
              "      <th>...</th>\n",
              "      <td>...</td>\n",
              "      <td>...</td>\n",
              "      <td>...</td>\n",
              "      <td>...</td>\n",
              "      <td>...</td>\n",
              "      <td>...</td>\n",
              "      <td>...</td>\n",
              "      <td>...</td>\n",
              "      <td>...</td>\n",
              "      <td>...</td>\n",
              "      <td>...</td>\n",
              "      <td>...</td>\n",
              "    </tr>\n",
              "    <tr>\n",
              "      <th>2020-02-27</th>\n",
              "      <td>1934.38</td>\n",
              "      <td>1975.00</td>\n",
              "      <td>1882.76</td>\n",
              "      <td>1884.30</td>\n",
              "      <td>8143993.0</td>\n",
              "      <td>41.0197</td>\n",
              "      <td>17.6430</td>\n",
              "      <td>-31.9403</td>\n",
              "      <td>49.5833</td>\n",
              "      <td>2062.6490</td>\n",
              "      <td>2240.7491</td>\n",
              "      <td>1884.5489</td>\n",
              "    </tr>\n",
              "    <tr>\n",
              "      <th>2020-02-28</th>\n",
              "      <td>1814.63</td>\n",
              "      <td>1889.76</td>\n",
              "      <td>1811.13</td>\n",
              "      <td>1883.75</td>\n",
              "      <td>9493797.0</td>\n",
              "      <td>40.9784</td>\n",
              "      <td>4.5453</td>\n",
              "      <td>-36.0304</td>\n",
              "      <td>40.5757</td>\n",
              "      <td>2063.3025</td>\n",
              "      <td>2238.6550</td>\n",
              "      <td>1887.9500</td>\n",
              "    </tr>\n",
              "    <tr>\n",
              "      <th>2020-03-02</th>\n",
              "      <td>1906.49</td>\n",
              "      <td>1954.51</td>\n",
              "      <td>1870.00</td>\n",
              "      <td>1953.95</td>\n",
              "      <td>6761651.0</td>\n",
              "      <td>48.0136</td>\n",
              "      <td>-0.1683</td>\n",
              "      <td>-32.5952</td>\n",
              "      <td>32.4269</td>\n",
              "      <td>2060.5640</td>\n",
              "      <td>2240.8811</td>\n",
              "      <td>1880.2469</td>\n",
              "    </tr>\n",
              "    <tr>\n",
              "      <th>2020-03-03</th>\n",
              "      <td>1975.37</td>\n",
              "      <td>1996.33</td>\n",
              "      <td>1888.09</td>\n",
              "      <td>1908.99</td>\n",
              "      <td>7534491.0</td>\n",
              "      <td>44.4423</td>\n",
              "      <td>-7.4460</td>\n",
              "      <td>-31.8983</td>\n",
              "      <td>24.4523</td>\n",
              "      <td>2055.8035</td>\n",
              "      <td>2246.5472</td>\n",
              "      <td>1865.0598</td>\n",
              "    </tr>\n",
              "    <tr>\n",
              "      <th>2020-03-04</th>\n",
              "      <td>1946.57</td>\n",
              "      <td>1978.00</td>\n",
              "      <td>1922.00</td>\n",
              "      <td>1975.83</td>\n",
              "      <td>4670018.0</td>\n",
              "      <td>50.2349</td>\n",
              "      <td>-7.7310</td>\n",
              "      <td>-25.7466</td>\n",
              "      <td>18.0157</td>\n",
              "      <td>2052.1115</td>\n",
              "      <td>2246.0194</td>\n",
              "      <td>1858.2036</td>\n",
              "    </tr>\n",
              "  </tbody>\n",
              "</table>\n",
              "<p>5032 rows × 12 columns</p>\n",
              "</div>"
            ],
            "text/plain": [
              "               open     high      low  ...  bb_middle   bb_upper   bb_lower\n",
              "date                                   ...                                 \n",
              "2000-03-03    63.25    64.75    62.06  ...        NaN        NaN        NaN\n",
              "2000-03-06    62.88    67.25    62.81  ...        NaN        NaN        NaN\n",
              "2000-03-07    64.88    65.81    62.13  ...        NaN        NaN        NaN\n",
              "2000-03-08    63.25    64.75    60.56  ...        NaN        NaN        NaN\n",
              "2000-03-09    63.00    69.00    62.19  ...        NaN        NaN        NaN\n",
              "...             ...      ...      ...  ...        ...        ...        ...\n",
              "2020-02-27  1934.38  1975.00  1882.76  ...  2062.6490  2240.7491  1884.5489\n",
              "2020-02-28  1814.63  1889.76  1811.13  ...  2063.3025  2238.6550  1887.9500\n",
              "2020-03-02  1906.49  1954.51  1870.00  ...  2060.5640  2240.8811  1880.2469\n",
              "2020-03-03  1975.37  1996.33  1888.09  ...  2055.8035  2246.5472  1865.0598\n",
              "2020-03-04  1946.57  1978.00  1922.00  ...  2052.1115  2246.0194  1858.2036\n",
              "\n",
              "[5032 rows x 12 columns]"
            ]
          },
          "metadata": {
            "tags": []
          },
          "execution_count": 58
        }
      ]
    },
    {
      "cell_type": "code",
      "metadata": {
        "id": "wIeSZeWEUXhB",
        "colab_type": "code",
        "outputId": "0b9b56e7-6b1a-4b8d-f1f2-ff8b66c1f2ab",
        "colab": {
          "base_uri": "https://localhost:8080/",
          "height": 402
        }
      },
      "source": [
        "df.reset_index(inplace=True)\n",
        "df"
      ],
      "execution_count": 0,
      "outputs": [
        {
          "output_type": "execute_result",
          "data": {
            "text/html": [
              "<div>\n",
              "<style scoped>\n",
              "    .dataframe tbody tr th:only-of-type {\n",
              "        vertical-align: middle;\n",
              "    }\n",
              "\n",
              "    .dataframe tbody tr th {\n",
              "        vertical-align: top;\n",
              "    }\n",
              "\n",
              "    .dataframe thead th {\n",
              "        text-align: right;\n",
              "    }\n",
              "</style>\n",
              "<table border=\"1\" class=\"dataframe\">\n",
              "  <thead>\n",
              "    <tr style=\"text-align: right;\">\n",
              "      <th></th>\n",
              "      <th>date</th>\n",
              "      <th>open</th>\n",
              "      <th>high</th>\n",
              "      <th>low</th>\n",
              "      <th>close</th>\n",
              "      <th>volume</th>\n",
              "      <th>RSI</th>\n",
              "      <th>MACD</th>\n",
              "      <th>MACD_Hist</th>\n",
              "      <th>MACD_Signal</th>\n",
              "      <th>bb_middle</th>\n",
              "      <th>bb_upper</th>\n",
              "      <th>bb_lower</th>\n",
              "    </tr>\n",
              "  </thead>\n",
              "  <tbody>\n",
              "    <tr>\n",
              "      <th>0</th>\n",
              "      <td>2000-03-03</td>\n",
              "      <td>63.25</td>\n",
              "      <td>64.75</td>\n",
              "      <td>62.06</td>\n",
              "      <td>62.50</td>\n",
              "      <td>6059500.0</td>\n",
              "      <td>NaN</td>\n",
              "      <td>NaN</td>\n",
              "      <td>NaN</td>\n",
              "      <td>NaN</td>\n",
              "      <td>NaN</td>\n",
              "      <td>NaN</td>\n",
              "      <td>NaN</td>\n",
              "    </tr>\n",
              "    <tr>\n",
              "      <th>1</th>\n",
              "      <td>2000-03-06</td>\n",
              "      <td>62.88</td>\n",
              "      <td>67.25</td>\n",
              "      <td>62.81</td>\n",
              "      <td>63.94</td>\n",
              "      <td>7665800.0</td>\n",
              "      <td>NaN</td>\n",
              "      <td>NaN</td>\n",
              "      <td>NaN</td>\n",
              "      <td>NaN</td>\n",
              "      <td>NaN</td>\n",
              "      <td>NaN</td>\n",
              "      <td>NaN</td>\n",
              "    </tr>\n",
              "    <tr>\n",
              "      <th>2</th>\n",
              "      <td>2000-03-07</td>\n",
              "      <td>64.88</td>\n",
              "      <td>65.81</td>\n",
              "      <td>62.13</td>\n",
              "      <td>63.50</td>\n",
              "      <td>4178800.0</td>\n",
              "      <td>NaN</td>\n",
              "      <td>NaN</td>\n",
              "      <td>NaN</td>\n",
              "      <td>NaN</td>\n",
              "      <td>NaN</td>\n",
              "      <td>NaN</td>\n",
              "      <td>NaN</td>\n",
              "    </tr>\n",
              "    <tr>\n",
              "      <th>3</th>\n",
              "      <td>2000-03-08</td>\n",
              "      <td>63.25</td>\n",
              "      <td>64.75</td>\n",
              "      <td>60.56</td>\n",
              "      <td>63.63</td>\n",
              "      <td>5940700.0</td>\n",
              "      <td>NaN</td>\n",
              "      <td>NaN</td>\n",
              "      <td>NaN</td>\n",
              "      <td>NaN</td>\n",
              "      <td>NaN</td>\n",
              "      <td>NaN</td>\n",
              "      <td>NaN</td>\n",
              "    </tr>\n",
              "    <tr>\n",
              "      <th>4</th>\n",
              "      <td>2000-03-09</td>\n",
              "      <td>63.00</td>\n",
              "      <td>69.00</td>\n",
              "      <td>62.19</td>\n",
              "      <td>68.81</td>\n",
              "      <td>8312500.0</td>\n",
              "      <td>NaN</td>\n",
              "      <td>NaN</td>\n",
              "      <td>NaN</td>\n",
              "      <td>NaN</td>\n",
              "      <td>NaN</td>\n",
              "      <td>NaN</td>\n",
              "      <td>NaN</td>\n",
              "    </tr>\n",
              "    <tr>\n",
              "      <th>...</th>\n",
              "      <td>...</td>\n",
              "      <td>...</td>\n",
              "      <td>...</td>\n",
              "      <td>...</td>\n",
              "      <td>...</td>\n",
              "      <td>...</td>\n",
              "      <td>...</td>\n",
              "      <td>...</td>\n",
              "      <td>...</td>\n",
              "      <td>...</td>\n",
              "      <td>...</td>\n",
              "      <td>...</td>\n",
              "      <td>...</td>\n",
              "    </tr>\n",
              "    <tr>\n",
              "      <th>5027</th>\n",
              "      <td>2020-02-27</td>\n",
              "      <td>1934.38</td>\n",
              "      <td>1975.00</td>\n",
              "      <td>1882.76</td>\n",
              "      <td>1884.30</td>\n",
              "      <td>8143993.0</td>\n",
              "      <td>41.0197</td>\n",
              "      <td>17.6430</td>\n",
              "      <td>-31.9403</td>\n",
              "      <td>49.5833</td>\n",
              "      <td>2062.6490</td>\n",
              "      <td>2240.7491</td>\n",
              "      <td>1884.5489</td>\n",
              "    </tr>\n",
              "    <tr>\n",
              "      <th>5028</th>\n",
              "      <td>2020-02-28</td>\n",
              "      <td>1814.63</td>\n",
              "      <td>1889.76</td>\n",
              "      <td>1811.13</td>\n",
              "      <td>1883.75</td>\n",
              "      <td>9493797.0</td>\n",
              "      <td>40.9784</td>\n",
              "      <td>4.5453</td>\n",
              "      <td>-36.0304</td>\n",
              "      <td>40.5757</td>\n",
              "      <td>2063.3025</td>\n",
              "      <td>2238.6550</td>\n",
              "      <td>1887.9500</td>\n",
              "    </tr>\n",
              "    <tr>\n",
              "      <th>5029</th>\n",
              "      <td>2020-03-02</td>\n",
              "      <td>1906.49</td>\n",
              "      <td>1954.51</td>\n",
              "      <td>1870.00</td>\n",
              "      <td>1953.95</td>\n",
              "      <td>6761651.0</td>\n",
              "      <td>48.0136</td>\n",
              "      <td>-0.1683</td>\n",
              "      <td>-32.5952</td>\n",
              "      <td>32.4269</td>\n",
              "      <td>2060.5640</td>\n",
              "      <td>2240.8811</td>\n",
              "      <td>1880.2469</td>\n",
              "    </tr>\n",
              "    <tr>\n",
              "      <th>5030</th>\n",
              "      <td>2020-03-03</td>\n",
              "      <td>1975.37</td>\n",
              "      <td>1996.33</td>\n",
              "      <td>1888.09</td>\n",
              "      <td>1908.99</td>\n",
              "      <td>7534491.0</td>\n",
              "      <td>44.4423</td>\n",
              "      <td>-7.4460</td>\n",
              "      <td>-31.8983</td>\n",
              "      <td>24.4523</td>\n",
              "      <td>2055.8035</td>\n",
              "      <td>2246.5472</td>\n",
              "      <td>1865.0598</td>\n",
              "    </tr>\n",
              "    <tr>\n",
              "      <th>5031</th>\n",
              "      <td>2020-03-04</td>\n",
              "      <td>1946.57</td>\n",
              "      <td>1978.00</td>\n",
              "      <td>1922.00</td>\n",
              "      <td>1975.83</td>\n",
              "      <td>4670018.0</td>\n",
              "      <td>50.2349</td>\n",
              "      <td>-7.7310</td>\n",
              "      <td>-25.7466</td>\n",
              "      <td>18.0157</td>\n",
              "      <td>2052.1115</td>\n",
              "      <td>2246.0194</td>\n",
              "      <td>1858.2036</td>\n",
              "    </tr>\n",
              "  </tbody>\n",
              "</table>\n",
              "<p>5032 rows × 13 columns</p>\n",
              "</div>"
            ],
            "text/plain": [
              "           date     open     high  ...  bb_middle   bb_upper   bb_lower\n",
              "0    2000-03-03    63.25    64.75  ...        NaN        NaN        NaN\n",
              "1    2000-03-06    62.88    67.25  ...        NaN        NaN        NaN\n",
              "2    2000-03-07    64.88    65.81  ...        NaN        NaN        NaN\n",
              "3    2000-03-08    63.25    64.75  ...        NaN        NaN        NaN\n",
              "4    2000-03-09    63.00    69.00  ...        NaN        NaN        NaN\n",
              "...         ...      ...      ...  ...        ...        ...        ...\n",
              "5027 2020-02-27  1934.38  1975.00  ...  2062.6490  2240.7491  1884.5489\n",
              "5028 2020-02-28  1814.63  1889.76  ...  2063.3025  2238.6550  1887.9500\n",
              "5029 2020-03-02  1906.49  1954.51  ...  2060.5640  2240.8811  1880.2469\n",
              "5030 2020-03-03  1975.37  1996.33  ...  2055.8035  2246.5472  1865.0598\n",
              "5031 2020-03-04  1946.57  1978.00  ...  2052.1115  2246.0194  1858.2036\n",
              "\n",
              "[5032 rows x 13 columns]"
            ]
          },
          "metadata": {
            "tags": []
          },
          "execution_count": 59
        }
      ]
    },
    {
      "cell_type": "code",
      "metadata": {
        "id": "QzeD-wm_p8V3",
        "colab_type": "code",
        "outputId": "863db5c9-a478-41c2-9609-284421bfd4dd",
        "colab": {
          "base_uri": "https://localhost:8080/",
          "height": 895
        }
      },
      "source": [
        "\n",
        "plt.figure(figsize = (18,9))\n",
        "plt.plot(range(df.shape[0]),(df['low']+df['high'])/2.0,df['bb_upper'])\n",
        "plt.xticks(range(0,df.shape[0],500),df['date'].loc[::500],rotation=45)\n",
        "plt.xlabel('date',fontsize=18)\n",
        "plt.ylabel('Mid Price',fontsize=18)\n",
        "plt.show()\n",
        "plt.figure(figsize = (18,3))\n",
        "plt.plot(range(df.shape[0]),amzn_data['RSI'])\n",
        "plt.xticks(range(0,df.shape[0],500),df['date'].loc[::500],rotation=45)\n",
        "plt.show()"
      ],
      "execution_count": 0,
      "outputs": [
        {
          "output_type": "display_data",
          "data": {
            "image/png": "[encoded data removed]",
            "text/plain": [
              "<Figure size 1296x648 with 1 Axes>"
            ]
          },
          "metadata": {
            "tags": []
          }
        },
        {
          "output_type": "display_data",
          "data": {
            "image/png": "[encoded data removed]",
            "text/plain": [
              "<Figure size 1296x216 with 1 Axes>"
            ]
          },
          "metadata": {
            "tags": []
          }
        }
      ]
    },
    {
      "cell_type": "code",
      "metadata": {
        "id": "UOWgsb7vqymx",
        "colab_type": "code",
        "outputId": "ebf2b972-d1ae-405b-d1ba-3c7ddf51ee1c",
        "colab": {
          "base_uri": "https://localhost:8080/",
          "height": 402
        }
      },
      "source": [
        "corr = df.corr()\n",
        "corr"
      ],
      "execution_count": 0,
      "outputs": [
        {
          "output_type": "execute_result",
          "data": {
            "text/html": [
              "<div>\n",
              "<style scoped>\n",
              "    .dataframe tbody tr th:only-of-type {\n",
              "        vertical-align: middle;\n",
              "    }\n",
              "\n",
              "    .dataframe tbody tr th {\n",
              "        vertical-align: top;\n",
              "    }\n",
              "\n",
              "    .dataframe thead th {\n",
              "        text-align: right;\n",
              "    }\n",
              "</style>\n",
              "<table border=\"1\" class=\"dataframe\">\n",
              "  <thead>\n",
              "    <tr style=\"text-align: right;\">\n",
              "      <th></th>\n",
              "      <th>open</th>\n",
              "      <th>high</th>\n",
              "      <th>low</th>\n",
              "      <th>close</th>\n",
              "      <th>volume</th>\n",
              "      <th>RSI</th>\n",
              "      <th>MACD</th>\n",
              "      <th>MACD_Hist</th>\n",
              "      <th>MACD_Signal</th>\n",
              "      <th>bb_middle</th>\n",
              "      <th>bb_upper</th>\n",
              "      <th>bb_lower</th>\n",
              "    </tr>\n",
              "  </thead>\n",
              "  <tbody>\n",
              "    <tr>\n",
              "      <th>open</th>\n",
              "      <td>1.000000</td>\n",
              "      <td>0.999937</td>\n",
              "      <td>0.999902</td>\n",
              "      <td>0.999838</td>\n",
              "      <td>-0.258854</td>\n",
              "      <td>0.164480</td>\n",
              "      <td>0.335232</td>\n",
              "      <td>0.011905</td>\n",
              "      <td>0.353649</td>\n",
              "      <td>0.998824</td>\n",
              "      <td>0.998238</td>\n",
              "      <td>0.998147</td>\n",
              "    </tr>\n",
              "    <tr>\n",
              "      <th>high</th>\n",
              "      <td>0.999937</td>\n",
              "      <td>1.000000</td>\n",
              "      <td>0.999878</td>\n",
              "      <td>0.999918</td>\n",
              "      <td>-0.257366</td>\n",
              "      <td>0.164500</td>\n",
              "      <td>0.333463</td>\n",
              "      <td>0.011360</td>\n",
              "      <td>0.351942</td>\n",
              "      <td>0.998910</td>\n",
              "      <td>0.998435</td>\n",
              "      <td>0.998108</td>\n",
              "    </tr>\n",
              "    <tr>\n",
              "      <th>low</th>\n",
              "      <td>0.999902</td>\n",
              "      <td>0.999878</td>\n",
              "      <td>1.000000</td>\n",
              "      <td>0.999927</td>\n",
              "      <td>-0.260778</td>\n",
              "      <td>0.167180</td>\n",
              "      <td>0.337800</td>\n",
              "      <td>0.015501</td>\n",
              "      <td>0.355201</td>\n",
              "      <td>0.998625</td>\n",
              "      <td>0.997909</td>\n",
              "      <td>0.998092</td>\n",
              "    </tr>\n",
              "    <tr>\n",
              "      <th>close</th>\n",
              "      <td>0.999838</td>\n",
              "      <td>0.999918</td>\n",
              "      <td>0.999927</td>\n",
              "      <td>1.000000</td>\n",
              "      <td>-0.259087</td>\n",
              "      <td>0.166791</td>\n",
              "      <td>0.335611</td>\n",
              "      <td>0.013824</td>\n",
              "      <td>0.353420</td>\n",
              "      <td>0.998752</td>\n",
              "      <td>0.998154</td>\n",
              "      <td>0.998086</td>\n",
              "    </tr>\n",
              "    <tr>\n",
              "      <th>volume</th>\n",
              "      <td>-0.258854</td>\n",
              "      <td>-0.257366</td>\n",
              "      <td>-0.260778</td>\n",
              "      <td>-0.259087</td>\n",
              "      <td>1.000000</td>\n",
              "      <td>-0.040841</td>\n",
              "      <td>-0.127929</td>\n",
              "      <td>-0.033992</td>\n",
              "      <td>-0.125228</td>\n",
              "      <td>-0.256786</td>\n",
              "      <td>-0.252799</td>\n",
              "      <td>-0.260883</td>\n",
              "    </tr>\n",
              "    <tr>\n",
              "      <th>RSI</th>\n",
              "      <td>0.164480</td>\n",
              "      <td>0.164500</td>\n",
              "      <td>0.167180</td>\n",
              "      <td>0.166791</td>\n",
              "      <td>-0.040841</td>\n",
              "      <td>1.000000</td>\n",
              "      <td>0.555138</td>\n",
              "      <td>0.315489</td>\n",
              "      <td>0.487925</td>\n",
              "      <td>0.140962</td>\n",
              "      <td>0.140455</td>\n",
              "      <td>0.141339</td>\n",
              "    </tr>\n",
              "    <tr>\n",
              "      <th>MACD</th>\n",
              "      <td>0.335232</td>\n",
              "      <td>0.333463</td>\n",
              "      <td>0.337800</td>\n",
              "      <td>0.335611</td>\n",
              "      <td>-0.127929</td>\n",
              "      <td>0.555138</td>\n",
              "      <td>1.000000</td>\n",
              "      <td>0.350362</td>\n",
              "      <td>0.950926</td>\n",
              "      <td>0.301329</td>\n",
              "      <td>0.296812</td>\n",
              "      <td>0.305957</td>\n",
              "    </tr>\n",
              "    <tr>\n",
              "      <th>MACD_Hist</th>\n",
              "      <td>0.011905</td>\n",
              "      <td>0.011360</td>\n",
              "      <td>0.015501</td>\n",
              "      <td>0.013824</td>\n",
              "      <td>-0.033992</td>\n",
              "      <td>0.315489</td>\n",
              "      <td>0.350362</td>\n",
              "      <td>1.000000</td>\n",
              "      <td>0.043362</td>\n",
              "      <td>-0.028517</td>\n",
              "      <td>-0.025651</td>\n",
              "      <td>-0.031670</td>\n",
              "    </tr>\n",
              "    <tr>\n",
              "      <th>MACD_Signal</th>\n",
              "      <td>0.353649</td>\n",
              "      <td>0.351942</td>\n",
              "      <td>0.355201</td>\n",
              "      <td>0.353420</td>\n",
              "      <td>-0.125228</td>\n",
              "      <td>0.487925</td>\n",
              "      <td>0.950926</td>\n",
              "      <td>0.043362</td>\n",
              "      <td>1.000000</td>\n",
              "      <td>0.330840</td>\n",
              "      <td>0.325075</td>\n",
              "      <td>0.336818</td>\n",
              "    </tr>\n",
              "    <tr>\n",
              "      <th>bb_middle</th>\n",
              "      <td>0.998824</td>\n",
              "      <td>0.998910</td>\n",
              "      <td>0.998625</td>\n",
              "      <td>0.998752</td>\n",
              "      <td>-0.256786</td>\n",
              "      <td>0.140962</td>\n",
              "      <td>0.301329</td>\n",
              "      <td>-0.028517</td>\n",
              "      <td>0.330840</td>\n",
              "      <td>1.000000</td>\n",
              "      <td>0.999434</td>\n",
              "      <td>0.999298</td>\n",
              "    </tr>\n",
              "    <tr>\n",
              "      <th>bb_upper</th>\n",
              "      <td>0.998238</td>\n",
              "      <td>0.998435</td>\n",
              "      <td>0.997909</td>\n",
              "      <td>0.998154</td>\n",
              "      <td>-0.252799</td>\n",
              "      <td>0.140455</td>\n",
              "      <td>0.296812</td>\n",
              "      <td>-0.025651</td>\n",
              "      <td>0.325075</td>\n",
              "      <td>0.999434</td>\n",
              "      <td>1.000000</td>\n",
              "      <td>0.997472</td>\n",
              "    </tr>\n",
              "    <tr>\n",
              "      <th>bb_lower</th>\n",
              "      <td>0.998147</td>\n",
              "      <td>0.998108</td>\n",
              "      <td>0.998092</td>\n",
              "      <td>0.998086</td>\n",
              "      <td>-0.260883</td>\n",
              "      <td>0.141339</td>\n",
              "      <td>0.305957</td>\n",
              "      <td>-0.031670</td>\n",
              "      <td>0.336818</td>\n",
              "      <td>0.999298</td>\n",
              "      <td>0.997472</td>\n",
              "      <td>1.000000</td>\n",
              "    </tr>\n",
              "  </tbody>\n",
              "</table>\n",
              "</div>"
            ],
            "text/plain": [
              "                 open      high       low  ...  bb_middle  bb_upper  bb_lower\n",
              "open         1.000000  0.999937  0.999902  ...   0.998824  0.998238  0.998147\n",
              "high         0.999937  1.000000  0.999878  ...   0.998910  0.998435  0.998108\n",
              "low          0.999902  0.999878  1.000000  ...   0.998625  0.997909  0.998092\n",
              "close        0.999838  0.999918  0.999927  ...   0.998752  0.998154  0.998086\n",
              "volume      -0.258854 -0.257366 -0.260778  ...  -0.256786 -0.252799 -0.260883\n",
              "RSI          0.164480  0.164500  0.167180  ...   0.140962  0.140455  0.141339\n",
              "MACD         0.335232  0.333463  0.337800  ...   0.301329  0.296812  0.305957\n",
              "MACD_Hist    0.011905  0.011360  0.015501  ...  -0.028517 -0.025651 -0.031670\n",
              "MACD_Signal  0.353649  0.351942  0.355201  ...   0.330840  0.325075  0.336818\n",
              "bb_middle    0.998824  0.998910  0.998625  ...   1.000000  0.999434  0.999298\n",
              "bb_upper     0.998238  0.998435  0.997909  ...   0.999434  1.000000  0.997472\n",
              "bb_lower     0.998147  0.998108  0.998092  ...   0.999298  0.997472  1.000000\n",
              "\n",
              "[12 rows x 12 columns]"
            ]
          },
          "metadata": {
            "tags": []
          },
          "execution_count": 61
        }
      ]
    },
    {
      "cell_type": "code",
      "metadata": {
        "id": "lqP5KIXyxscI",
        "colab_type": "code",
        "outputId": "0dcfd12f-4376-48b4-e25c-ac3edebb12d3",
        "colab": {
          "base_uri": "https://localhost:8080/",
          "height": 321
        }
      },
      "source": [
        "import seaborn as sns\n",
        "\n",
        "ax = sns.heatmap(corr, vmax=1, center=0,\n",
        "            square=True, linewidths=.5, cbar_kws={\"shrink\": .7})"
      ],
      "execution_count": 0,
      "outputs": [
        {
          "output_type": "display_data",
          "data": {
            "image/png": "[encoded data removed]",
            "text/plain": [
              "<Figure size 432x288 with 2 Axes>"
            ]
          },
          "metadata": {
            "tags": []
          }
        }
      ]
    },
    {
      "cell_type": "code",
      "metadata": {
        "id": "EJUo-cCyz6KR",
        "colab_type": "code",
        "outputId": "a23a3d94-5e2a-4434-eb8c-d4fbb5f66852",
        "colab": {
          "base_uri": "https://localhost:8080/",
          "height": 84
        }
      },
      "source": [
        "# First calculate the mid prices from the highest and lowest \n",
        "high_prices = df.loc[:,'high'].as_matrix()\n",
        "low_prices = df.loc[:,'low'].as_matrix()\n",
        "mid_prices = (high_prices+low_prices)/2.0"
      ],
      "execution_count": 0,
      "outputs": [
        {
          "output_type": "stream",
          "text": [
            "/usr/local/lib/python3.6/dist-packages/ipykernel_launcher.py:1: FutureWarning: Method .as_matrix will be removed in a future version. Use .values instead.\n",
            "  \"\"\"Entry point for launching an IPython kernel.\n",
            "/usr/local/lib/python3.6/dist-packages/ipykernel_launcher.py:2: FutureWarning: Method .as_matrix will be removed in a future version. Use .values instead.\n",
            "  \n"
          ],
          "name": "stderr"
        }
      ]
    },
    {
      "cell_type": "code",
      "metadata": {
        "id": "CmRY-93HkRCZ",
        "colab_type": "code",
        "colab": {}
      },
      "source": [
        "df['mid_prices']= mid_prices"
      ],
      "execution_count": 0,
      "outputs": []
    },
    {
      "cell_type": "code",
      "metadata": {
        "id": "4eQs8Bkclwmu",
        "colab_type": "code",
        "colab": {}
      },
      "source": [
        "df_tf = df[['mid_prices','volume']]"
      ],
      "execution_count": 0,
      "outputs": []
    },
    {
      "cell_type": "code",
      "metadata": {
        "id": "t4okwIwYn9c5",
        "colab_type": "code",
        "colab": {}
      },
      "source": [
        "train = df_tf[:500]\n",
        "test = df_tf[500:]"
      ],
      "execution_count": 0,
      "outputs": []
    },
    {
      "cell_type": "code",
      "metadata": {
        "id": "Uw_E-pmxz0Ju",
        "colab_type": "code",
        "colab": {}
      },
      "source": [
        "train_data = mid_prices[:2500]\n",
        "test_data = mid_prices[2500:]"
      ],
      "execution_count": 0,
      "outputs": []
    },
    {
      "cell_type": "code",
      "metadata": {
        "id": "F7lvU5hs0o7_",
        "colab_type": "code",
        "colab": {}
      },
      "source": [
        "import tensorflow as tf \n",
        "from sklearn.preprocessing import MinMaxScaler\n",
        "# Scale the data to be between 0 and 1\n",
        "scaler = MinMaxScaler()\n",
        "train_data = train_data.reshape(-1,1)\n",
        "test_data = test_data.reshape(-1,1)"
      ],
      "execution_count": 0,
      "outputs": []
    },
    {
      "cell_type": "code",
      "metadata": {
        "id": "BjQHWB8h03_o",
        "colab_type": "code",
        "colab": {}
      },
      "source": [
        "# Train the Scaler with training data and smooth data \n",
        "smoothing_window_size = 500\n",
        "for di in range(0,1000,smoothing_window_size):\n",
        "    scaler.fit(train_data[di:di+smoothing_window_size,:])\n",
        "    train_data[di:di+smoothing_window_size,:] = scaler.transform(train_data[di:di+smoothing_window_size,:])\n",
        "\n",
        "# You normalize the last bit of remaining data \n",
        "scaler.fit(train_data[di+smoothing_window_size:,:])\n",
        "train_data[di+smoothing_window_size:,:] = scaler.transform(train_data[di+smoothing_window_size:,:])"
      ],
      "execution_count": 0,
      "outputs": []
    },
    {
      "cell_type": "code",
      "metadata": {
        "id": "vOhkTn2B_h-l",
        "colab_type": "code",
        "colab": {}
      },
      "source": [
        "# Reshape both train and test data\n",
        "train_data = train_data.reshape(-1)\n",
        "\n",
        "# Normalize test data\n",
        "test_data = scaler.transform(test_data).reshape(-1)"
      ],
      "execution_count": 0,
      "outputs": []
    },
    {
      "cell_type": "code",
      "metadata": {
        "id": "yzfWPEE-AGY5",
        "colab_type": "code",
        "colab": {}
      },
      "source": [
        "# Now perform exponential moving average smoothing\n",
        "# So the data will have a smoother curve than the original ragged data\n",
        "EMA = 0.0\n",
        "gamma = 0.1\n",
        "for ti in range(2500):\n",
        "  EMA = gamma*train_data[ti] + (1-gamma)*EMA\n",
        "  train_data[ti] = EMA\n",
        "\n",
        "# Used for visualization and test purposes\n",
        "all_mid_data = np.concatenate([train_data,test_data],axis=0)"
      ],
      "execution_count": 0,
      "outputs": []
    },
    {
      "cell_type": "markdown",
      "metadata": {
        "id": "9eqJJWUabqbE",
        "colab_type": "text"
      },
      "source": [
        "Averaging mechanisms allows us to predict (often one time step ahead) by representing the future stock price as an average of the previously observed stock prices. Doing this for more than one time step can produce quite bad results. You will look at two averaging techniques below; standard averaging and exponential moving average. You will evaluate both qualitatively (visual inspection) and quantitatively (mean squared error) the results produced by two algorithms.\n",
        "\n",
        "Mean squared error (MSE) can be calculated by taking the mean squared error between the true value at one step ahead and the predicted value and averaging it over all the predictions."
      ]
    },
    {
      "cell_type": "code",
      "metadata": {
        "id": "zI8cy4FHbooZ",
        "colab_type": "code",
        "outputId": "df25224d-dec7-4eaf-e11a-28dd97515a91",
        "colab": {
          "base_uri": "https://localhost:8080/",
          "height": 34
        }
      },
      "source": [
        "# Standard Average\n",
        "window_size = 100\n",
        "N = train_data.size\n",
        "std_avg_predictions = []\n",
        "std_avg_x = []\n",
        "mse_errors = []\n",
        "\n",
        "for pred_idx in range(window_size,N):\n",
        "    \n",
        "    if pred_idx >= N:\n",
        "        date = dt.datetime.strptime(k, '%Y-%m-%d').date() + dt.timedelta(days=1)\n",
        "    else:\n",
        "        date = df.loc[pred_idx,'date']\n",
        "        \n",
        "    std_avg_predictions.append(np.mean(train_data[pred_idx-window_size:pred_idx]))\n",
        "    mse_errors.append((std_avg_predictions[-1]-train_data[pred_idx])**2)\n",
        "    std_avg_x.append(date)\n",
        "\n",
        "print('MSE error for standard averaging: %.5f'%(0.5*np.mean(mse_errors)))"
      ],
      "execution_count": 0,
      "outputs": [
        {
          "output_type": "stream",
          "text": [
            "MSE error for standard averaging: 0.00751\n"
          ],
          "name": "stdout"
        }
      ]
    },
    {
      "cell_type": "code",
      "metadata": {
        "id": "ndWFL-eMdea8",
        "colab_type": "code",
        "outputId": "e621a553-fbe1-4d77-9521-71dbeb7f02dd",
        "colab": {
          "base_uri": "https://localhost:8080/",
          "height": 551
        }
      },
      "source": [
        "plt.figure(figsize = (18,9))\n",
        "plt.plot(range(df.shape[0]),all_mid_data,color='b',label='True')\n",
        "plt.plot(range(window_size,N),std_avg_predictions,color='orange',label='Prediction')\n",
        "#plt.xticks(range(0,df.shape[0],50),df['Date'].loc[::50],rotation=45)\n",
        "plt.xlabel('Date')\n",
        "plt.ylabel('Mid Price')\n",
        "plt.legend(fontsize=18)\n",
        "plt.show()"
      ],
      "execution_count": 0,
      "outputs": [
        {
          "output_type": "display_data",
          "data": {
            "image/png": "[encoded data removed]",
            "text/plain": [
              "<Figure size 1296x648 with 1 Axes>"
            ]
          },
          "metadata": {
            "tags": []
          }
        }
      ]
    },
    {
      "cell_type": "code",
      "metadata": {
        "id": "mISKZudsePEk",
        "colab_type": "code",
        "outputId": "522f10a5-075f-42c4-88e9-87708885b223",
        "colab": {
          "base_uri": "https://localhost:8080/",
          "height": 34
        }
      },
      "source": [
        "# Exponential Moving Average\n",
        "window_size = 100\n",
        "N = train_data.size\n",
        "\n",
        "run_avg_predictions = []\n",
        "run_avg_x = []\n",
        "\n",
        "mse_errors = []\n",
        "\n",
        "running_mean = 0.0\n",
        "run_avg_predictions.append(running_mean)\n",
        "\n",
        "decay = 0.5\n",
        "\n",
        "for pred_idx in range(1,N):\n",
        "    \n",
        "    running_mean = running_mean*decay + (1.0-decay)*train_data[pred_idx-1]\n",
        "    run_avg_predictions.append(running_mean)\n",
        "    mse_errors.append((run_avg_predictions[-1]-train_data[pred_idx])**2)\n",
        "    run_avg_x.append(date)\n",
        "\n",
        "print('MSE error for EMA averaging: %.5f'%(0.5*np.mean(mse_errors)))"
      ],
      "execution_count": 0,
      "outputs": [
        {
          "output_type": "stream",
          "text": [
            "MSE error for EMA averaging: 0.00007\n"
          ],
          "name": "stdout"
        }
      ]
    },
    {
      "cell_type": "code",
      "metadata": {
        "id": "7XLjf8ghe4fM",
        "colab_type": "code",
        "outputId": "1d170cbc-f025-487e-fae8-343efb1aa2d0",
        "colab": {
          "base_uri": "https://localhost:8080/",
          "height": 551
        }
      },
      "source": [
        "plt.figure(figsize = (18,9))\n",
        "plt.plot(range(df.shape[0]),all_mid_data,color='b',label='True')\n",
        "plt.plot(range(0,N),run_avg_predictions,color='orange', label='Prediction')\n",
        "#plt.xticks(range(0,df.shape[0],50),df['Date'].loc[::50],rotation=45)\n",
        "plt.xlabel('Date')\n",
        "plt.ylabel('Mid Price')\n",
        "plt.legend(fontsize=18)\n",
        "plt.show()"
      ],
      "execution_count": 0,
      "outputs": [
        {
          "output_type": "display_data",
          "data": {
            "image/png": "[encoded data removed]",
            "text/plain": [
              "<Figure size 1296x648 with 1 Axes>"
            ]
          },
          "metadata": {
            "tags": []
          }
        }
      ]
    },
    {
      "cell_type": "markdown",
      "metadata": {
        "id": "SQi-jUrqfH7y",
        "colab_type": "text"
      },
      "source": [
        "You see that it fits a perfect line that follows the True distribution (and justified by the very low MSE). Practically speaking, you can't do much with just the stock market value of the next day. Personally what I'd like is not the exact stock market price for the next day, but would the stock market prices go up or down in the next 30 days. Try to do this, and you will expose the incapability of EMA method.\n",
        "\n",
        "Let us try to make predictions in windows (say you predict next 2 days window, instead of just next day). We might realize how wrong EMA can go. "
      ]
    },
    {
      "cell_type": "markdown",
      "metadata": {
        "id": "41CV9zrGGeXq",
        "colab_type": "text"
      },
      "source": [
        "df_tf = df[['mid_prices','volume']]\n",
        "train = df_tf[:2500]\n",
        "test = df_tf[2500:]"
      ]
    },
    {
      "cell_type": "code",
      "metadata": {
        "id": "yoiATrfFfg_8",
        "colab_type": "code",
        "outputId": "be0c0181-2f4e-4a8d-9900-a33af848caab",
        "colab": {
          "base_uri": "https://localhost:8080/",
          "height": 521
        }
      },
      "source": [
        "class DataGeneratorSeq(object):\n",
        "    \n",
        "    def __init__(self,prices,batch_size,num_unroll):\n",
        "        self._prices = prices\n",
        "        self._prices_length = len(self._prices) - num_unroll\n",
        "        self._batch_size = batch_size\n",
        "        self._num_unroll = num_unroll\n",
        "        self._segments = self._prices_length //self._batch_size\n",
        "        self._cursor = [offset * self._segments for offset in range(self._batch_size)]\n",
        "\n",
        "    def next_batch(self):\n",
        "        \n",
        "        batch_data = np.zeros((self._batch_size),dtype=np.float32)\n",
        "        batch_labels = np.zeros((self._batch_size),dtype=np.float32)\n",
        "        \n",
        "        for b in range(self._batch_size):\n",
        "            if self._cursor[b]+1>=self._prices_length:\n",
        "                #self._cursor[b] = b * self._segments\n",
        "                self._cursor[b] = np.random.randint(0,(b+1)*self._segments)\n",
        "                \n",
        "            batch_data[b] = self._prices[self._cursor[b]]\n",
        "            batch_labels[b]= self._prices[self._cursor[b]+np.random.randint(1,5)]\n",
        "            \n",
        "            self._cursor[b] = (self._cursor[b]+1)%self._prices_length\n",
        "            \n",
        "        return batch_data,batch_labels\n",
        "    \n",
        "    def unroll_batches(self):\n",
        "            \n",
        "        unroll_data,unroll_labels = [],[]\n",
        "        init_data, init_label = None,None\n",
        "        for ui in range(self._num_unroll):\n",
        "            \n",
        "            data, labels = self.next_batch()    \n",
        "\n",
        "            unroll_data.append(data)\n",
        "            unroll_labels.append(labels)\n",
        "\n",
        "        return unroll_data, unroll_labels\n",
        "    \n",
        "    def reset_indices(self):\n",
        "        for b in range(self._batch_size):\n",
        "            self._cursor[b] = np.random.randint(0,min((b+1)*self._segments,self._prices_length-1))\n",
        "        \n",
        "\n",
        "\n",
        "dg = DataGeneratorSeq(train_data,5,5)\n",
        "u_data, u_labels = dg.unroll_batches()\n",
        "\n",
        "for ui,(dat,lbl) in enumerate(zip(u_data,u_labels)):   \n",
        "    print('\\n\\nUnrolled index %d'%ui)\n",
        "    dat_ind = dat\n",
        "    lbl_ind = lbl\n",
        "    print('\\tInputs: ',dat )\n",
        "    print('\\n\\tOutput:',lbl)"
      ],
      "execution_count": 0,
      "outputs": [
        {
          "output_type": "stream",
          "text": [
            "\n",
            "\n",
            "Unrolled index 0\n",
            "\tInputs:  [0.085163   0.11642407 0.7145106  0.12334456 0.42724848]\n",
            "\n",
            "\tOutput: [0.29446462 0.10055865 0.5548692  0.12214064 0.42713952]\n",
            "\n",
            "\n",
            "Unrolled index 1\n",
            "\tInputs:  [0.16421232 0.1117621  0.70782954 0.12214064 0.42713952]\n",
            "\n",
            "\tOutput: [0.35341913 0.10317669 0.60080874 0.11611474 0.41980428]\n",
            "\n",
            "\n",
            "Unrolled index 2\n",
            "\tInputs:  [0.23378946 0.10672021 0.65151626 0.12066478 0.42744234]\n",
            "\n",
            "\tOutput: [0.35341913 0.09804377 0.51338714 0.11909768 0.42248145]\n",
            "\n",
            "\n",
            "Unrolled index 3\n",
            "\tInputs:  [0.29446462 0.10317669 0.60080874 0.11909768 0.42518598]\n",
            "\n",
            "\tOutput: [0.40820807 0.10055865 0.4771365  0.11325119 0.42248145]\n",
            "\n",
            "\n",
            "Unrolled index 4\n",
            "\tInputs:  [0.35341913 0.10055865 0.5548692  0.11760627 0.42248145]\n",
            "\n",
            "\tOutput: [0.5326359  0.09283481 0.44484782 0.1114574  0.413448  ]\n"
          ],
          "name": "stdout"
        }
      ]
    },
    {
      "cell_type": "code",
      "metadata": {
        "id": "-75mLMkSo9vs",
        "colab_type": "code",
        "colab": {}
      },
      "source": [
        "D = 1 # Dimensionality of the data. Since our data is 1-D this would be 1\n",
        "num_unrollings = 30 # Number of time steps you look into the future.\n",
        "batch_size = 500 # Number of samples in a batch\n",
        "num_nodes = [200,200,150] # Number of hidden nodes in each layer of the deep LSTM stack we're using\n",
        "n_layers = len(num_nodes) # number of layers\n",
        "dropout = 0.2 # dropout amount\n",
        "\n",
        "tf.reset_default_graph() # This is important in case you run this multiple times"
      ],
      "execution_count": 0,
      "outputs": []
    },
    {
      "cell_type": "code",
      "metadata": {
        "id": "ydlF7csOt7QY",
        "colab_type": "code",
        "colab": {}
      },
      "source": [
        "# Input data.\n",
        "train_inputs, train_outputs = [],[]\n",
        "\n",
        "# You unroll the input over time defining placeholders for each time step\n",
        "for ui in range(num_unrollings):\n",
        "    train_inputs.append(tf.placeholder(tf.float32, shape=[batch_size,D],name='train_inputs_%d'%ui))\n",
        "    train_outputs.append(tf.placeholder(tf.float32, shape=[batch_size,1], name = 'train_outputs_%d'%ui))"
      ],
      "execution_count": 0,
      "outputs": []
    },
    {
      "cell_type": "code",
      "metadata": {
        "id": "-YwmvCnVt-pq",
        "colab_type": "code",
        "colab": {}
      },
      "source": [
        "lstm_cells = [\n",
        "    tf.contrib.rnn.LSTMCell(num_units=num_nodes[li],\n",
        "                            state_is_tuple=True,\n",
        "                            initializer= tf.contrib.layers.xavier_initializer()\n",
        "                           )\n",
        " for li in range(n_layers)]\n",
        "\n",
        "drop_lstm_cells = [tf.contrib.rnn.DropoutWrapper(\n",
        "    lstm, input_keep_prob=1.0,output_keep_prob=1.0-dropout, state_keep_prob=1.0-dropout\n",
        ") for lstm in lstm_cells]\n",
        "drop_multi_cell = tf.contrib.rnn.MultiRNNCell(drop_lstm_cells)\n",
        "multi_cell = tf.contrib.rnn.MultiRNNCell(lstm_cells)\n",
        "\n",
        "w = tf.get_variable('w',shape=[num_nodes[-1], 1], initializer=tf.contrib.layers.xavier_initializer())\n",
        "b = tf.get_variable('b',initializer=tf.random_uniform([1],-0.1,0.1))"
      ],
      "execution_count": 0,
      "outputs": []
    },
    {
      "cell_type": "code",
      "metadata": {
        "id": "YzX68esUuFoC",
        "colab_type": "code",
        "colab": {}
      },
      "source": [
        "# Create cell state and hidden state variables to maintain the state of the LSTM\n",
        "c, h = [],[]\n",
        "initial_state = []\n",
        "for li in range(n_layers):\n",
        "  c.append(tf.Variable(tf.zeros([batch_size, num_nodes[li]]), trainable=False))\n",
        "  h.append(tf.Variable(tf.zeros([batch_size, num_nodes[li]]), trainable=False))\n",
        "  initial_state.append(tf.contrib.rnn.LSTMStateTuple(c[li], h[li]))\n",
        "\n",
        "# Do several tensor transofmations, because the function dynamic_rnn requires the output to be of \n",
        "# a specific format. Read more at: https://www.tensorflow.org/api_docs/python/tf/nn/dynamic_rnn\n",
        "all_inputs = tf.concat([tf.expand_dims(t,0) for t in train_inputs],axis=0)\n",
        "\n",
        "# all_outputs is [seq_length, batch_size, num_nodes]\n",
        "all_lstm_outputs, state = tf.nn.dynamic_rnn(\n",
        "    drop_multi_cell, all_inputs, initial_state=tuple(initial_state),\n",
        "    time_major = True, dtype=tf.float32)\n",
        "\n",
        "all_lstm_outputs = tf.reshape(all_lstm_outputs, [batch_size*num_unrollings,num_nodes[-1]])\n",
        "\n",
        "all_outputs = tf.nn.xw_plus_b(all_lstm_outputs,w,b)\n",
        "\n",
        "split_outputs = tf.split(all_outputs,num_unrollings,axis=0)"
      ],
      "execution_count": 0,
      "outputs": []
    },
    {
      "cell_type": "code",
      "metadata": {
        "id": "xE3ktzAGuPsL",
        "colab_type": "code",
        "outputId": "4ce319e3-6d86-4989-c76f-9a23062683b8",
        "colab": {
          "base_uri": "https://localhost:8080/",
          "height": 84
        }
      },
      "source": [
        "# When calculating the loss you need to be careful about the exact form, because you calculate\n",
        "# loss of all the unrolled steps at the same time\n",
        "# Therefore, take the mean error or each batch and get the sum of that over all the unrolled steps\n",
        "\n",
        "print('Defining training Loss')\n",
        "loss = 0.0\n",
        "with tf.control_dependencies([tf.assign(c[li], state[li][0]) for li in range(n_layers)]+\n",
        "                             [tf.assign(h[li], state[li][1]) for li in range(n_layers)]):\n",
        "  for ui in range(num_unrollings):\n",
        "    loss += tf.reduce_mean(0.5*(split_outputs[ui]-train_outputs[ui])**2)\n",
        "\n",
        "print('Learning rate decay operations')\n",
        "global_step = tf.Variable(0, trainable=False)\n",
        "inc_gstep = tf.assign(global_step,global_step + 1)\n",
        "tf_learning_rate = tf.placeholder(shape=None,dtype=tf.float32)\n",
        "tf_min_learning_rate = tf.placeholder(shape=None,dtype=tf.float32)\n",
        "\n",
        "learning_rate = tf.maximum(\n",
        "    tf.train.exponential_decay(tf_learning_rate, global_step, decay_steps=1, decay_rate=0.5, staircase=True),\n",
        "    tf_min_learning_rate)\n",
        "\n",
        "# Optimizer.\n",
        "print('TF Optimization operations')\n",
        "optimizer = tf.train.AdamOptimizer(learning_rate)\n",
        "gradients, v = zip(*optimizer.compute_gradients(loss))\n",
        "gradients, _ = tf.clip_by_global_norm(gradients, 5.0)\n",
        "optimizer = optimizer.apply_gradients(\n",
        "    zip(gradients, v))\n",
        "\n",
        "print('\\tAll done')"
      ],
      "execution_count": 0,
      "outputs": [
        {
          "output_type": "stream",
          "text": [
            "Defining training Loss\n",
            "Learning rate decay operations\n",
            "TF Optimization operations\n",
            "\tAll done\n"
          ],
          "name": "stdout"
        }
      ]
    },
    {
      "cell_type": "code",
      "metadata": {
        "id": "qe8UAWu8uUgq",
        "colab_type": "code",
        "outputId": "8fd17d6b-451c-4a5f-d071-e091bec566ff",
        "colab": {
          "base_uri": "https://localhost:8080/",
          "height": 50
        }
      },
      "source": [
        "print('Defining prediction related TF functions')\n",
        "\n",
        "sample_inputs = tf.placeholder(tf.float32, shape=[1,D])\n",
        "\n",
        "# Maintaining LSTM state for prediction stage\n",
        "sample_c, sample_h, initial_sample_state = [],[],[]\n",
        "for li in range(n_layers):\n",
        "  sample_c.append(tf.Variable(tf.zeros([1, num_nodes[li]]), trainable=False))\n",
        "  sample_h.append(tf.Variable(tf.zeros([1, num_nodes[li]]), trainable=False))\n",
        "  initial_sample_state.append(tf.contrib.rnn.LSTMStateTuple(sample_c[li],sample_h[li]))\n",
        "\n",
        "reset_sample_states = tf.group(*[tf.assign(sample_c[li],tf.zeros([1, num_nodes[li]])) for li in range(n_layers)],\n",
        "                               *[tf.assign(sample_h[li],tf.zeros([1, num_nodes[li]])) for li in range(n_layers)])\n",
        "\n",
        "sample_outputs, sample_state = tf.nn.dynamic_rnn(multi_cell, tf.expand_dims(sample_inputs,0),\n",
        "                                   initial_state=tuple(initial_sample_state),\n",
        "                                   time_major = True,\n",
        "                                   dtype=tf.float32)\n",
        "\n",
        "with tf.control_dependencies([tf.assign(sample_c[li],sample_state[li][0]) for li in range(n_layers)]+\n",
        "                              [tf.assign(sample_h[li],sample_state[li][1]) for li in range(n_layers)]):  \n",
        "  sample_prediction = tf.nn.xw_plus_b(tf.reshape(sample_outputs,[1,-1]), w, b)\n",
        "\n",
        "print('\\tAll done')"
      ],
      "execution_count": 0,
      "outputs": [
        {
          "output_type": "stream",
          "text": [
            "Defining prediction related TF functions\n",
            "\tAll done\n"
          ],
          "name": "stdout"
        }
      ]
    },
    {
      "cell_type": "code",
      "metadata": {
        "id": "O0g0-iiSudLq",
        "colab_type": "code",
        "outputId": "968569b3-a210-44c2-81ac-4a2f8abe7aa6",
        "colab": {
          "base_uri": "https://localhost:8080/",
          "height": 1000
        }
      },
      "source": [
        "epochs = 30\n",
        "valid_summary = 1 # Interval you make test predictions\n",
        "\n",
        "n_predict_once = 30 # Number of steps you continously predict for\n",
        "\n",
        "train_seq_length = train_data.size # Full length of the training data\n",
        "\n",
        "train_mse_ot = [] # Accumulate Train losses\n",
        "test_mse_ot = [] # Accumulate Test loss\n",
        "predictions_over_time = [] # Accumulate predictions\n",
        "\n",
        "session = tf.InteractiveSession()\n",
        "\n",
        "tf.global_variables_initializer().run()\n",
        "\n",
        "# Used for decaying learning rate\n",
        "loss_nondecrease_count = 0\n",
        "loss_nondecrease_threshold = 2 # If the test error hasn't increased in this many steps, decrease learning rate\n",
        "\n",
        "print('Initialized')\n",
        "average_loss = 0\n",
        "\n",
        "# Define data generator\n",
        "data_gen = DataGeneratorSeq(train_data,batch_size,num_unrollings) \n",
        "\n",
        "x_axis_seq = []\n",
        "\n",
        "# Points you start our test predictions from\n",
        "test_points_seq = np.arange(1000,5000,10).tolist() \n",
        "\n",
        "for ep in range(epochs):       \n",
        "    \n",
        "    # ========================= Training =====================================\n",
        "    for step in range(train_seq_length//batch_size):\n",
        "        \n",
        "        u_data, u_labels = data_gen.unroll_batches()\n",
        "\n",
        "        feed_dict = {}\n",
        "        for ui,(dat,lbl) in enumerate(zip(u_data,u_labels)):            \n",
        "            feed_dict[train_inputs[ui]] = dat.reshape(-1,1)\n",
        "            feed_dict[train_outputs[ui]] = lbl.reshape(-1,1)\n",
        "        \n",
        "        feed_dict.update({tf_learning_rate: 0.0001, tf_min_learning_rate:0.000001})\n",
        "\n",
        "        _, l = session.run([optimizer, loss], feed_dict=feed_dict)\n",
        "\n",
        "        average_loss += l\n",
        "    \n",
        "    # ============================ Validation ==============================\n",
        "    if (ep+1) % valid_summary == 0:\n",
        "\n",
        "      average_loss = average_loss/(valid_summary*(train_seq_length//batch_size))\n",
        "      \n",
        "      # The average loss\n",
        "      if (ep+1)%valid_summary==0:\n",
        "        print('Average loss at step %d: %f' % (ep+1, average_loss))\n",
        "      \n",
        "      train_mse_ot.append(average_loss)\n",
        "            \n",
        "      average_loss = 0 # reset loss\n",
        "      \n",
        "      predictions_seq = []\n",
        "      \n",
        "      mse_test_loss_seq = []\n",
        "      \n",
        "      # ===================== Updating State and Making Predicitons ========================\n",
        "      for w_i in test_points_seq:\n",
        "        mse_test_loss = 0.0\n",
        "        our_predictions = []\n",
        "        \n",
        "        if (ep+1)-valid_summary==0:\n",
        "          # Only calculate x_axis values in the first validation epoch\n",
        "          x_axis=[]\n",
        "        \n",
        "        # Feed in the recent past behavior of stock prices\n",
        "        # to make predictions from that point onwards\n",
        "        for tr_i in range(w_i-num_unrollings+1,w_i-1):\n",
        "          current_price = all_mid_data[tr_i]\n",
        "          feed_dict[sample_inputs] = np.array(current_price).reshape(1,1)    \n",
        "          _ = session.run(sample_prediction,feed_dict=feed_dict)\n",
        "        \n",
        "        feed_dict = {}\n",
        "        \n",
        "        current_price = all_mid_data[w_i-1]\n",
        "        \n",
        "        feed_dict[sample_inputs] = np.array(current_price).reshape(1,1)\n",
        "        \n",
        "        # Make predictions for this many steps\n",
        "        # Each prediction uses previous prediciton as it's current input\n",
        "        for pred_i in range(n_predict_once):\n",
        "\n",
        "          pred = session.run(sample_prediction,feed_dict=feed_dict)\n",
        "        \n",
        "          our_predictions.append(np.asscalar(pred))\n",
        "        \n",
        "          feed_dict[sample_inputs] = np.asarray(pred).reshape(-1,1)\n",
        "\n",
        "          if (ep+1)-valid_summary==0:\n",
        "            # Only calculate x_axis values in the first validation epoch\n",
        "            x_axis.append(w_i+pred_i)\n",
        "\n",
        "          mse_test_loss += 0.5*(pred-all_mid_data[w_i+pred_i])**2\n",
        "        \n",
        "        session.run(reset_sample_states)\n",
        "        \n",
        "        predictions_seq.append(np.array(our_predictions))\n",
        "        \n",
        "        mse_test_loss /= n_predict_once\n",
        "        mse_test_loss_seq.append(mse_test_loss)\n",
        "        \n",
        "        if (ep+1)-valid_summary==0:\n",
        "          x_axis_seq.append(x_axis)\n",
        "        \n",
        "      current_test_mse = np.mean(mse_test_loss_seq)\n",
        "      \n",
        "      # Learning rate decay logic\n",
        "      if len(test_mse_ot)>0 and current_test_mse > min(test_mse_ot):\n",
        "          loss_nondecrease_count += 1\n",
        "      else:\n",
        "          loss_nondecrease_count = 0\n",
        "      \n",
        "      if loss_nondecrease_count > loss_nondecrease_threshold :\n",
        "            session.run(inc_gstep)\n",
        "            loss_nondecrease_count = 0\n",
        "            print('\\tDecreasing learning rate by 0.5')\n",
        "      \n",
        "      test_mse_ot.append(current_test_mse)\n",
        "      print('\\tTest MSE: %.5f'%np.mean(mse_test_loss_seq))\n",
        "      predictions_over_time.append(predictions_seq)\n",
        "      print('\\tFinished Predictions')\n"
      ],
      "execution_count": 0,
      "outputs": [
        {
          "output_type": "stream",
          "text": [
            "/usr/local/lib/python3.6/dist-packages/tensorflow_core/python/client/session.py:1750: UserWarning: An interactive session is already active. This can cause out-of-memory errors in some cases. You must explicitly call `InteractiveSession.close()` to release resources held by the other session(s).\n",
            "  warnings.warn('An interactive session is already active. This can '\n"
          ],
          "name": "stderr"
        },
        {
          "output_type": "stream",
          "text": [
            "Initialized\n",
            "Average loss at step 1: 1.864328\n"
          ],
          "name": "stdout"
        },
        {
          "output_type": "stream",
          "text": [
            "/usr/local/lib/python3.6/dist-packages/ipykernel_launcher.py:94: DeprecationWarning: np.asscalar(a) is deprecated since NumPy v1.16, use a.item() instead\n"
          ],
          "name": "stderr"
        },
        {
          "output_type": "stream",
          "text": [
            "\tTest MSE: 16.31602\n",
            "\tFinished Predictions\n",
            "Average loss at step 2: 1.022662\n",
            "\tTest MSE: 13.66489\n",
            "\tFinished Predictions\n",
            "Average loss at step 3: 0.353274\n",
            "\tTest MSE: 10.30575\n",
            "\tFinished Predictions\n",
            "Average loss at step 4: 0.236558\n",
            "\tTest MSE: 9.56184\n",
            "\tFinished Predictions\n",
            "Average loss at step 5: 0.190241\n",
            "\tTest MSE: 11.09652\n",
            "\tFinished Predictions\n",
            "Average loss at step 6: 0.159272\n",
            "\tTest MSE: 11.39222\n",
            "\tFinished Predictions\n",
            "Average loss at step 7: 0.108947\n",
            "\tDecreasing learning rate by 0.5\n",
            "\tTest MSE: 10.51018\n",
            "\tFinished Predictions\n",
            "Average loss at step 8: 0.092664\n",
            "\tTest MSE: 10.31300\n",
            "\tFinished Predictions\n",
            "Average loss at step 9: 0.089563\n",
            "\tTest MSE: 10.48719\n",
            "\tFinished Predictions\n",
            "Average loss at step 10: 0.090721\n",
            "\tDecreasing learning rate by 0.5\n",
            "\tTest MSE: 10.64304\n",
            "\tFinished Predictions\n",
            "Average loss at step 11: 0.101423\n",
            "\tTest MSE: 10.58404\n",
            "\tFinished Predictions\n",
            "Average loss at step 12: 0.104220\n",
            "\tTest MSE: 10.42283\n",
            "\tFinished Predictions\n",
            "Average loss at step 13: 0.105108\n",
            "\tDecreasing learning rate by 0.5\n",
            "\tTest MSE: 10.29132\n",
            "\tFinished Predictions\n",
            "Average loss at step 14: 0.103136\n",
            "\tTest MSE: 10.27912\n",
            "\tFinished Predictions\n",
            "Average loss at step 15: 0.090585\n",
            "\tTest MSE: 10.28997\n",
            "\tFinished Predictions\n",
            "Average loss at step 16: 0.079571\n",
            "\tDecreasing learning rate by 0.5\n",
            "\tTest MSE: 10.28851\n",
            "\tFinished Predictions\n",
            "Average loss at step 17: 0.074222\n",
            "\tTest MSE: 10.28217\n",
            "\tFinished Predictions\n",
            "Average loss at step 18: 0.079354\n",
            "\tTest MSE: 10.27827\n",
            "\tFinished Predictions\n",
            "Average loss at step 19: 0.076167\n",
            "\tDecreasing learning rate by 0.5\n",
            "\tTest MSE: 10.27549\n",
            "\tFinished Predictions\n",
            "Average loss at step 20: 0.067807\n",
            "\tTest MSE: 10.26756\n",
            "\tFinished Predictions\n",
            "Average loss at step 21: 0.082407\n",
            "\tTest MSE: 10.25458\n",
            "\tFinished Predictions\n",
            "Average loss at step 22: 0.091379\n",
            "\tDecreasing learning rate by 0.5\n",
            "\tTest MSE: 10.23635\n",
            "\tFinished Predictions\n"
          ],
          "name": "stdout"
        }
      ]
    },
    {
      "cell_type": "code",
      "metadata": {
        "id": "CPakyFZLxCK9",
        "colab_type": "code",
        "outputId": "76a0c001-364d-4386-d58a-a42a76fdea2e",
        "colab": {
          "base_uri": "https://localhost:8080/",
          "height": 1000
        }
      },
      "source": [
        "best_prediction_epoch = 17 \n",
        "\n",
        "plt.figure(figsize = (18,18))\n",
        "plt.subplot(2,1,1)\n",
        "plt.plot(range(df.shape[0]),all_mid_data,color='b')\n",
        "\n",
        "# Plotting how the predictions change over time\n",
        "# Plot older predictions with low alpha and newer predictions with high alpha\n",
        "start_alpha = 0.25\n",
        "alpha  = np.arange(start_alpha,1.1,(1.0-start_alpha)/len(predictions_over_time[::3]))\n",
        "for p_i,p in enumerate(predictions_over_time[::3]):\n",
        "    for xval,yval in zip(x_axis_seq,p):\n",
        "        plt.plot(xval,yval,color='r',alpha=alpha[p_i])\n",
        "\n",
        "plt.title('Evolution of Test Predictions Over Time',fontsize=18)\n",
        "plt.xlabel('Date',fontsize=18)\n",
        "plt.ylabel('Mid Price',fontsize=18)\n",
        "plt.xlim(0,5033)\n",
        "\n",
        "plt.subplot(2,1,2)\n",
        "\n",
        "# Predicting the best test prediction you got\n",
        "plt.plot(range(df.shape[0]),all_mid_data,color='b')\n",
        "for xval,yval in zip(x_axis_seq,predictions_over_time[best_prediction_epoch]):\n",
        "    plt.plot(xval,yval,color='r')\n",
        "    \n",
        "plt.title('Best Test Predictions Over Time',fontsize=18)\n",
        "plt.xlabel('Date',fontsize=18)\n",
        "plt.ylabel('Mid Price',fontsize=18)\n",
        "plt.xlim(11000,12500)\n",
        "plt.show()"
      ],
      "execution_count": 0,
      "outputs": [
        {
          "output_type": "display_data",
          "data": {
            "image/png": "[encoded data removed]",
            "text/plain": [
              "<Figure size 1296x1296 with 2 Axes>"
            ]
          },
          "metadata": {
            "tags": []
          }
        }
      ]
    },
    {
      "cell_type": "code",
      "metadata": {
        "id": "Ul9UQmBjxLki",
        "colab_type": "code",
        "outputId": "fee877a1-746b-480c-917e-1a4a73c23df3",
        "colab": {
          "base_uri": "https://localhost:8080/",
          "height": 50
        }
      },
      "source": [
        "all_mid_data"
      ],
      "execution_count": 0,
      "outputs": [
        {
          "output_type": "execute_result",
          "data": {
            "text/plain": [
              "array([ 0.08516301,  0.16421232,  0.23378946, ..., 16.08733848,\n",
              "       16.34282912, 16.40927118])"
            ]
          },
          "metadata": {
            "tags": []
          },
          "execution_count": 85
        }
      ]
    },
    {
      "cell_type": "code",
      "metadata": {
        "id": "Kc_An9Z9_qH3",
        "colab_type": "code",
        "colab": {}
      },
      "source": [
        ""
      ],
      "execution_count": 0,
      "outputs": []
    }
  ]
}