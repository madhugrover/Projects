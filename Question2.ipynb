{
 "cells": [
  {
   "cell_type": "markdown",
   "metadata": {},
   "source": [
    "### Importing libraries and loading the dataframe"
   ]
  },
  {
   "cell_type": "code",
   "execution_count": 32,
   "metadata": {},
   "outputs": [],
   "source": [
    "import numpy as np\n",
    "import pandas as pd\n",
    "df = pd.read_csv(\"PE_ratio.csv\")"
   ]
  },
  {
   "cell_type": "markdown",
   "metadata": {},
   "source": [
    "### removing null values and making PE ratio column numeric"
   ]
  },
  {
   "cell_type": "code",
   "execution_count": 33,
   "metadata": {},
   "outputs": [
    {
     "data": {
      "text/plain": [
       "Ticker             object\n",
       "INDUSTRY_SECTOR    object\n",
       "PE_RATIO           object\n",
       "dtype: object"
      ]
     },
     "execution_count": 33,
     "metadata": {},
     "output_type": "execute_result"
    }
   ],
   "source": [
    "df = df.dropna()\n",
    "df =df[pd.to_numeric(df['PE_RATIO'], errors='coerce').notnull()]\n",
    "df.dtypes"
   ]
  },
  {
   "cell_type": "code",
   "execution_count": 34,
   "metadata": {},
   "outputs": [
    {
     "data": {
      "text/plain": [
       "Ticker              object\n",
       "INDUSTRY_SECTOR     object\n",
       "PE_RATIO           float64\n",
       "dtype: object"
      ]
     },
     "execution_count": 34,
     "metadata": {},
     "output_type": "execute_result"
    }
   ],
   "source": [
    "def coerce_df_columns_to_numeric(df, column_list):\n",
    "    df[column_list]= df[column_list].apply(pd.to_numeric, errors ='coerce')\n",
    "coerce_df_columns_to_numeric(df,['PE_RATIO'])\n",
    "df.dtypes"
   ]
  },
  {
   "cell_type": "code",
   "execution_count": 35,
   "metadata": {},
   "outputs": [
    {
     "data": {
      "text/html": [
       "<div>\n",
       "<style scoped>\n",
       "    .dataframe tbody tr th:only-of-type {\n",
       "        vertical-align: middle;\n",
       "    }\n",
       "\n",
       "    .dataframe tbody tr th {\n",
       "        vertical-align: top;\n",
       "    }\n",
       "\n",
       "    .dataframe thead th {\n",
       "        text-align: right;\n",
       "    }\n",
       "</style>\n",
       "<table border=\"1\" class=\"dataframe\">\n",
       "  <thead>\n",
       "    <tr style=\"text-align: right;\">\n",
       "      <th></th>\n",
       "      <th>PE_RATIO</th>\n",
       "    </tr>\n",
       "  </thead>\n",
       "  <tbody>\n",
       "    <tr>\n",
       "      <th>count</th>\n",
       "      <td>492.000000</td>\n",
       "    </tr>\n",
       "    <tr>\n",
       "      <th>mean</th>\n",
       "      <td>33.614505</td>\n",
       "    </tr>\n",
       "    <tr>\n",
       "      <th>std</th>\n",
       "      <td>133.420755</td>\n",
       "    </tr>\n",
       "    <tr>\n",
       "      <th>min</th>\n",
       "      <td>5.213177</td>\n",
       "    </tr>\n",
       "    <tr>\n",
       "      <th>25%</th>\n",
       "      <td>15.700018</td>\n",
       "    </tr>\n",
       "    <tr>\n",
       "      <th>50%</th>\n",
       "      <td>20.101022</td>\n",
       "    </tr>\n",
       "    <tr>\n",
       "      <th>75%</th>\n",
       "      <td>25.767417</td>\n",
       "    </tr>\n",
       "    <tr>\n",
       "      <th>max</th>\n",
       "      <td>2520.285578</td>\n",
       "    </tr>\n",
       "  </tbody>\n",
       "</table>\n",
       "</div>"
      ],
      "text/plain": [
       "          PE_RATIO\n",
       "count   492.000000\n",
       "mean     33.614505\n",
       "std     133.420755\n",
       "min       5.213177\n",
       "25%      15.700018\n",
       "50%      20.101022\n",
       "75%      25.767417\n",
       "max    2520.285578"
      ]
     },
     "execution_count": 35,
     "metadata": {},
     "output_type": "execute_result"
    }
   ],
   "source": [
    "df.describe()"
   ]
  },
  {
   "cell_type": "markdown",
   "metadata": {},
   "source": [
    "### Removing outliers"
   ]
  },
  {
   "cell_type": "code",
   "execution_count": 36,
   "metadata": {},
   "outputs": [],
   "source": [
    "is_300 = df['PE_RATIO'] < 300\n",
    "df = df[is_300]"
   ]
  },
  {
   "cell_type": "markdown",
   "metadata": {},
   "source": [
    "### Grouping data by sector "
   ]
  },
  {
   "cell_type": "code",
   "execution_count": 37,
   "metadata": {},
   "outputs": [],
   "source": [
    "df = df.groupby(['INDUSTRY_SECTOR','Ticker'])['PE_RATIO'].sum().reset_index()"
   ]
  },
  {
   "cell_type": "code",
   "execution_count": 38,
   "metadata": {},
   "outputs": [
    {
     "name": "stdout",
     "output_type": "stream",
     "text": [
      "Basic Materials\n",
      "Communications\n",
      "Consumer, Cyclical\n",
      "Consumer, Non-cyclical\n",
      "Energy\n",
      "Financial\n",
      "Industrial\n",
      "Technology\n",
      "Utilities\n"
     ]
    }
   ],
   "source": [
    "for industry in df['INDUSTRY_SECTOR'].unique():\n",
    "    print(industry)"
   ]
  },
  {
   "cell_type": "code",
   "execution_count": 39,
   "metadata": {},
   "outputs": [],
   "source": [
    "for industry in df['INDUSTRY_SECTOR'].unique():\n",
    "    BM = pd.DataFrame(df[df.INDUSTRY_SECTOR== 'Basic Materials'])\n",
    "    c = pd.DataFrame(df[df.INDUSTRY_SECTOR== 'Communications'])\n",
    "    cc = pd.DataFrame(df[df.INDUSTRY_SECTOR== 'Consumer, Cyclical'])\n",
    "    cn = pd.DataFrame(df[df.INDUSTRY_SECTOR== 'Consumer, Non-cyclical'])\n",
    "    e = pd.DataFrame(df[df.INDUSTRY_SECTOR== 'Energy'])\n",
    "    f = pd.DataFrame(df[df.INDUSTRY_SECTOR== 'Financial'])\n",
    "    i = pd.DataFrame(df[df.INDUSTRY_SECTOR== 'Industrial'])\n",
    "    t = pd.DataFrame(df[df.INDUSTRY_SECTOR== 'Technology'])\n",
    "    u = pd.DataFrame(df[df.INDUSTRY_SECTOR== 'Utilities'])"
   ]
  },
  {
   "cell_type": "markdown",
   "metadata": {},
   "source": [
    "### Calculating Quintile range (qr) and quintile (q)"
   ]
  },
  {
   "cell_type": "code",
   "execution_count": 40,
   "metadata": {},
   "outputs": [],
   "source": [
    "BM['qr']= pd.qcut(BM['PE_RATIO'],q=5)\n",
    "BM['q']= pd.qcut(BM['PE_RATIO'],q=[0,.2,.4,.6,.8,1], labels=False)\n",
    "c['qr']= pd.qcut(c['PE_RATIO'],q=5)\n",
    "c['q']= pd.qcut(c['PE_RATIO'],q=[0,.2,.4,.6,.8,1], labels=False)\n",
    "cc['qr']= pd.qcut(cc['PE_RATIO'],q=5)\n",
    "cc['q']= pd.qcut(cc['PE_RATIO'],q=[0,.2,.4,.6,.8,1], labels=False)\n",
    "cn['qr']= pd.qcut(cn['PE_RATIO'],q=5)\n",
    "cn['q']= pd.qcut(cn['PE_RATIO'],q=[0,.2,.4,.6,.8,1], labels=False)\n",
    "e['qr']= pd.qcut(e['PE_RATIO'],q=5)\n",
    "e['q']= pd.qcut(e['PE_RATIO'],q=[0,.2,.4,.6,.8,1], labels=False)\n",
    "f['qr']= pd.qcut(f['PE_RATIO'],q=5)\n",
    "f['q']= pd.qcut(f['PE_RATIO'],q=[0,.2,.4,.6,.8,1], labels=False)\n",
    "i['qr']= pd.qcut(i['PE_RATIO'],q=5)\n",
    "i['q']= pd.qcut(i['PE_RATIO'],q=[0,.2,.4,.6,.8,1], labels=False)\n",
    "t['qr']= pd.qcut(t['PE_RATIO'],q=5)\n",
    "t['q']= pd.qcut(t['PE_RATIO'],q=[0,.2,.4,.6,.8,1], labels=False)\n",
    "u['qr']= pd.qcut(u['PE_RATIO'],q=5)\n",
    "u['q']= pd.qcut(u['PE_RATIO'],q=[0,.2,.4,.6,.8,1], labels=False)"
   ]
  },
  {
   "cell_type": "markdown",
   "metadata": {},
   "source": [
    "### New database with quintile range and values"
   ]
  },
  {
   "cell_type": "code",
   "execution_count": 41,
   "metadata": {},
   "outputs": [
    {
     "data": {
      "text/plain": [
       "(489, 5)"
      ]
     },
     "execution_count": 41,
     "metadata": {},
     "output_type": "execute_result"
    }
   ],
   "source": [
    "df_quintile =pd.concat([BM,c,cc,cn,e,f,i,t,u])\n",
    "df_quintile.shape"
   ]
  },
  {
   "cell_type": "code",
   "execution_count": 42,
   "metadata": {},
   "outputs": [
    {
     "data": {
      "text/plain": [
       "0    101\n",
       "4    100\n",
       "3     96\n",
       "2     96\n",
       "1     96\n",
       "Name: q, dtype: int64"
      ]
     },
     "execution_count": 42,
     "metadata": {},
     "output_type": "execute_result"
    }
   ],
   "source": [
    "df_quintile['q'].value_counts()"
   ]
  },
  {
   "cell_type": "code",
   "execution_count": 43,
   "metadata": {},
   "outputs": [
    {
     "data": {
      "image/png": "[encoded data removed]",
      "text/plain": [
       "<Figure size 432x288 with 1 Axes>"
      ]
     },
     "metadata": {
      "needs_background": "light"
     },
     "output_type": "display_data"
    }
   ],
   "source": [
    "import matplotlib.pyplot as plt\n",
    "import seaborn as sns\n",
    "sns.countplot(y=\"INDUSTRY_SECTOR\", hue=\"q\", data=df_quintile, palette=\"Greens_d\")\n",
    "plt.show()"
   ]
  },
  {
   "cell_type": "code",
   "execution_count": 44,
   "metadata": {},
   "outputs": [
    {
     "data": {
      "text/html": [
       "<div>\n",
       "<style scoped>\n",
       "    .dataframe tbody tr th:only-of-type {\n",
       "        vertical-align: middle;\n",
       "    }\n",
       "\n",
       "    .dataframe tbody tr th {\n",
       "        vertical-align: top;\n",
       "    }\n",
       "\n",
       "    .dataframe thead th {\n",
       "        text-align: right;\n",
       "    }\n",
       "</style>\n",
       "<table border=\"1\" class=\"dataframe\">\n",
       "  <thead>\n",
       "    <tr style=\"text-align: right;\">\n",
       "      <th></th>\n",
       "      <th>INDUSTRY_SECTOR</th>\n",
       "      <th>Ticker</th>\n",
       "      <th>PE_RATIO</th>\n",
       "      <th>qr</th>\n",
       "      <th>q</th>\n",
       "    </tr>\n",
       "  </thead>\n",
       "  <tbody>\n",
       "    <tr>\n",
       "      <th>0</th>\n",
       "      <td>Basic Materials</td>\n",
       "      <td>AA UN Equity</td>\n",
       "      <td>16.912083</td>\n",
       "      <td>(15.408, 19.072]</td>\n",
       "      <td>1</td>\n",
       "    </tr>\n",
       "    <tr>\n",
       "      <th>1</th>\n",
       "      <td>Basic Materials</td>\n",
       "      <td>APD UN Equity</td>\n",
       "      <td>25.753293</td>\n",
       "      <td>(25.575, 94.236]</td>\n",
       "      <td>4</td>\n",
       "    </tr>\n",
       "    <tr>\n",
       "      <th>2</th>\n",
       "      <td>Basic Materials</td>\n",
       "      <td>ARG UN Equity</td>\n",
       "      <td>23.713115</td>\n",
       "      <td>(23.407, 25.575]</td>\n",
       "      <td>3</td>\n",
       "    </tr>\n",
       "    <tr>\n",
       "      <th>3</th>\n",
       "      <td>Basic Materials</td>\n",
       "      <td>ATI UN Equity</td>\n",
       "      <td>94.236034</td>\n",
       "      <td>(25.575, 94.236]</td>\n",
       "      <td>4</td>\n",
       "    </tr>\n",
       "    <tr>\n",
       "      <th>4</th>\n",
       "      <td>Basic Materials</td>\n",
       "      <td>CF UN Equity</td>\n",
       "      <td>15.323313</td>\n",
       "      <td>(8.788, 15.408]</td>\n",
       "      <td>0</td>\n",
       "    </tr>\n",
       "  </tbody>\n",
       "</table>\n",
       "</div>"
      ],
      "text/plain": [
       "   INDUSTRY_SECTOR         Ticker   PE_RATIO                qr  q\n",
       "0  Basic Materials   AA UN Equity  16.912083  (15.408, 19.072]  1\n",
       "1  Basic Materials  APD UN Equity  25.753293  (25.575, 94.236]  4\n",
       "2  Basic Materials  ARG UN Equity  23.713115  (23.407, 25.575]  3\n",
       "3  Basic Materials  ATI UN Equity  94.236034  (25.575, 94.236]  4\n",
       "4  Basic Materials   CF UN Equity  15.323313   (8.788, 15.408]  0"
      ]
     },
     "execution_count": 44,
     "metadata": {},
     "output_type": "execute_result"
    }
   ],
   "source": [
    "df_quintile.head()"
   ]
  },
  {
   "cell_type": "code",
   "execution_count": null,
   "metadata": {},
   "outputs": [],
   "source": []
  }
 ],
 "metadata": {
  "kernelspec": {
   "display_name": "Python 3",
   "language": "python",
   "name": "python3"
  },
  "language_info": {
   "codemirror_mode": {
    "name": "ipython",
    "version": 3
   },
   "file_extension": ".py",
   "mimetype": "text/x-python",
   "name": "python",
   "nbconvert_exporter": "python",
   "pygments_lexer": "ipython3",
   "version": "3.7.4"
  }
 },
 "nbformat": 4,
 "nbformat_minor": 2
}
